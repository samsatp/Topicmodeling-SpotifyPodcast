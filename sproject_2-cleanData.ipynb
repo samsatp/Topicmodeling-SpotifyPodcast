{
  "nbformat": 4,
  "nbformat_minor": 0,
  "metadata": {
    "colab": {
      "name": "sproject-cleanData.ipynb",
      "provenance": [],
      "collapsed_sections": []
    },
    "kernelspec": {
      "name": "python3",
      "display_name": "Python 3"
    },
    "language_info": {
      "name": "python"
    }
  },
  "cells": [
    {
      "cell_type": "code",
      "metadata": {
        "colab": {
          "base_uri": "https://localhost:8080/",
          "height": 304
        },
        "id": "QsneR2_4zVlE",
        "outputId": "0ca607da-f585-4bda-dd6a-0ed9d78a3830"
      },
      "source": [
        "import pandas as pd\n",
        "\n",
        "df = pd.read_csv(\"total_df.csv\")\n",
        "\n",
        "print(f'data shape: {df.shape}')\n",
        "df.head()"
      ],
      "execution_count": 2,
      "outputs": [
        {
          "output_type": "stream",
          "text": [
            "data shape: (14127, 5)\n"
          ],
          "name": "stdout"
        },
        {
          "output_type": "execute_result",
          "data": {
            "text/html": [
              "<div>\n",
              "<style scoped>\n",
              "    .dataframe tbody tr th:only-of-type {\n",
              "        vertical-align: middle;\n",
              "    }\n",
              "\n",
              "    .dataframe tbody tr th {\n",
              "        vertical-align: top;\n",
              "    }\n",
              "\n",
              "    .dataframe thead th {\n",
              "        text-align: right;\n",
              "    }\n",
              "</style>\n",
              "<table border=\"1\" class=\"dataframe\">\n",
              "  <thead>\n",
              "    <tr style=\"text-align: right;\">\n",
              "      <th></th>\n",
              "      <th>ep_id</th>\n",
              "      <th>ep_name</th>\n",
              "      <th>show_name</th>\n",
              "      <th>description</th>\n",
              "      <th>label</th>\n",
              "    </tr>\n",
              "  </thead>\n",
              "  <tbody>\n",
              "    <tr>\n",
              "      <th>0</th>\n",
              "      <td>2QwU0zzueDDoi0fN3Kf0HR</td>\n",
              "      <td>#57 - Prof. Melanie Mitchell - Why AI is harde...</td>\n",
              "      <td>Machine Learning Street Talk</td>\n",
              "      <td>Since its beginning in the 1950s, the field of...</td>\n",
              "      <td>machine learning</td>\n",
              "    </tr>\n",
              "    <tr>\n",
              "      <th>1</th>\n",
              "      <td>1ir7MrWUBwUI6AE7Na5diX</td>\n",
              "      <td>#56 - Dr. Walid Saba, Gadi Singer, Prof. J. Ma...</td>\n",
              "      <td>Machine Learning Street Talk</td>\n",
              "      <td>It has been over three decades since the stati...</td>\n",
              "      <td>machine learning</td>\n",
              "    </tr>\n",
              "    <tr>\n",
              "      <th>2</th>\n",
              "      <td>1ACeGKFk4syDdcRuuuSZP7</td>\n",
              "      <td>#55 Self-Supervised Vision Models (Dr. Ishan M...</td>\n",
              "      <td>Machine Learning Street Talk</td>\n",
              "      <td>Dr. Ishan Misra is a Research Scientist at Fac...</td>\n",
              "      <td>machine learning</td>\n",
              "    </tr>\n",
              "    <tr>\n",
              "      <th>3</th>\n",
              "      <td>1vuc4azX8Mb0sl0lKOmxZi</td>\n",
              "      <td>#54 Gary Marcus and Luis Lamb - Neurosymbolic ...</td>\n",
              "      <td>Machine Learning Street Talk</td>\n",
              "      <td>Professor Gary Marcus is a scientist, best-sel...</td>\n",
              "      <td>machine learning</td>\n",
              "    </tr>\n",
              "    <tr>\n",
              "      <th>4</th>\n",
              "      <td>6DrRmtpKKpH3yYJ6yPoMR2</td>\n",
              "      <td>#53 Quantum Natural Language Processing - Prof...</td>\n",
              "      <td>Machine Learning Street Talk</td>\n",
              "      <td>Bob Coercke is a celebrated physicist, he's be...</td>\n",
              "      <td>machine learning</td>\n",
              "    </tr>\n",
              "  </tbody>\n",
              "</table>\n",
              "</div>"
            ],
            "text/plain": [
              "                    ep_id  ...             label\n",
              "0  2QwU0zzueDDoi0fN3Kf0HR  ...  machine learning\n",
              "1  1ir7MrWUBwUI6AE7Na5diX  ...  machine learning\n",
              "2  1ACeGKFk4syDdcRuuuSZP7  ...  machine learning\n",
              "3  1vuc4azX8Mb0sl0lKOmxZi  ...  machine learning\n",
              "4  6DrRmtpKKpH3yYJ6yPoMR2  ...  machine learning\n",
              "\n",
              "[5 rows x 5 columns]"
            ]
          },
          "metadata": {
            "tags": []
          },
          "execution_count": 2
        }
      ]
    },
    {
      "cell_type": "markdown",
      "metadata": {
        "id": "A8ywXC0odNrw"
      },
      "source": [
        "# Clean data\n",
        "- Check for null values\n",
        "- Check for duplicates\n",
        "- Check data stats"
      ]
    },
    {
      "cell_type": "code",
      "metadata": {
        "colab": {
          "base_uri": "https://localhost:8080/"
        },
        "id": "LceatU6vaWq7",
        "outputId": "a5244a59-2dac-4f82-f45c-939af651c1ad"
      },
      "source": [
        "df.isnull().sum()"
      ],
      "execution_count": 3,
      "outputs": [
        {
          "output_type": "execute_result",
          "data": {
            "text/plain": [
              "ep_id            0\n",
              "ep_name          0\n",
              "show_name        0\n",
              "description    152\n",
              "label            0\n",
              "dtype: int64"
            ]
          },
          "metadata": {
            "tags": []
          },
          "execution_count": 3
        }
      ]
    },
    {
      "cell_type": "code",
      "metadata": {
        "colab": {
          "base_uri": "https://localhost:8080/"
        },
        "id": "obhgIsOwdXT0",
        "outputId": "6ee6832b-b798-4b23-d993-6c98025edbd9"
      },
      "source": [
        "df_notnull = df.dropna(subset=['description'])  # Drop null descriptions\n",
        "df_notnull.duplicated(keep=False).sum()  # Check all the duplicates"
      ],
      "execution_count": 4,
      "outputs": [
        {
          "output_type": "execute_result",
          "data": {
            "text/plain": [
              "520"
            ]
          },
          "metadata": {
            "tags": []
          },
          "execution_count": 4
        }
      ]
    },
    {
      "cell_type": "code",
      "metadata": {
        "id": "KTicOrCPdnI3"
      },
      "source": [
        "df_notnull_notdup = df_notnull.drop_duplicates(keep='first')  # Drop duplicates"
      ],
      "execution_count": 5,
      "outputs": []
    },
    {
      "cell_type": "code",
      "metadata": {
        "colab": {
          "base_uri": "https://localhost:8080/"
        },
        "id": "lEW9y2I-ecWg",
        "outputId": "d23010bc-3db0-41ca-f170-a6535dc6376f"
      },
      "source": [
        "df_notnull_notdup.label.value_counts()  # Check data stats"
      ],
      "execution_count": 6,
      "outputs": [
        {
          "output_type": "execute_result",
          "data": {
            "text/plain": [
              "kid                 1893\n",
              "lifestyle           1653\n",
              "business            1516\n",
              "crime               1483\n",
              "politics            1401\n",
              "comedy              1348\n",
              "sport               1238\n",
              "culture             1183\n",
              "machine learning    1037\n",
              "cooking              963\n",
              "Name: label, dtype: int64"
            ]
          },
          "metadata": {
            "tags": []
          },
          "execution_count": 6
        }
      ]
    },
    {
      "cell_type": "markdown",
      "metadata": {
        "id": "dVuY96Eruril"
      },
      "source": [
        "# Extract URLs\n",
        "> 🤔 **Question:** Is tokenizer in the Sklearn, Tensorflow, Pre-trained able to tokenize the url as `<oov>` ?<br>\n",
        "> → If they can, the processes below in this block can be skipped.\n",
        "\n",
        "**Todos**:\n",
        "1. Extract full url\n",
        "    - *test*: If out-of-the-box tokenizers can mask the url as `<oov>` or `[unk]`. We need to mask it because it would not make sense to split the url into tokens. *Add them to special tokens set to ensure they won’t be split by the tokenization process.*\n",
        "    - If ✔ , use them\n",
        "    - If ✖ , we need to mask those url ourself\n",
        "2. Extract web domain (optional)\n",
        "    - Just to see the most web mentioned in description\n",
        "3. Filter out meaningless descriptions *(Is this step needed?)*"
      ]
    },
    {
      "cell_type": "markdown",
      "metadata": {
        "id": "n33RGyCq8y6g"
      },
      "source": [
        "## Test tokenizers\n",
        "- Is they can mask url as unknown token.\n",
        "    - Sklearn\n",
        "    - Tensorflow\n",
        "    - 🤗 Transformer"
      ]
    },
    {
      "cell_type": "markdown",
      "metadata": {
        "id": "hzq2KZXO-rh9"
      },
      "source": [
        "### 0) Detect rows containing url"
      ]
    },
    {
      "cell_type": "code",
      "metadata": {
        "id": "-9vzKayZ9moF"
      },
      "source": [
        "import re\n",
        "import numpy as np\n",
        "\n",
        "regex_url = \"((?:https?://)?(?:(?:www\\.)?(?:[\\da-z\\.-]+)\\.(?:[a-z]{2,6})|(?:(?:25[0-5]|2[0-4][0-9]|[01]?[0-9][0-9]?)\\.){3}(?:25[0-5]|2[0-4][0-9]|[01]?[0-9][0-9]?)|(?:(?:[0-9a-fA-F]{1,4}:){7,7}[0-9a-fA-F]{1,4}|(?:[0-9a-fA-F]{1,4}:){1,7}:|(?:[0-9a-fA-F]{1,4}:){1,6}:[0-9a-fA-F]{1,4}|(?:[0-9a-fA-F]{1,4}:){1,5}(?::[0-9a-fA-F]{1,4}){1,2}|(?:[0-9a-fA-F]{1,4}:){1,4}(?::[0-9a-fA-F]{1,4}){1,3}|(?:[0-9a-fA-F]{1,4}:){1,3}(?::[0-9a-fA-F]{1,4}){1,4}|(?:[0-9a-fA-F]{1,4}:){1,2}(?::[0-9a-fA-F]{1,4}){1,5}|[0-9a-fA-F]{1,4}:(?:(?::[0-9a-fA-F]{1,4}){1,6})|:(?:(?::[0-9a-fA-F]{1,4}){1,7}|:)|fe80:(?::[0-9a-fA-F]{0,4}){0,4}%[0-9a-zA-Z]{1,}|::(?:ffff(?::0{1,4}){0,1}:){0,1}(?:(?:25[0-5]|(?:2[0-4]|1{0,1}[0-9]){0,1}[0-9])\\.){3,3}(?:25[0-5]|(?:2[0-4]|1{0,1}[0-9]){0,1}[0-9])|(?:[0-9a-fA-F]{1,4}:){1,4}:(?:(?:25[0-5]|(?:2[0-4]|1{0,1}[0-9]){0,1}[0-9])\\.){3,3}(?:25[0-5]|(?:2[0-4]|1{0,1}[0-9]){0,1}[0-9])))(?::[0-9]{1,4}|[1-5][0-9]{4}|6[0-4][0-9]{3}|65[0-4][0-9]{2}|655[0-2][0-9]|6553[0-5])?(?:/[\\w\\.-]*)*/?)\"\n",
        "def extract_url_v2(desc: str):\n",
        "    '''\n",
        "        Extract full url from description\n",
        "    '''\n",
        "    extracted = re.findall(regex_url, desc)\n",
        "    if len(extracted) !=0 :\n",
        "        return extracted\n",
        "    return np.nan  # If not have url, return NaN\n",
        "\n",
        "\"\"\"def extract_url(desc: str):\n",
        "    '''\n",
        "        Extract full url from description\n",
        "    '''\n",
        "    extracted = re.findall(\"https?://[^\\s]+\", desc)\n",
        "    if len(extracted) !=0 :\n",
        "        return extracted\n",
        "    return np.nan  # If not have url, return NaN\n",
        "\"\"\"\n",
        "def extract_web(desc:str):\n",
        "    '''\n",
        "        Extract web domain\n",
        "    '''\n",
        "    extracted = re.findall('https?://(?:[-\\w.]|(?:%[\\da-fA-F]{2}))+', desc)\n",
        "    if len(extracted) != 0:\n",
        "        return extracted\n",
        "    return np.nan\n",
        "\n",
        "web_from_desc = df_notnull_notdup.apply(lambda x: extract_web(x['description']), axis=1)\n",
        "url_from_desc = df_notnull_notdup.apply(lambda x: extract_url_v2(x['description']), axis=1)"
      ],
      "execution_count": 7,
      "outputs": []
    },
    {
      "cell_type": "code",
      "metadata": {
        "colab": {
          "base_uri": "https://localhost:8080/"
        },
        "id": "lIY_wCrz-oFh",
        "outputId": "8ad8e090-9de8-46d6-950f-8495801a979c"
      },
      "source": [
        "url_from_desc.dropna()  # Extraced url samples"
      ],
      "execution_count": 8,
      "outputs": [
        {
          "output_type": "execute_result",
          "data": {
            "text/plain": [
              "0        [https://www.youtube.com/watch, https://www.yo...\n",
              "1        [https://www.linkedin.com/in/gadi-singer/, htt...\n",
              "2        [https://arxiv.org/abs/1603.08561, https://arx...\n",
              "6        [https://youtu.be/J0p_thJJnoo, https://whimsic...\n",
              "7        [https://whimsical.com/mar-26th-christian-szeg...\n",
              "                               ...                        \n",
              "14106    [fire...these, romisesrecoverycenters.com, www...\n",
              "14114                      [ear.com, crushingyourfear.com]\n",
              "14117                                  [rushingtheday.com]\n",
              "14118               [breakfreeacademy.com, omaskeenan.com]\n",
              "14123                                       [hillmeat.com]\n",
              "Length: 7524, dtype: object"
            ]
          },
          "metadata": {
            "tags": []
          },
          "execution_count": 8
        }
      ]
    },
    {
      "cell_type": "code",
      "metadata": {
        "colab": {
          "base_uri": "https://localhost:8080/"
        },
        "id": "zSR_UCBL-pVQ",
        "outputId": "db22df06-a831-484a-ce3d-19ab3916b409"
      },
      "source": [
        "notHaveUrl = url_from_desc.isnull().sum() / len(url_from_desc)\n",
        "\n",
        "print(f'Number of descriptions that not have url in description: {np.round(notHaveUrl * 100, 3)} %\\n')\n",
        "print(f'Top 10 websites mentioned most often in Podcast description :\\n{web_from_desc.explode().value_counts()[:10]}')"
      ],
      "execution_count": 9,
      "outputs": [
        {
          "output_type": "stream",
          "text": [
            "Number of descriptions that not have url in description: 45.14 %\n",
            "\n",
            "Top 10 websites mentioned most often in Podcast description :\n",
            "https://anchor.fm            2464\n",
            "https://twitter.com          1140\n",
            "https://amzn.to               762\n",
            "https://www.instagram.com     605\n",
            "https://www.facebook.com      484\n",
            "https://art19.com             474\n",
            "https://www.patreon.com       426\n",
            "https://www.youtube.com       411\n",
            "https://redcircle.com         292\n",
            "https://ronakblog.com         278\n",
            "dtype: int64\n"
          ],
          "name": "stdout"
        }
      ]
    },
    {
      "cell_type": "code",
      "metadata": {
        "id": "UNnIljIq-5EN"
      },
      "source": [
        "hasUrl = ~url_from_desc.isnull()"
      ],
      "execution_count": 10,
      "outputs": []
    },
    {
      "cell_type": "markdown",
      "metadata": {
        "id": "YMuaejjREi_S"
      },
      "source": [
        "### 1) Test 🤗Tokenizer"
      ]
    },
    {
      "cell_type": "code",
      "metadata": {
        "id": "kSfKRafNFVCJ"
      },
      "source": [
        "from IPython.display import clear_output\n",
        "\n",
        "! pip install transformers[sentencepiece]\n",
        "clear_output()"
      ],
      "execution_count": 11,
      "outputs": []
    },
    {
      "cell_type": "code",
      "metadata": {
        "id": "dS9xWnpbEsYu"
      },
      "source": [
        "from transformers import BertTokenizer\n",
        "\n",
        "checkpoint = \"bert-base-cased\"\n",
        "tokenizer = BertTokenizer.from_pretrained(checkpoint); clear_output()"
      ],
      "execution_count": 12,
      "outputs": []
    },
    {
      "cell_type": "code",
      "metadata": {
        "colab": {
          "base_uri": "https://localhost:8080/"
        },
        "id": "WHYO7hDZGmAN",
        "outputId": "755a83e4-8393-4b0c-f00a-8b2aebb9e62d"
      },
      "source": [
        "sentence = \"The field of artificial in 1976 [UNK] has educated in https://www.youtube.com/watch?v=A8m1Oqz2HKc\"\n",
        "print(sentence)\n",
        "\n",
        "tokens = tokenizer.tokenize(sentence)\n",
        "print(tokens)\n",
        "\n",
        "ids = tokenizer.convert_tokens_to_ids(tokens)\n",
        "print(ids)"
      ],
      "execution_count": 13,
      "outputs": [
        {
          "output_type": "stream",
          "text": [
            "The field of artificial in 1976 [UNK] has educated in https://www.youtube.com/watch?v=A8m1Oqz2HKc\n",
            "['The', 'field', 'of', 'artificial', 'in', '1976', '[UNK]', 'has', 'educated', 'in', 'https', ':', '/', '/', 'www', '.', 'you', '##tub', '##e', '.', 'com', '/', 'watch', '?', 'v', '=', 'A', '##8', '##m', '##1', '##O', '##q', '##z', '##2', '##H', '##K', '##c']\n",
            "[1109, 1768, 1104, 8246, 1107, 2402, 100, 1144, 4512, 1107, 18630, 131, 120, 120, 7001, 119, 1128, 25098, 1162, 119, 3254, 120, 2824, 136, 191, 134, 138, 1604, 1306, 1475, 2346, 4426, 1584, 1477, 3048, 2428, 1665]\n"
          ],
          "name": "stdout"
        }
      ]
    },
    {
      "cell_type": "code",
      "metadata": {
        "colab": {
          "base_uri": "https://localhost:8080/"
        },
        "id": "oqxZrxWfOlT5",
        "outputId": "a5ebe276-059c-444a-b45a-cbf0b7b71dfe"
      },
      "source": [
        "list(zip(tokenizer.all_special_tokens, tokenizer.all_special_ids))"
      ],
      "execution_count": 14,
      "outputs": [
        {
          "output_type": "execute_result",
          "data": {
            "text/plain": [
              "[('[UNK]', 100), ('[SEP]', 102), ('[PAD]', 0), ('[CLS]', 101), ('[MASK]', 103)]"
            ]
          },
          "metadata": {
            "tags": []
          },
          "execution_count": 14
        }
      ]
    },
    {
      "cell_type": "markdown",
      "metadata": {
        "id": "0tR4sm59OZP5"
      },
      "source": [
        "#### Result: ✖\n",
        "🤗Tokenzier cannot mask url as `[UNK]`, So we need to replace it ourselevs."
      ]
    },
    {
      "cell_type": "code",
      "metadata": {
        "id": "_174QAJdOoJb"
      },
      "source": [
        "df_notnull_notdup['desc_nonUrl'] = df_notnull_notdup['description'].apply(lambda x: re.sub(regex_url,\"[UNK]\",x))"
      ],
      "execution_count": null,
      "outputs": []
    },
    {
      "cell_type": "markdown",
      "metadata": {
        "id": "dhNMFEdUzQE-"
      },
      "source": [
        "The outcome is not perfect. Some url is not completely detected.\n",
        "> 🤔 Is there a regex that can match all the url format? "
      ]
    },
    {
      "cell_type": "code",
      "metadata": {
        "colab": {
          "base_uri": "https://localhost:8080/"
        },
        "id": "VnMrCiZwPs9W",
        "outputId": "2a2d1279-205a-4ef7-fcf1-5e08c9c348fa"
      },
      "source": [
        "for i, row in df_notnull_notdup.loc[hasUrl, ['description','desc_nonUrl']].iterrows():\n",
        "    print(f\"original : {row['description']}\")\n",
        "    print(f\"after sub: {row['desc_nonUrl']}\\n\")\n",
        "    if i==2: break"
      ],
      "execution_count": 16,
      "outputs": [
        {
          "output_type": "stream",
          "text": [
            "original : Since its beginning in the 1950s, the field of artificial intelligence has vacillated between periods of optimistic predictions and massive investment and periods of disappointment, loss of confidence, and reduced funding. Even with today’s seemingly fast pace of AI breakthroughs, the development of long-promised technologies such as self-driving cars, housekeeping robots, and conversational companions has turned out to be much harder than many people expected.  Professor Melanie Mitchell thinks one reason for these repeating cycles is our limited understanding of the nature and complexity of intelligence itself. YT vid- https://www.youtube.com/watch?v=A8m1Oqz2HKc Main show kick off [00:26:51]  Panel: Dr. Tim Scarfe, Dr. Keith Duggar, Letitia Parcalabescu (https://www.youtube.com/c/AICoffeeBreak/)\n",
            "after sub: Since its beginning in the 1950s, the field of artificial intelligence has vacillated between periods of optimistic predictions and massive investment and periods of disappointment, loss of confidence, and reduced funding. Even with today’s seemingly fast pace of AI breakthroughs, the development of long-promised technologies such as self-driving cars, housekeeping robots, and conversational companions has turned out to be much harder than many people expected.  Professor Melanie Mitchell thinks one reason for these repeating cycles is our limited understanding of the nature and complexity of intelligence itself. YT vid- [UNK]?v=A8m1Oqz2HKc Main show kick off [00:26:51]  Panel: Dr. Tim Scarfe, Dr. Keith Duggar, Letitia Parcalabescu ([UNK])\n",
            "\n",
            "original : It has been over three decades since the statistical revolution overtook AI by a storm and over two  decades since deep learning (DL) helped usher the latest resurgence of artificial intelligence (AI). However, the disappointing progress in conversational agents, NLU, and self-driving cars, has made it clear that progress has not lived up to the promise of these empirical and data-driven methods. DARPA has suggested that it is time for a third wave in AI, one that would be characterized by hybrid models – models that combine knowledge-based approaches with data-driven machine learning techniques.  Joining us on this panel discussion is polymath and linguist Walid Saba - Co-founder ONTOLOGIK.AI, Gadi Singer - VP & Director, Cognitive Computing Research, Intel Labs and J. Mark Bishop - Professor of Cognitive Computing (Emeritus), Goldsmiths, University of London and Scientific Adviser to FACT360. Moderated by Dr. Keith Duggar and Dr. Tim Scarfe https://www.linkedin.com/in/gadi-singer/ https://www.linkedin.com/in/walidsaba/ https://www.linkedin.com/in/profjmarkbishop/ #machinelearning #artificialintelligence\n",
            "after sub: It has been over three decades since the statistical revolution overtook AI by a storm and over two  decades since deep learning (DL) helped usher the latest resurgence of artificial intelligence (AI). However, the disappointing progress in conversational agents, NLU, and self-driving cars, has made it clear that progress has not lived up to the promise of these empirical and data-driven methods. DARPA has suggested that it is time for a third wave in AI, one that would be characterized by hybrid models – models that combine knowledge-based approaches with data-driven machine learning techniques.  Joining us on this panel discussion is polymath and linguist Walid Saba - Co-founder ONTOLOGIK.AI, Gadi Singer - VP & Director, Cognitive Computing Research, Intel Labs and J. Mark Bishop - Professor of Cognitive Computing (Emeritus), Goldsmiths, University of London and Scientific Adviser to FACT360. Moderated by Dr. Keith Duggar and Dr. Tim Scarfe [UNK] [UNK] [UNK] #machinelearning #artificialintelligence\n",
            "\n",
            "original : Dr. Ishan Misra is a Research Scientist at Facebook AI Research where he works on Computer Vision and Machine Learning. His main research interest is reducing the need for human supervision, and indeed, human knowledge in visual learning systems. He finished his PhD at the Robotics Institute at Carnegie Mellon. He has done stints at Microsoft Research, INRIA and Yale. His bachelors is in computer science where he achieved the highest GPA in his cohort.   Ishan is fast becoming a prolific scientist, already with more than 3000 citations under his belt and co-authoring with Yann LeCun; the godfather of deep learning.  Today though we will be focusing an exciting cluster of recent papers around unsupervised representation learning for computer vision released from FAIR. These are; DINO: Emerging Properties in Self-Supervised Vision Transformers, BARLOW TWINS: Self-Supervised Learning via Redundancy Reduction and PAWS: Semi-Supervised Learning of Visual Features by Non-Parametrically Predicting View Assignments with Support Samples. All of these papers are hot off the press, just being officially released in the last month or so. Many of you will remember PIRL: Self-Supervised Learning of Pretext-Invariant Representations which Ishan was the primary author of in 2019.  References;  Shuffle and Learn - https://arxiv.org/abs/1603.08561 DepthContrast - https://arxiv.org/abs/2101.02691 DINO - https://arxiv.org/abs/2104.14294 Barlow Twins - https://arxiv.org/abs/2103.03230 SwAV - https://arxiv.org/abs/2006.09882 PIRL - https://arxiv.org/abs/1912.01991 AVID - https://arxiv.org/abs/2004.12943 (best paper candidate at CVPR'21 (just announced over the weekend) - http://cvpr2021.thecvf.com/node/290)   Alexei (Alyosha) Efros http://people.eecs.berkeley.edu/~efros/ http://www.cs.cmu.edu/~tmalisie/projects/nips09/   Exemplar networks https://arxiv.org/abs/1406.6909   The bitter lesson - Rich Sutton http://www.incompleteideas.net/IncIdeas/BitterLesson.html   Machine Teaching: A New Paradigm for Building Machine Learning Systems https://arxiv.org/abs/1707.06742   POET https://arxiv.org/pdf/1901.01753.pdf\n",
            "after sub: Dr. Ishan Misra is a Research Scientist at Facebook AI Research where he works on Computer Vision and Machine Learning. His main research interest is reducing the need for human supervision, and indeed, human knowledge in visual learning systems. He finished his PhD at the Robotics Institute at Carnegie Mellon. He has done stints at Microsoft Research, INRIA and Yale. His bachelors is in computer science where he achieved the highest GPA in his cohort.   Ishan is fast becoming a prolific scientist, already with more than 3000 citations under his belt and co-authoring with Yann LeCun; the godfather of deep learning.  Today though we will be focusing an exciting cluster of recent papers around unsupervised representation learning for computer vision released from FAIR. These are; DINO: Emerging Properties in Self-Supervised Vision Transformers, BARLOW TWINS: Self-Supervised Learning via Redundancy Reduction and PAWS: Semi-Supervised Learning of Visual Features by Non-Parametrically Predicting View Assignments with Support Samples. All of these papers are hot off the press, just being officially released in the last month or so. Many of you will remember PIRL: Self-Supervised Learning of Pretext-Invariant Representations which Ishan was the primary author of in 2019.  References;  Shuffle and Learn - [UNK] DepthContrast - [UNK] DINO - [UNK] Barlow Twins - [UNK] SwAV - [UNK] PIRL - [UNK] AVID - [UNK] (best paper candidate at CVPR'21 (just announced over the weekend) - [UNK])   Alexei (Alyosha) Efros [UNK]~efros/ [UNK]~tmalisie/projects/nips09/   Exemplar networks [UNK]   The bitter lesson - Rich Sutton [UNK]   Machine Teaching: A New Paradigm for Building Machine Learning Systems [UNK]   POET [UNK]\n",
            "\n"
          ],
          "name": "stdout"
        }
      ]
    },
    {
      "cell_type": "markdown",
      "metadata": {
        "id": "lfe60R2QWomu"
      },
      "source": [
        "Now our data is ready"
      ]
    },
    {
      "cell_type": "code",
      "metadata": {
        "colab": {
          "base_uri": "https://localhost:8080/",
          "height": 287
        },
        "id": "FjVwNN12Wiv5",
        "outputId": "8f543269-06f6-4c76-8231-cd03b4205800"
      },
      "source": [
        "df_notnull_notdup.head()  # Preprocessed data"
      ],
      "execution_count": 17,
      "outputs": [
        {
          "output_type": "execute_result",
          "data": {
            "text/html": [
              "<div>\n",
              "<style scoped>\n",
              "    .dataframe tbody tr th:only-of-type {\n",
              "        vertical-align: middle;\n",
              "    }\n",
              "\n",
              "    .dataframe tbody tr th {\n",
              "        vertical-align: top;\n",
              "    }\n",
              "\n",
              "    .dataframe thead th {\n",
              "        text-align: right;\n",
              "    }\n",
              "</style>\n",
              "<table border=\"1\" class=\"dataframe\">\n",
              "  <thead>\n",
              "    <tr style=\"text-align: right;\">\n",
              "      <th></th>\n",
              "      <th>ep_id</th>\n",
              "      <th>ep_name</th>\n",
              "      <th>show_name</th>\n",
              "      <th>description</th>\n",
              "      <th>label</th>\n",
              "      <th>desc_nonUrl</th>\n",
              "    </tr>\n",
              "  </thead>\n",
              "  <tbody>\n",
              "    <tr>\n",
              "      <th>0</th>\n",
              "      <td>2QwU0zzueDDoi0fN3Kf0HR</td>\n",
              "      <td>#57 - Prof. Melanie Mitchell - Why AI is harde...</td>\n",
              "      <td>Machine Learning Street Talk</td>\n",
              "      <td>Since its beginning in the 1950s, the field of...</td>\n",
              "      <td>machine learning</td>\n",
              "      <td>Since its beginning in the 1950s, the field of...</td>\n",
              "    </tr>\n",
              "    <tr>\n",
              "      <th>1</th>\n",
              "      <td>1ir7MrWUBwUI6AE7Na5diX</td>\n",
              "      <td>#56 - Dr. Walid Saba, Gadi Singer, Prof. J. Ma...</td>\n",
              "      <td>Machine Learning Street Talk</td>\n",
              "      <td>It has been over three decades since the stati...</td>\n",
              "      <td>machine learning</td>\n",
              "      <td>It has been over three decades since the stati...</td>\n",
              "    </tr>\n",
              "    <tr>\n",
              "      <th>2</th>\n",
              "      <td>1ACeGKFk4syDdcRuuuSZP7</td>\n",
              "      <td>#55 Self-Supervised Vision Models (Dr. Ishan M...</td>\n",
              "      <td>Machine Learning Street Talk</td>\n",
              "      <td>Dr. Ishan Misra is a Research Scientist at Fac...</td>\n",
              "      <td>machine learning</td>\n",
              "      <td>Dr. Ishan Misra is a Research Scientist at Fac...</td>\n",
              "    </tr>\n",
              "    <tr>\n",
              "      <th>3</th>\n",
              "      <td>1vuc4azX8Mb0sl0lKOmxZi</td>\n",
              "      <td>#54 Gary Marcus and Luis Lamb - Neurosymbolic ...</td>\n",
              "      <td>Machine Learning Street Talk</td>\n",
              "      <td>Professor Gary Marcus is a scientist, best-sel...</td>\n",
              "      <td>machine learning</td>\n",
              "      <td>Professor Gary Marcus is a scientist, best-sel...</td>\n",
              "    </tr>\n",
              "    <tr>\n",
              "      <th>4</th>\n",
              "      <td>6DrRmtpKKpH3yYJ6yPoMR2</td>\n",
              "      <td>#53 Quantum Natural Language Processing - Prof...</td>\n",
              "      <td>Machine Learning Street Talk</td>\n",
              "      <td>Bob Coercke is a celebrated physicist, he's be...</td>\n",
              "      <td>machine learning</td>\n",
              "      <td>Bob Coercke is a celebrated physicist, he's be...</td>\n",
              "    </tr>\n",
              "  </tbody>\n",
              "</table>\n",
              "</div>"
            ],
            "text/plain": [
              "                    ep_id  ...                                        desc_nonUrl\n",
              "0  2QwU0zzueDDoi0fN3Kf0HR  ...  Since its beginning in the 1950s, the field of...\n",
              "1  1ir7MrWUBwUI6AE7Na5diX  ...  It has been over three decades since the stati...\n",
              "2  1ACeGKFk4syDdcRuuuSZP7  ...  Dr. Ishan Misra is a Research Scientist at Fac...\n",
              "3  1vuc4azX8Mb0sl0lKOmxZi  ...  Professor Gary Marcus is a scientist, best-sel...\n",
              "4  6DrRmtpKKpH3yYJ6yPoMR2  ...  Bob Coercke is a celebrated physicist, he's be...\n",
              "\n",
              "[5 rows x 6 columns]"
            ]
          },
          "metadata": {
            "tags": []
          },
          "execution_count": 17
        }
      ]
    },
    {
      "cell_type": "code",
      "metadata": {
        "id": "bo0K2nmL0CiK"
      },
      "source": [
        "df_notnull_notdup.to_csv('df_notnull_notdup.csv', index=False)"
      ],
      "execution_count": 18,
      "outputs": []
    },
    {
      "cell_type": "markdown",
      "metadata": {
        "id": "YAev-Veg9nPf"
      },
      "source": [
        "## (optional) Filter meaningless descriptions"
      ]
    },
    {
      "cell_type": "code",
      "metadata": {
        "colab": {
          "base_uri": "https://localhost:8080/"
        },
        "id": "T8rd8mKk5CLQ",
        "outputId": "a0521489-9da7-474e-fd15-050f024389e7"
      },
      "source": [
        "from typing import List\n",
        "\n",
        "def detect_almost_dup(desc:List[str]):\n",
        "\n",
        "    min_len = min([len(e) for e in desc])\n",
        "    for i in range(min_len):\n",
        "        if x[i] == y[i]: c+=1\n",
        "\n",
        "    return c/min_len\n",
        "\n",
        "detect_almost_dup(\"This exp\", \"This ep\")"
      ],
      "execution_count": 132,
      "outputs": [
        {
          "output_type": "execute_result",
          "data": {
            "text/plain": [
              "0.8571428571428571"
            ]
          },
          "metadata": {
            "tags": []
          },
          "execution_count": 132
        }
      ]
    },
    {
      "cell_type": "code",
      "metadata": {
        "colab": {
          "base_uri": "https://localhost:8080/"
        },
        "id": "_sDXav8xyBl5",
        "outputId": "ba9ca16e-2d09-4f61-d2f7-380f0a393d7f"
      },
      "source": [
        "# Tets: groupby -> apply\n",
        "# For meaningless descriptions of a show detection\n",
        "\n",
        "x = pd.DataFrame({\n",
        "    'gender':['m','m','f','f','o','o','o'],\n",
        "    'grade':[2,6,10,20,90,90,200],\n",
        "    'age':[10,20,50,20,90,60,100]\n",
        "})\n",
        "\n",
        "def test(x):\n",
        "    print(x)\n",
        "    print(type(x))\n",
        "    return x\n",
        "\n",
        "y = x.groupby('gender').apply(test)"
      ],
      "execution_count": 113,
      "outputs": [
        {
          "output_type": "stream",
          "text": [
            "  gender  grade  age\n",
            "2      f     10   50\n",
            "3      f     20   20\n",
            "<class 'pandas.core.frame.DataFrame'>\n",
            "  gender  grade  age\n",
            "0      m      2   10\n",
            "1      m      6   20\n",
            "<class 'pandas.core.frame.DataFrame'>\n",
            "  gender  grade  age\n",
            "4      o     90   90\n",
            "5      o     90   60\n",
            "6      o    200  100\n",
            "<class 'pandas.core.frame.DataFrame'>\n"
          ],
          "name": "stdout"
        }
      ]
    },
    {
      "cell_type": "code",
      "metadata": {
        "id": "UXhqYNCgmOQm"
      },
      "source": [
        ""
      ],
      "execution_count": null,
      "outputs": []
    }
  ]
}