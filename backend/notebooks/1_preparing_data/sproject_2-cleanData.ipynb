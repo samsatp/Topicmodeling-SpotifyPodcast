{
  "nbformat": 4,
  "nbformat_minor": 2,
  "metadata": {
    "colab": {
      "name": "sproject-cleanData.ipynb",
      "provenance": [],
      "collapsed_sections": []
    },
    "kernelspec": {
      "name": "python3",
      "display_name": "Python 3.9.1 64-bit ('jupyterlab2.26': conda)"
    },
    "language_info": {
      "name": "python",
      "version": "3.9.1",
      "mimetype": "text/x-python",
      "codemirror_mode": {
        "name": "ipython",
        "version": 3
      },
      "pygments_lexer": "ipython3",
      "nbconvert_exporter": "python",
      "file_extension": ".py"
    },
    "interpreter": {
      "hash": "31605234de10b43ea767264d17dfb0196cf2b9da7012776efe0be49341337db4"
    }
  },
  "cells": [
    {
      "cell_type": "code",
      "execution_count": 2,
      "source": [
        "import pandas as pd\r\n",
        "\r\n",
        "df = pd.read_csv(\"../../data/total_df.csv\")\r\n",
        "\r\n",
        "print(f'data shape: {df.shape}')\r\n",
        "df.head()"
      ],
      "outputs": [
        {
          "output_type": "stream",
          "name": "stdout",
          "text": [
            "data shape: (14127, 5)\n"
          ]
        },
        {
          "output_type": "execute_result",
          "data": {
            "text/plain": [
              "                    ep_id                                            ep_name  \\\n",
              "0  2QwU0zzueDDoi0fN3Kf0HR  #57 - Prof. Melanie Mitchell - Why AI is harde...   \n",
              "1  1ir7MrWUBwUI6AE7Na5diX  #56 - Dr. Walid Saba, Gadi Singer, Prof. J. Ma...   \n",
              "2  1ACeGKFk4syDdcRuuuSZP7  #55 Self-Supervised Vision Models (Dr. Ishan M...   \n",
              "3  1vuc4azX8Mb0sl0lKOmxZi  #54 Gary Marcus and Luis Lamb - Neurosymbolic ...   \n",
              "4  6DrRmtpKKpH3yYJ6yPoMR2  #53 Quantum Natural Language Processing - Prof...   \n",
              "\n",
              "                      show_name  \\\n",
              "0  Machine Learning Street Talk   \n",
              "1  Machine Learning Street Talk   \n",
              "2  Machine Learning Street Talk   \n",
              "3  Machine Learning Street Talk   \n",
              "4  Machine Learning Street Talk   \n",
              "\n",
              "                                         description             label  \n",
              "0  Since its beginning in the 1950s, the field of...  machine learning  \n",
              "1  It has been over three decades since the stati...  machine learning  \n",
              "2  Dr. Ishan Misra is a Research Scientist at Fac...  machine learning  \n",
              "3  Professor Gary Marcus is a scientist, best-sel...  machine learning  \n",
              "4  Bob Coercke is a celebrated physicist, he's be...  machine learning  "
            ],
            "text/html": [
              "<div>\n",
              "<style scoped>\n",
              "    .dataframe tbody tr th:only-of-type {\n",
              "        vertical-align: middle;\n",
              "    }\n",
              "\n",
              "    .dataframe tbody tr th {\n",
              "        vertical-align: top;\n",
              "    }\n",
              "\n",
              "    .dataframe thead th {\n",
              "        text-align: right;\n",
              "    }\n",
              "</style>\n",
              "<table border=\"1\" class=\"dataframe\">\n",
              "  <thead>\n",
              "    <tr style=\"text-align: right;\">\n",
              "      <th></th>\n",
              "      <th>ep_id</th>\n",
              "      <th>ep_name</th>\n",
              "      <th>show_name</th>\n",
              "      <th>description</th>\n",
              "      <th>label</th>\n",
              "    </tr>\n",
              "  </thead>\n",
              "  <tbody>\n",
              "    <tr>\n",
              "      <th>0</th>\n",
              "      <td>2QwU0zzueDDoi0fN3Kf0HR</td>\n",
              "      <td>#57 - Prof. Melanie Mitchell - Why AI is harde...</td>\n",
              "      <td>Machine Learning Street Talk</td>\n",
              "      <td>Since its beginning in the 1950s, the field of...</td>\n",
              "      <td>machine learning</td>\n",
              "    </tr>\n",
              "    <tr>\n",
              "      <th>1</th>\n",
              "      <td>1ir7MrWUBwUI6AE7Na5diX</td>\n",
              "      <td>#56 - Dr. Walid Saba, Gadi Singer, Prof. J. Ma...</td>\n",
              "      <td>Machine Learning Street Talk</td>\n",
              "      <td>It has been over three decades since the stati...</td>\n",
              "      <td>machine learning</td>\n",
              "    </tr>\n",
              "    <tr>\n",
              "      <th>2</th>\n",
              "      <td>1ACeGKFk4syDdcRuuuSZP7</td>\n",
              "      <td>#55 Self-Supervised Vision Models (Dr. Ishan M...</td>\n",
              "      <td>Machine Learning Street Talk</td>\n",
              "      <td>Dr. Ishan Misra is a Research Scientist at Fac...</td>\n",
              "      <td>machine learning</td>\n",
              "    </tr>\n",
              "    <tr>\n",
              "      <th>3</th>\n",
              "      <td>1vuc4azX8Mb0sl0lKOmxZi</td>\n",
              "      <td>#54 Gary Marcus and Luis Lamb - Neurosymbolic ...</td>\n",
              "      <td>Machine Learning Street Talk</td>\n",
              "      <td>Professor Gary Marcus is a scientist, best-sel...</td>\n",
              "      <td>machine learning</td>\n",
              "    </tr>\n",
              "    <tr>\n",
              "      <th>4</th>\n",
              "      <td>6DrRmtpKKpH3yYJ6yPoMR2</td>\n",
              "      <td>#53 Quantum Natural Language Processing - Prof...</td>\n",
              "      <td>Machine Learning Street Talk</td>\n",
              "      <td>Bob Coercke is a celebrated physicist, he's be...</td>\n",
              "      <td>machine learning</td>\n",
              "    </tr>\n",
              "  </tbody>\n",
              "</table>\n",
              "</div>"
            ]
          },
          "metadata": {},
          "execution_count": 2
        }
      ],
      "metadata": {
        "colab": {
          "base_uri": "https://localhost:8080/",
          "height": 304
        },
        "id": "QsneR2_4zVlE",
        "outputId": "0ca607da-f585-4bda-dd6a-0ed9d78a3830"
      }
    },
    {
      "cell_type": "markdown",
      "source": [
        "# Clean data\n",
        "- Check for null values\n",
        "- Check for duplicates\n",
        "- Check data stats"
      ],
      "metadata": {
        "id": "A8ywXC0odNrw"
      }
    },
    {
      "cell_type": "code",
      "execution_count": 3,
      "source": [
        "df.isnull().sum()"
      ],
      "outputs": [
        {
          "output_type": "execute_result",
          "data": {
            "text/plain": [
              "ep_id            0\n",
              "ep_name          0\n",
              "show_name        0\n",
              "description    152\n",
              "label            0\n",
              "dtype: int64"
            ]
          },
          "metadata": {
            "tags": []
          },
          "execution_count": 3
        }
      ],
      "metadata": {
        "colab": {
          "base_uri": "https://localhost:8080/"
        },
        "id": "LceatU6vaWq7",
        "outputId": "a5244a59-2dac-4f82-f45c-939af651c1ad"
      }
    },
    {
      "cell_type": "code",
      "execution_count": 4,
      "source": [
        "df_notnull = df.dropna(subset=['description'])  # Drop null descriptions\r\n",
        "df_notnull.duplicated(keep=False).sum()  # Check all the duplicates"
      ],
      "outputs": [
        {
          "output_type": "execute_result",
          "data": {
            "text/plain": [
              "520"
            ]
          },
          "metadata": {
            "tags": []
          },
          "execution_count": 4
        }
      ],
      "metadata": {
        "colab": {
          "base_uri": "https://localhost:8080/"
        },
        "id": "obhgIsOwdXT0",
        "outputId": "6ee6832b-b798-4b23-d993-6c98025edbd9"
      }
    },
    {
      "cell_type": "code",
      "execution_count": 5,
      "source": [
        "df_notnull_notdup = df_notnull.drop_duplicates(keep='first')  # Drop duplicates"
      ],
      "outputs": [],
      "metadata": {
        "id": "KTicOrCPdnI3"
      }
    },
    {
      "cell_type": "code",
      "execution_count": 6,
      "source": [
        "df_notnull_notdup.label.value_counts()  # Check data stats"
      ],
      "outputs": [
        {
          "output_type": "execute_result",
          "data": {
            "text/plain": [
              "kid                 1893\n",
              "lifestyle           1653\n",
              "business            1516\n",
              "crime               1483\n",
              "politics            1401\n",
              "comedy              1348\n",
              "sport               1238\n",
              "culture             1183\n",
              "machine learning    1037\n",
              "cooking              963\n",
              "Name: label, dtype: int64"
            ]
          },
          "metadata": {
            "tags": []
          },
          "execution_count": 6
        }
      ],
      "metadata": {
        "colab": {
          "base_uri": "https://localhost:8080/"
        },
        "id": "lEW9y2I-ecWg",
        "outputId": "d23010bc-3db0-41ca-f170-a6535dc6376f"
      }
    },
    {
      "cell_type": "markdown",
      "source": [
        "# Extract URLs\n",
        "> 🤔 **Question:** Is tokenizer in the Sklearn, Tensorflow, Pre-trained able to tokenize the url as `<oov>` ?<br>\n",
        "> → If they can, the processes below in this block can be skipped.\n",
        "\n",
        "**Todos**:\n",
        "1. Extract full url\n",
        "    - *test*: If out-of-the-box tokenizers can mask the url as `<oov>` or `[unk]`. We need to mask it because it would not make sense to split the url into tokens. *Add them to special tokens set to ensure they won’t be split by the tokenization process.*\n",
        "    - If ✔ , use them\n",
        "    - If ✖ , we need to mask those url ourself\n",
        "2. Extract web domain (optional)\n",
        "    - Just to see the most web mentioned in description\n",
        "3. Filter out meaningless descriptions *(Is this step needed?)*"
      ],
      "metadata": {
        "id": "dVuY96Eruril"
      }
    },
    {
      "cell_type": "markdown",
      "source": [
        "## Test tokenizers\n",
        "- Is they can mask url as unknown token.\n",
        "    - Sklearn\n",
        "    - Tensorflow\n",
        "    - 🤗 Transformer"
      ],
      "metadata": {
        "id": "n33RGyCq8y6g"
      }
    },
    {
      "cell_type": "markdown",
      "source": [
        "### 0) Detect rows containing url"
      ],
      "metadata": {
        "id": "hzq2KZXO-rh9"
      }
    },
    {
      "cell_type": "code",
      "execution_count": 7,
      "source": [
        "import re\r\n",
        "import numpy as np\r\n",
        "\r\n",
        "regex_url = \"((?:https?://)?(?:(?:www\\.)?(?:[\\da-z\\.-]+)\\.(?:[a-z]{2,6})|(?:(?:25[0-5]|2[0-4][0-9]|[01]?[0-9][0-9]?)\\.){3}(?:25[0-5]|2[0-4][0-9]|[01]?[0-9][0-9]?)|(?:(?:[0-9a-fA-F]{1,4}:){7,7}[0-9a-fA-F]{1,4}|(?:[0-9a-fA-F]{1,4}:){1,7}:|(?:[0-9a-fA-F]{1,4}:){1,6}:[0-9a-fA-F]{1,4}|(?:[0-9a-fA-F]{1,4}:){1,5}(?::[0-9a-fA-F]{1,4}){1,2}|(?:[0-9a-fA-F]{1,4}:){1,4}(?::[0-9a-fA-F]{1,4}){1,3}|(?:[0-9a-fA-F]{1,4}:){1,3}(?::[0-9a-fA-F]{1,4}){1,4}|(?:[0-9a-fA-F]{1,4}:){1,2}(?::[0-9a-fA-F]{1,4}){1,5}|[0-9a-fA-F]{1,4}:(?:(?::[0-9a-fA-F]{1,4}){1,6})|:(?:(?::[0-9a-fA-F]{1,4}){1,7}|:)|fe80:(?::[0-9a-fA-F]{0,4}){0,4}%[0-9a-zA-Z]{1,}|::(?:ffff(?::0{1,4}){0,1}:){0,1}(?:(?:25[0-5]|(?:2[0-4]|1{0,1}[0-9]){0,1}[0-9])\\.){3,3}(?:25[0-5]|(?:2[0-4]|1{0,1}[0-9]){0,1}[0-9])|(?:[0-9a-fA-F]{1,4}:){1,4}:(?:(?:25[0-5]|(?:2[0-4]|1{0,1}[0-9]){0,1}[0-9])\\.){3,3}(?:25[0-5]|(?:2[0-4]|1{0,1}[0-9]){0,1}[0-9])))(?::[0-9]{1,4}|[1-5][0-9]{4}|6[0-4][0-9]{3}|65[0-4][0-9]{2}|655[0-2][0-9]|6553[0-5])?(?:/[\\w\\.-]*)*/?)\"\r\n",
        "def extract_url_v2(desc: str):\r\n",
        "    '''\r\n",
        "        Extract full url from description\r\n",
        "    '''\r\n",
        "    extracted = re.findall(regex_url, desc)\r\n",
        "    if len(extracted) !=0 :\r\n",
        "        return extracted\r\n",
        "    return np.nan  # If not have url, return NaN\r\n",
        "\r\n",
        "\"\"\"def extract_url(desc: str):\r\n",
        "    '''\r\n",
        "        Extract full url from description\r\n",
        "    '''\r\n",
        "    extracted = re.findall(\"https?://[^\\s]+\", desc)\r\n",
        "    if len(extracted) !=0 :\r\n",
        "        return extracted\r\n",
        "    return np.nan  # If not have url, return NaN\r\n",
        "\"\"\"\r\n",
        "def extract_web(desc:str):\r\n",
        "    '''\r\n",
        "        Extract web domain\r\n",
        "    '''\r\n",
        "    extracted = re.findall('https?://(?:[-\\w.]|(?:%[\\da-fA-F]{2}))+', desc)\r\n",
        "    if len(extracted) != 0:\r\n",
        "        return extracted\r\n",
        "    return np.nan\r\n",
        "\r\n",
        "web_from_desc = df_notnull_notdup.apply(lambda x: extract_web(x['description']), axis=1)\r\n",
        "url_from_desc = df_notnull_notdup.apply(lambda x: extract_url_v2(x['description']), axis=1)"
      ],
      "outputs": [],
      "metadata": {
        "id": "-9vzKayZ9moF"
      }
    },
    {
      "cell_type": "code",
      "execution_count": 8,
      "source": [
        "url_from_desc.dropna()  # Extraced url samples"
      ],
      "outputs": [
        {
          "output_type": "execute_result",
          "data": {
            "text/plain": [
              "0        [https://www.youtube.com/watch, https://www.yo...\n",
              "1        [https://www.linkedin.com/in/gadi-singer/, htt...\n",
              "2        [https://arxiv.org/abs/1603.08561, https://arx...\n",
              "6        [https://youtu.be/J0p_thJJnoo, https://whimsic...\n",
              "7        [https://whimsical.com/mar-26th-christian-szeg...\n",
              "                               ...                        \n",
              "14106    [fire...these, romisesrecoverycenters.com, www...\n",
              "14114                      [ear.com, crushingyourfear.com]\n",
              "14117                                  [rushingtheday.com]\n",
              "14118               [breakfreeacademy.com, omaskeenan.com]\n",
              "14123                                       [hillmeat.com]\n",
              "Length: 7524, dtype: object"
            ]
          },
          "metadata": {
            "tags": []
          },
          "execution_count": 8
        }
      ],
      "metadata": {
        "colab": {
          "base_uri": "https://localhost:8080/"
        },
        "id": "lIY_wCrz-oFh",
        "outputId": "8ad8e090-9de8-46d6-950f-8495801a979c"
      }
    },
    {
      "cell_type": "code",
      "execution_count": 9,
      "source": [
        "notHaveUrl = url_from_desc.isnull().sum() / len(url_from_desc)\r\n",
        "\r\n",
        "print(f'Number of descriptions that not have url in description: {np.round(notHaveUrl * 100, 3)} %\\n')\r\n",
        "print(f'Top 10 websites mentioned most often in Podcast description :\\n{web_from_desc.explode().value_counts()[:10]}')"
      ],
      "outputs": [
        {
          "output_type": "stream",
          "name": "stdout",
          "text": [
            "Number of descriptions that not have url in description: 45.14 %\n",
            "\n",
            "Top 10 websites mentioned most often in Podcast description :\n",
            "https://anchor.fm            2464\n",
            "https://twitter.com          1140\n",
            "https://amzn.to               762\n",
            "https://www.instagram.com     605\n",
            "https://www.facebook.com      484\n",
            "https://art19.com             474\n",
            "https://www.patreon.com       426\n",
            "https://www.youtube.com       411\n",
            "https://redcircle.com         292\n",
            "https://ronakblog.com         278\n",
            "dtype: int64\n"
          ]
        }
      ],
      "metadata": {
        "colab": {
          "base_uri": "https://localhost:8080/"
        },
        "id": "zSR_UCBL-pVQ",
        "outputId": "db22df06-a831-484a-ce3d-19ab3916b409"
      }
    },
    {
      "cell_type": "code",
      "execution_count": 10,
      "source": [
        "hasUrl = ~url_from_desc.isnull()"
      ],
      "outputs": [],
      "metadata": {
        "id": "UNnIljIq-5EN"
      }
    },
    {
      "cell_type": "markdown",
      "source": [
        "### 1) Test 🤗Tokenizer"
      ],
      "metadata": {
        "id": "YMuaejjREi_S"
      }
    },
    {
      "cell_type": "code",
      "execution_count": 11,
      "source": [
        "from IPython.display import clear_output\r\n",
        "\r\n",
        "! pip install transformers[sentencepiece]\r\n",
        "clear_output()"
      ],
      "outputs": [],
      "metadata": {
        "id": "kSfKRafNFVCJ"
      }
    },
    {
      "cell_type": "code",
      "execution_count": 12,
      "source": [
        "from transformers import BertTokenizer\r\n",
        "\r\n",
        "checkpoint = \"bert-base-cased\"\r\n",
        "tokenizer = BertTokenizer.from_pretrained(checkpoint); clear_output()"
      ],
      "outputs": [],
      "metadata": {
        "id": "dS9xWnpbEsYu"
      }
    },
    {
      "cell_type": "code",
      "execution_count": 13,
      "source": [
        "sentence = \"The field of artificial in 1976 [UNK] has educated in https://www.youtube.com/watch?v=A8m1Oqz2HKc\"\r\n",
        "print(sentence)\r\n",
        "\r\n",
        "tokens = tokenizer.tokenize(sentence)\r\n",
        "print(tokens)\r\n",
        "\r\n",
        "ids = tokenizer.convert_tokens_to_ids(tokens)\r\n",
        "print(ids)"
      ],
      "outputs": [
        {
          "output_type": "stream",
          "name": "stdout",
          "text": [
            "The field of artificial in 1976 [UNK] has educated in https://www.youtube.com/watch?v=A8m1Oqz2HKc\n",
            "['The', 'field', 'of', 'artificial', 'in', '1976', '[UNK]', 'has', 'educated', 'in', 'https', ':', '/', '/', 'www', '.', 'you', '##tub', '##e', '.', 'com', '/', 'watch', '?', 'v', '=', 'A', '##8', '##m', '##1', '##O', '##q', '##z', '##2', '##H', '##K', '##c']\n",
            "[1109, 1768, 1104, 8246, 1107, 2402, 100, 1144, 4512, 1107, 18630, 131, 120, 120, 7001, 119, 1128, 25098, 1162, 119, 3254, 120, 2824, 136, 191, 134, 138, 1604, 1306, 1475, 2346, 4426, 1584, 1477, 3048, 2428, 1665]\n"
          ]
        }
      ],
      "metadata": {
        "colab": {
          "base_uri": "https://localhost:8080/"
        },
        "id": "WHYO7hDZGmAN",
        "outputId": "755a83e4-8393-4b0c-f00a-8b2aebb9e62d"
      }
    },
    {
      "cell_type": "code",
      "execution_count": 14,
      "source": [
        "list(zip(tokenizer.all_special_tokens, tokenizer.all_special_ids))"
      ],
      "outputs": [
        {
          "output_type": "execute_result",
          "data": {
            "text/plain": [
              "[('[UNK]', 100), ('[SEP]', 102), ('[PAD]', 0), ('[CLS]', 101), ('[MASK]', 103)]"
            ]
          },
          "metadata": {
            "tags": []
          },
          "execution_count": 14
        }
      ],
      "metadata": {
        "colab": {
          "base_uri": "https://localhost:8080/"
        },
        "id": "oqxZrxWfOlT5",
        "outputId": "a5ebe276-059c-444a-b45a-cbf0b7b71dfe"
      }
    },
    {
      "cell_type": "markdown",
      "source": [
        "#### Result: ✖\n",
        "🤗Tokenzier cannot mask url as `[UNK]`, So we need to replace it ourselevs."
      ],
      "metadata": {
        "id": "0tR4sm59OZP5"
      }
    },
    {
      "cell_type": "code",
      "execution_count": null,
      "source": [
        "df_notnull_notdup['desc_nonUrl'] = df_notnull_notdup['description'].apply(lambda x: re.sub(regex_url,\"[UNK]\",x))"
      ],
      "outputs": [],
      "metadata": {
        "id": "_174QAJdOoJb"
      }
    },
    {
      "cell_type": "markdown",
      "source": [
        "The outcome is not perfect. Some url is not completely detected.\n",
        "> 🤔 Is there a regex that can match all the url format? "
      ],
      "metadata": {
        "id": "dhNMFEdUzQE-"
      }
    },
    {
      "cell_type": "code",
      "execution_count": 16,
      "source": [
        "for i, row in df_notnull_notdup.loc[hasUrl, ['description','desc_nonUrl']].iterrows():\r\n",
        "    print(f\"---> original : {row['description']}\")\r\n",
        "    print(f\"---> after sub: {row['desc_nonUrl']}\\n\")\r\n",
        "    if i==2: break"
      ],
      "outputs": [
        {
          "output_type": "stream",
          "name": "stdout",
          "text": [
            "original : Since its beginning in the 1950s, the field of artificial intelligence has vacillated between periods of optimistic predictions and massive investment and periods of disappointment, loss of confidence, and reduced funding. Even with today’s seemingly fast pace of AI breakthroughs, the development of long-promised technologies such as self-driving cars, housekeeping robots, and conversational companions has turned out to be much harder than many people expected.  Professor Melanie Mitchell thinks one reason for these repeating cycles is our limited understanding of the nature and complexity of intelligence itself. YT vid- https://www.youtube.com/watch?v=A8m1Oqz2HKc Main show kick off [00:26:51]  Panel: Dr. Tim Scarfe, Dr. Keith Duggar, Letitia Parcalabescu (https://www.youtube.com/c/AICoffeeBreak/)\n",
            "after sub: Since its beginning in the 1950s, the field of artificial intelligence has vacillated between periods of optimistic predictions and massive investment and periods of disappointment, loss of confidence, and reduced funding. Even with today’s seemingly fast pace of AI breakthroughs, the development of long-promised technologies such as self-driving cars, housekeeping robots, and conversational companions has turned out to be much harder than many people expected.  Professor Melanie Mitchell thinks one reason for these repeating cycles is our limited understanding of the nature and complexity of intelligence itself. YT vid- [UNK]?v=A8m1Oqz2HKc Main show kick off [00:26:51]  Panel: Dr. Tim Scarfe, Dr. Keith Duggar, Letitia Parcalabescu ([UNK])\n",
            "\n",
            "original : It has been over three decades since the statistical revolution overtook AI by a storm and over two  decades since deep learning (DL) helped usher the latest resurgence of artificial intelligence (AI). However, the disappointing progress in conversational agents, NLU, and self-driving cars, has made it clear that progress has not lived up to the promise of these empirical and data-driven methods. DARPA has suggested that it is time for a third wave in AI, one that would be characterized by hybrid models – models that combine knowledge-based approaches with data-driven machine learning techniques.  Joining us on this panel discussion is polymath and linguist Walid Saba - Co-founder ONTOLOGIK.AI, Gadi Singer - VP & Director, Cognitive Computing Research, Intel Labs and J. Mark Bishop - Professor of Cognitive Computing (Emeritus), Goldsmiths, University of London and Scientific Adviser to FACT360. Moderated by Dr. Keith Duggar and Dr. Tim Scarfe https://www.linkedin.com/in/gadi-singer/ https://www.linkedin.com/in/walidsaba/ https://www.linkedin.com/in/profjmarkbishop/ #machinelearning #artificialintelligence\n",
            "after sub: It has been over three decades since the statistical revolution overtook AI by a storm and over two  decades since deep learning (DL) helped usher the latest resurgence of artificial intelligence (AI). However, the disappointing progress in conversational agents, NLU, and self-driving cars, has made it clear that progress has not lived up to the promise of these empirical and data-driven methods. DARPA has suggested that it is time for a third wave in AI, one that would be characterized by hybrid models – models that combine knowledge-based approaches with data-driven machine learning techniques.  Joining us on this panel discussion is polymath and linguist Walid Saba - Co-founder ONTOLOGIK.AI, Gadi Singer - VP & Director, Cognitive Computing Research, Intel Labs and J. Mark Bishop - Professor of Cognitive Computing (Emeritus), Goldsmiths, University of London and Scientific Adviser to FACT360. Moderated by Dr. Keith Duggar and Dr. Tim Scarfe [UNK] [UNK] [UNK] #machinelearning #artificialintelligence\n",
            "\n",
            "original : Dr. Ishan Misra is a Research Scientist at Facebook AI Research where he works on Computer Vision and Machine Learning. His main research interest is reducing the need for human supervision, and indeed, human knowledge in visual learning systems. He finished his PhD at the Robotics Institute at Carnegie Mellon. He has done stints at Microsoft Research, INRIA and Yale. His bachelors is in computer science where he achieved the highest GPA in his cohort.   Ishan is fast becoming a prolific scientist, already with more than 3000 citations under his belt and co-authoring with Yann LeCun; the godfather of deep learning.  Today though we will be focusing an exciting cluster of recent papers around unsupervised representation learning for computer vision released from FAIR. These are; DINO: Emerging Properties in Self-Supervised Vision Transformers, BARLOW TWINS: Self-Supervised Learning via Redundancy Reduction and PAWS: Semi-Supervised Learning of Visual Features by Non-Parametrically Predicting View Assignments with Support Samples. All of these papers are hot off the press, just being officially released in the last month or so. Many of you will remember PIRL: Self-Supervised Learning of Pretext-Invariant Representations which Ishan was the primary author of in 2019.  References;  Shuffle and Learn - https://arxiv.org/abs/1603.08561 DepthContrast - https://arxiv.org/abs/2101.02691 DINO - https://arxiv.org/abs/2104.14294 Barlow Twins - https://arxiv.org/abs/2103.03230 SwAV - https://arxiv.org/abs/2006.09882 PIRL - https://arxiv.org/abs/1912.01991 AVID - https://arxiv.org/abs/2004.12943 (best paper candidate at CVPR'21 (just announced over the weekend) - http://cvpr2021.thecvf.com/node/290)   Alexei (Alyosha) Efros http://people.eecs.berkeley.edu/~efros/ http://www.cs.cmu.edu/~tmalisie/projects/nips09/   Exemplar networks https://arxiv.org/abs/1406.6909   The bitter lesson - Rich Sutton http://www.incompleteideas.net/IncIdeas/BitterLesson.html   Machine Teaching: A New Paradigm for Building Machine Learning Systems https://arxiv.org/abs/1707.06742   POET https://arxiv.org/pdf/1901.01753.pdf\n",
            "after sub: Dr. Ishan Misra is a Research Scientist at Facebook AI Research where he works on Computer Vision and Machine Learning. His main research interest is reducing the need for human supervision, and indeed, human knowledge in visual learning systems. He finished his PhD at the Robotics Institute at Carnegie Mellon. He has done stints at Microsoft Research, INRIA and Yale. His bachelors is in computer science where he achieved the highest GPA in his cohort.   Ishan is fast becoming a prolific scientist, already with more than 3000 citations under his belt and co-authoring with Yann LeCun; the godfather of deep learning.  Today though we will be focusing an exciting cluster of recent papers around unsupervised representation learning for computer vision released from FAIR. These are; DINO: Emerging Properties in Self-Supervised Vision Transformers, BARLOW TWINS: Self-Supervised Learning via Redundancy Reduction and PAWS: Semi-Supervised Learning of Visual Features by Non-Parametrically Predicting View Assignments with Support Samples. All of these papers are hot off the press, just being officially released in the last month or so. Many of you will remember PIRL: Self-Supervised Learning of Pretext-Invariant Representations which Ishan was the primary author of in 2019.  References;  Shuffle and Learn - [UNK] DepthContrast - [UNK] DINO - [UNK] Barlow Twins - [UNK] SwAV - [UNK] PIRL - [UNK] AVID - [UNK] (best paper candidate at CVPR'21 (just announced over the weekend) - [UNK])   Alexei (Alyosha) Efros [UNK]~efros/ [UNK]~tmalisie/projects/nips09/   Exemplar networks [UNK]   The bitter lesson - Rich Sutton [UNK]   Machine Teaching: A New Paradigm for Building Machine Learning Systems [UNK]   POET [UNK]\n",
            "\n"
          ]
        }
      ],
      "metadata": {
        "colab": {
          "base_uri": "https://localhost:8080/"
        },
        "id": "VnMrCiZwPs9W",
        "outputId": "2a2d1279-205a-4ef7-fcf1-5e08c9c348fa"
      }
    },
    {
      "cell_type": "markdown",
      "source": [
        "Now our data is ready"
      ],
      "metadata": {
        "id": "lfe60R2QWomu"
      }
    },
    {
      "cell_type": "code",
      "execution_count": 17,
      "source": [
        "df_notnull_notdup.head()  # Preprocessed data"
      ],
      "outputs": [
        {
          "output_type": "execute_result",
          "data": {
            "text/plain": [
              "                    ep_id  ...                                        desc_nonUrl\n",
              "0  2QwU0zzueDDoi0fN3Kf0HR  ...  Since its beginning in the 1950s, the field of...\n",
              "1  1ir7MrWUBwUI6AE7Na5diX  ...  It has been over three decades since the stati...\n",
              "2  1ACeGKFk4syDdcRuuuSZP7  ...  Dr. Ishan Misra is a Research Scientist at Fac...\n",
              "3  1vuc4azX8Mb0sl0lKOmxZi  ...  Professor Gary Marcus is a scientist, best-sel...\n",
              "4  6DrRmtpKKpH3yYJ6yPoMR2  ...  Bob Coercke is a celebrated physicist, he's be...\n",
              "\n",
              "[5 rows x 6 columns]"
            ],
            "text/html": [
              "<div>\n",
              "<style scoped>\n",
              "    .dataframe tbody tr th:only-of-type {\n",
              "        vertical-align: middle;\n",
              "    }\n",
              "\n",
              "    .dataframe tbody tr th {\n",
              "        vertical-align: top;\n",
              "    }\n",
              "\n",
              "    .dataframe thead th {\n",
              "        text-align: right;\n",
              "    }\n",
              "</style>\n",
              "<table border=\"1\" class=\"dataframe\">\n",
              "  <thead>\n",
              "    <tr style=\"text-align: right;\">\n",
              "      <th></th>\n",
              "      <th>ep_id</th>\n",
              "      <th>ep_name</th>\n",
              "      <th>show_name</th>\n",
              "      <th>description</th>\n",
              "      <th>label</th>\n",
              "      <th>desc_nonUrl</th>\n",
              "    </tr>\n",
              "  </thead>\n",
              "  <tbody>\n",
              "    <tr>\n",
              "      <th>0</th>\n",
              "      <td>2QwU0zzueDDoi0fN3Kf0HR</td>\n",
              "      <td>#57 - Prof. Melanie Mitchell - Why AI is harde...</td>\n",
              "      <td>Machine Learning Street Talk</td>\n",
              "      <td>Since its beginning in the 1950s, the field of...</td>\n",
              "      <td>machine learning</td>\n",
              "      <td>Since its beginning in the 1950s, the field of...</td>\n",
              "    </tr>\n",
              "    <tr>\n",
              "      <th>1</th>\n",
              "      <td>1ir7MrWUBwUI6AE7Na5diX</td>\n",
              "      <td>#56 - Dr. Walid Saba, Gadi Singer, Prof. J. Ma...</td>\n",
              "      <td>Machine Learning Street Talk</td>\n",
              "      <td>It has been over three decades since the stati...</td>\n",
              "      <td>machine learning</td>\n",
              "      <td>It has been over three decades since the stati...</td>\n",
              "    </tr>\n",
              "    <tr>\n",
              "      <th>2</th>\n",
              "      <td>1ACeGKFk4syDdcRuuuSZP7</td>\n",
              "      <td>#55 Self-Supervised Vision Models (Dr. Ishan M...</td>\n",
              "      <td>Machine Learning Street Talk</td>\n",
              "      <td>Dr. Ishan Misra is a Research Scientist at Fac...</td>\n",
              "      <td>machine learning</td>\n",
              "      <td>Dr. Ishan Misra is a Research Scientist at Fac...</td>\n",
              "    </tr>\n",
              "    <tr>\n",
              "      <th>3</th>\n",
              "      <td>1vuc4azX8Mb0sl0lKOmxZi</td>\n",
              "      <td>#54 Gary Marcus and Luis Lamb - Neurosymbolic ...</td>\n",
              "      <td>Machine Learning Street Talk</td>\n",
              "      <td>Professor Gary Marcus is a scientist, best-sel...</td>\n",
              "      <td>machine learning</td>\n",
              "      <td>Professor Gary Marcus is a scientist, best-sel...</td>\n",
              "    </tr>\n",
              "    <tr>\n",
              "      <th>4</th>\n",
              "      <td>6DrRmtpKKpH3yYJ6yPoMR2</td>\n",
              "      <td>#53 Quantum Natural Language Processing - Prof...</td>\n",
              "      <td>Machine Learning Street Talk</td>\n",
              "      <td>Bob Coercke is a celebrated physicist, he's be...</td>\n",
              "      <td>machine learning</td>\n",
              "      <td>Bob Coercke is a celebrated physicist, he's be...</td>\n",
              "    </tr>\n",
              "  </tbody>\n",
              "</table>\n",
              "</div>"
            ]
          },
          "metadata": {
            "tags": []
          },
          "execution_count": 17
        }
      ],
      "metadata": {
        "colab": {
          "base_uri": "https://localhost:8080/",
          "height": 287
        },
        "id": "FjVwNN12Wiv5",
        "outputId": "8f543269-06f6-4c76-8231-cd03b4205800"
      }
    },
    {
      "cell_type": "code",
      "execution_count": 18,
      "source": [
        "df_notnull_notdup.to_csv('../../data/df_notnull_notdup.csv', index=False)"
      ],
      "outputs": [],
      "metadata": {
        "id": "bo0K2nmL0CiK"
      }
    },
    {
      "cell_type": "markdown",
      "source": [
        "## (optional) Filter meaningless descriptions"
      ],
      "metadata": {
        "id": "YAev-Veg9nPf"
      }
    },
    {
      "cell_type": "code",
      "execution_count": 132,
      "source": [
        "from typing import List\r\n",
        "\r\n",
        "def detect_almost_dup(desc:List[str]):\r\n",
        "\r\n",
        "    min_len = min([len(e) for e in desc])\r\n",
        "    for i in range(min_len):\r\n",
        "        if x[i] == y[i]: c+=1\r\n",
        "\r\n",
        "    return c/min_len\r\n",
        "\r\n",
        "detect_almost_dup(\"This exp\", \"This ep\")"
      ],
      "outputs": [
        {
          "output_type": "execute_result",
          "data": {
            "text/plain": [
              "0.8571428571428571"
            ]
          },
          "metadata": {
            "tags": []
          },
          "execution_count": 132
        }
      ],
      "metadata": {
        "colab": {
          "base_uri": "https://localhost:8080/"
        },
        "id": "T8rd8mKk5CLQ",
        "outputId": "a0521489-9da7-474e-fd15-050f024389e7"
      }
    },
    {
      "cell_type": "code",
      "execution_count": 113,
      "source": [
        "# Tets: groupby -> apply\r\n",
        "# For meaningless descriptions of a show detection\r\n",
        "\r\n",
        "x = pd.DataFrame({\r\n",
        "    'gender':['m','m','f','f','o','o','o'],\r\n",
        "    'grade':[2,6,10,20,90,90,200],\r\n",
        "    'age':[10,20,50,20,90,60,100]\r\n",
        "})\r\n",
        "\r\n",
        "def test(x):\r\n",
        "    print(x)\r\n",
        "    print(type(x))\r\n",
        "    return x\r\n",
        "\r\n",
        "y = x.groupby('gender').apply(test)"
      ],
      "outputs": [
        {
          "output_type": "stream",
          "name": "stdout",
          "text": [
            "  gender  grade  age\n",
            "2      f     10   50\n",
            "3      f     20   20\n",
            "<class 'pandas.core.frame.DataFrame'>\n",
            "  gender  grade  age\n",
            "0      m      2   10\n",
            "1      m      6   20\n",
            "<class 'pandas.core.frame.DataFrame'>\n",
            "  gender  grade  age\n",
            "4      o     90   90\n",
            "5      o     90   60\n",
            "6      o    200  100\n",
            "<class 'pandas.core.frame.DataFrame'>\n"
          ]
        }
      ],
      "metadata": {
        "colab": {
          "base_uri": "https://localhost:8080/"
        },
        "id": "_sDXav8xyBl5",
        "outputId": "ba9ca16e-2d09-4f61-d2f7-380f0a393d7f"
      }
    },
    {
      "cell_type": "code",
      "execution_count": null,
      "source": [],
      "outputs": [],
      "metadata": {
        "id": "UXhqYNCgmOQm"
      }
    }
  ]
}