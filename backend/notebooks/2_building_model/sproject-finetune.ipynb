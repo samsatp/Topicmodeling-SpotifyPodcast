{
 "cells": [
  {
   "cell_type": "markdown",
   "id": "a35841cf",
   "metadata": {
    "id": "8kRzlGIkVnal",
    "papermill": {
     "duration": 0.01931,
     "end_time": "2021-08-13T13:01:15.373727",
     "exception": false,
     "start_time": "2021-08-13T13:01:15.354417",
     "status": "completed"
    },
    "tags": []
   },
   "source": [
    "# Getting data"
   ]
  },
  {
   "cell_type": "code",
   "execution_count": 1,
   "id": "b2ff7586",
   "metadata": {
    "execution": {
     "iopub.execute_input": "2021-08-13T13:01:15.414025Z",
     "iopub.status.busy": "2021-08-13T13:01:15.412186Z",
     "iopub.status.idle": "2021-08-13T13:01:21.314877Z",
     "shell.execute_reply": "2021-08-13T13:01:21.314155Z",
     "shell.execute_reply.started": "2021-08-12T14:32:14.137158Z"
    },
    "id": "YA-Rx7GrKT-N",
    "outputId": "9354166b-ada9-43b6-a71b-a347bdc48508",
    "papermill": {
     "duration": 5.924113,
     "end_time": "2021-08-13T13:01:21.315063",
     "exception": false,
     "start_time": "2021-08-13T13:01:15.390950",
     "status": "completed"
    },
    "tags": []
   },
   "outputs": [
    {
     "name": "stdout",
     "output_type": "stream",
     "text": [
      "Train size : 8640\n",
      "Test  size : 4115\n",
      "val size   : 960\n"
     ]
    }
   ],
   "source": [
    "from sklearn.model_selection import train_test_split\n",
    "from IPython.display import clear_output\n",
    "import tensorflow as tf\n",
    "import pandas as pd\n",
    "import numpy as np\n",
    "\n",
    "df = pd.read_csv(\"../input/df-notnull-notdup-noturl/df_notnull_notdup.csv\")\n",
    "\n",
    "sequences, label = df['desc_nonUrl'], df['label']\n",
    "X_train, X_test, y_train, y_test = train_test_split(sequences, label, stratify=label, \n",
    "                                                    test_size=0.3, random_state=42)\n",
    "X_train, X_val, y_train, y_val = train_test_split(X_train, y_train, stratify=y_train, \n",
    "                                                test_size=0.1, random_state=42)\n",
    "\n",
    "print(f'Train size : {len(X_train)}')\n",
    "print(f'Test  size : {len(X_test)}')\n",
    "print(f'val size   : {len(X_val)}')\n",
    "SHUFFLE_BUFFER_SIZE = len(X_train)"
   ]
  },
  {
   "cell_type": "markdown",
   "id": "e0dc2bbc",
   "metadata": {
    "id": "XwVpbSzWKy2w",
    "papermill": {
     "duration": 0.017891,
     "end_time": "2021-08-13T13:01:21.352552",
     "exception": false,
     "start_time": "2021-08-13T13:01:21.334661",
     "status": "completed"
    },
    "tags": []
   },
   "source": [
    "# Load the pretrained Tokenizer, Transformer"
   ]
  },
  {
   "cell_type": "code",
   "execution_count": 2,
   "id": "911f1d97",
   "metadata": {
    "execution": {
     "iopub.execute_input": "2021-08-13T13:01:21.398326Z",
     "iopub.status.busy": "2021-08-13T13:01:21.397563Z",
     "iopub.status.idle": "2021-08-13T13:01:45.284234Z",
     "shell.execute_reply": "2021-08-13T13:01:45.283804Z",
     "shell.execute_reply.started": "2021-08-12T14:32:25.206422Z"
    },
    "id": "JBArLbqWP0jz",
    "papermill": {
     "duration": 23.911586,
     "end_time": "2021-08-13T13:01:45.284380",
     "exception": false,
     "start_time": "2021-08-13T13:01:21.372794",
     "status": "completed"
    },
    "tags": []
   },
   "outputs": [
    {
     "data": {
      "application/vnd.jupyter.widget-view+json": {
       "model_id": "0d06b06201534dbbade7a23d62db5a36",
       "version_major": 2,
       "version_minor": 0
      },
      "text/plain": [
       "Downloading:   0%|          | 0.00/442 [00:00<?, ?B/s]"
      ]
     },
     "metadata": {},
     "output_type": "display_data"
    },
    {
     "data": {
      "application/vnd.jupyter.widget-view+json": {
       "model_id": "b740a872639649d1adc187c54b4238d0",
       "version_major": 2,
       "version_minor": 0
      },
      "text/plain": [
       "Downloading:   0%|          | 0.00/232k [00:00<?, ?B/s]"
      ]
     },
     "metadata": {},
     "output_type": "display_data"
    },
    {
     "data": {
      "application/vnd.jupyter.widget-view+json": {
       "model_id": "88c0fa5896fc4d6d98f9db56a6821f0e",
       "version_major": 2,
       "version_minor": 0
      },
      "text/plain": [
       "Downloading:   0%|          | 0.00/466k [00:00<?, ?B/s]"
      ]
     },
     "metadata": {},
     "output_type": "display_data"
    },
    {
     "data": {
      "application/vnd.jupyter.widget-view+json": {
       "model_id": "0c57315e39d84682b658eda52800d395",
       "version_major": 2,
       "version_minor": 0
      },
      "text/plain": [
       "Downloading:   0%|          | 0.00/28.0 [00:00<?, ?B/s]"
      ]
     },
     "metadata": {},
     "output_type": "display_data"
    },
    {
     "data": {
      "application/vnd.jupyter.widget-view+json": {
       "model_id": "ce8b00af05a34502844c83c778a5d55e",
       "version_major": 2,
       "version_minor": 0
      },
      "text/plain": [
       "Downloading:   0%|          | 0.00/363M [00:00<?, ?B/s]"
      ]
     },
     "metadata": {},
     "output_type": "display_data"
    },
    {
     "name": "stderr",
     "output_type": "stream",
     "text": [
      "Some layers from the model checkpoint at distilbert-base-uncased were not used when initializing TFDistilBertModel: ['vocab_layer_norm', 'activation_13', 'vocab_projector', 'vocab_transform']\n",
      "- This IS expected if you are initializing TFDistilBertModel from the checkpoint of a model trained on another task or with another architecture (e.g. initializing a BertForSequenceClassification model from a BertForPreTraining model).\n",
      "- This IS NOT expected if you are initializing TFDistilBertModel from the checkpoint of a model that you expect to be exactly identical (initializing a BertForSequenceClassification model from a BertForSequenceClassification model).\n",
      "All the layers of TFDistilBertModel were initialized from the model checkpoint at distilbert-base-uncased.\n",
      "If your task is similar to the task the model of the checkpoint was trained on, you can already use TFDistilBertModel for predictions without further training.\n"
     ]
    }
   ],
   "source": [
    "from transformers import AutoTokenizer, TFAutoModel\n",
    "\n",
    "checkpoint = \"distilbert-base-uncased\"\n",
    "\n",
    "tokenizer = AutoTokenizer.from_pretrained(checkpoint)\n",
    "bert = TFAutoModel.from_pretrained(checkpoint, output_hidden_states=True)\n",
    "bert.distilbert.trainable = False  # freeze transformer"
   ]
  },
  {
   "cell_type": "markdown",
   "id": "cfb0531f",
   "metadata": {
    "id": "hoVJvlukXTuC",
    "papermill": {
     "duration": 0.019685,
     "end_time": "2021-08-13T13:01:45.324155",
     "exception": false,
     "start_time": "2021-08-13T13:01:45.304470",
     "status": "completed"
    },
    "tags": []
   },
   "source": [
    "# Prepare the data"
   ]
  },
  {
   "cell_type": "code",
   "execution_count": 3,
   "id": "5829194b",
   "metadata": {
    "execution": {
     "iopub.execute_input": "2021-08-13T13:01:45.368741Z",
     "iopub.status.busy": "2021-08-13T13:01:45.368058Z",
     "iopub.status.idle": "2021-08-13T13:01:45.370921Z",
     "shell.execute_reply": "2021-08-13T13:01:45.370524Z",
     "shell.execute_reply.started": "2021-08-12T14:33:07.028260Z"
    },
    "id": "8ibLE-RlX0rX",
    "papermill": {
     "duration": 0.027228,
     "end_time": "2021-08-13T13:01:45.371027",
     "exception": false,
     "start_time": "2021-08-13T13:01:45.343799",
     "status": "completed"
    },
    "tags": []
   },
   "outputs": [],
   "source": [
    "train_set = {'seqs':X_train.values.tolist(), 'targets':y_train.values.tolist()}\n",
    "test_set  = {'seqs':X_test.values.tolist(),  'targets':y_test.values.tolist()}\n",
    "val_set = {'seqs':X_val.values.tolist(),  'targets':y_val.values.tolist()}"
   ]
  },
  {
   "cell_type": "markdown",
   "id": "aadce54f",
   "metadata": {
    "id": "Zo9kaC5bXWEi",
    "papermill": {
     "duration": 0.019483,
     "end_time": "2021-08-13T13:01:45.410457",
     "exception": false,
     "start_time": "2021-08-13T13:01:45.390974",
     "status": "completed"
    },
    "tags": []
   },
   "source": [
    "## Tokenization"
   ]
  },
  {
   "cell_type": "code",
   "execution_count": 4,
   "id": "dc8993ae",
   "metadata": {
    "execution": {
     "iopub.execute_input": "2021-08-13T13:01:45.465167Z",
     "iopub.status.busy": "2021-08-13T13:01:45.464528Z",
     "iopub.status.idle": "2021-08-13T13:01:53.560455Z",
     "shell.execute_reply": "2021-08-13T13:01:53.559761Z",
     "shell.execute_reply.started": "2021-08-12T14:33:20.098774Z"
    },
    "id": "eAXGLNxIROmf",
    "papermill": {
     "duration": 8.130508,
     "end_time": "2021-08-13T13:01:53.560631",
     "exception": false,
     "start_time": "2021-08-13T13:01:45.430123",
     "status": "completed"
    },
    "tags": []
   },
   "outputs": [],
   "source": [
    "def tokenize_seqs(seqs):\n",
    "    encoded = tokenizer(\n",
    "        seqs,\n",
    "        padding=True,\n",
    "        truncation=True,\n",
    "        return_tensors='tf',\n",
    "    )\n",
    "    return encoded.data\n",
    "tokenized_train = tokenize_seqs(train_set['seqs'])\n",
    "tokenized_test = tokenize_seqs(test_set['seqs'])\n",
    "tokenized_val = tokenize_seqs(val_set['seqs'])"
   ]
  },
  {
   "cell_type": "code",
   "execution_count": 5,
   "id": "8beeea8a",
   "metadata": {
    "execution": {
     "iopub.execute_input": "2021-08-13T13:01:53.614531Z",
     "iopub.status.busy": "2021-08-13T13:01:53.613701Z",
     "iopub.status.idle": "2021-08-13T13:01:53.616805Z",
     "shell.execute_reply": "2021-08-13T13:01:53.617248Z",
     "shell.execute_reply.started": "2021-08-12T14:33:28.520283Z"
    },
    "papermill": {
     "duration": 0.033271,
     "end_time": "2021-08-13T13:01:53.617387",
     "exception": false,
     "start_time": "2021-08-13T13:01:53.584116",
     "status": "completed"
    },
    "tags": []
   },
   "outputs": [
    {
     "data": {
      "text/plain": [
       "{'input_ids': <tf.Tensor: shape=(8640, 512), dtype=int32, numpy=\n",
       " array([[ 101, 1037, 3145, ...,    0,    0,    0],\n",
       "        [ 101, 2011, 1018, ...,    0,    0,    0],\n",
       "        [ 101, 2206, 1996, ...,    0,    0,    0],\n",
       "        ...,\n",
       "        [ 101, 2852, 1012, ...,    0,    0,    0],\n",
       "        [ 101, 2054, 2003, ...,    0,    0,    0],\n",
       "        [ 101, 3419, 1010, ...,    0,    0,    0]], dtype=int32)>,\n",
       " 'attention_mask': <tf.Tensor: shape=(8640, 512), dtype=int32, numpy=\n",
       " array([[1, 1, 1, ..., 0, 0, 0],\n",
       "        [1, 1, 1, ..., 0, 0, 0],\n",
       "        [1, 1, 1, ..., 0, 0, 0],\n",
       "        ...,\n",
       "        [1, 1, 1, ..., 0, 0, 0],\n",
       "        [1, 1, 1, ..., 0, 0, 0],\n",
       "        [1, 1, 1, ..., 0, 0, 0]], dtype=int32)>}"
      ]
     },
     "execution_count": 5,
     "metadata": {},
     "output_type": "execute_result"
    }
   ],
   "source": [
    "tokenized_train"
   ]
  },
  {
   "cell_type": "markdown",
   "id": "3ce09337",
   "metadata": {
    "id": "TYD8iHbMY4k-",
    "papermill": {
     "duration": 0.024494,
     "end_time": "2021-08-13T13:01:53.664156",
     "exception": false,
     "start_time": "2021-08-13T13:01:53.639662",
     "status": "completed"
    },
    "tags": []
   },
   "source": [
    "## Label encoding"
   ]
  },
  {
   "cell_type": "code",
   "execution_count": 6,
   "id": "bcf11ea0",
   "metadata": {
    "execution": {
     "iopub.execute_input": "2021-08-13T13:01:53.716808Z",
     "iopub.status.busy": "2021-08-13T13:01:53.716010Z",
     "iopub.status.idle": "2021-08-13T13:01:53.725546Z",
     "shell.execute_reply": "2021-08-13T13:01:53.725060Z",
     "shell.execute_reply.started": "2021-08-12T14:34:07.451027Z"
    },
    "id": "Lqh8uYX2T9JL",
    "papermill": {
     "duration": 0.038441,
     "end_time": "2021-08-13T13:01:53.725656",
     "exception": false,
     "start_time": "2021-08-13T13:01:53.687215",
     "status": "completed"
    },
    "tags": []
   },
   "outputs": [],
   "source": [
    "import tensorflow as tf\n",
    "from sklearn.preprocessing import LabelEncoder\n",
    "\n",
    "label_encoder = LabelEncoder()\n",
    "y_train_encoded = label_encoder.fit_transform(train_set['targets'])\n",
    "y_test_encoded  = label_encoder.transform(test_set['targets'])\n",
    "y_val_encoded  = label_encoder.transform(val_set['targets'])\n",
    "\n",
    "y_train_ohe = tf.one_hot(y_train_encoded, depth=len(label_encoder.classes_))\n",
    "y_test_ohe  = tf.one_hot(y_test_encoded, depth=len(label_encoder.classes_))\n",
    "y_val_ohe  = tf.one_hot(y_val_encoded, depth=len(label_encoder.classes_))"
   ]
  },
  {
   "cell_type": "code",
   "execution_count": 7,
   "id": "6ddf1ef1",
   "metadata": {
    "execution": {
     "iopub.execute_input": "2021-08-13T13:01:53.775866Z",
     "iopub.status.busy": "2021-08-13T13:01:53.774828Z",
     "iopub.status.idle": "2021-08-13T13:01:53.778946Z",
     "shell.execute_reply": "2021-08-13T13:01:53.779613Z",
     "shell.execute_reply.started": "2021-08-12T14:34:14.794448Z"
    },
    "papermill": {
     "duration": 0.032571,
     "end_time": "2021-08-13T13:01:53.779808",
     "exception": false,
     "start_time": "2021-08-13T13:01:53.747237",
     "status": "completed"
    },
    "tags": []
   },
   "outputs": [
    {
     "name": "stdout",
     "output_type": "stream",
     "text": [
      "['business' 'comedy' 'cooking' 'crime' 'culture' 'kid' 'lifestyle'\n",
      " 'machine learning' 'politics' 'sport']\n"
     ]
    }
   ],
   "source": [
    "print(label_encoder.classes_)\n",
    "np.save(\"fineTune_classes\", label_encoder.classes_)"
   ]
  },
  {
   "cell_type": "code",
   "execution_count": 8,
   "id": "5b209e21",
   "metadata": {
    "execution": {
     "iopub.execute_input": "2021-08-13T13:01:53.828027Z",
     "iopub.status.busy": "2021-08-13T13:01:53.827470Z",
     "iopub.status.idle": "2021-08-13T13:01:53.839139Z",
     "shell.execute_reply": "2021-08-13T13:01:53.838717Z",
     "shell.execute_reply.started": "2021-08-12T14:34:42.435471Z"
    },
    "papermill": {
     "duration": 0.038571,
     "end_time": "2021-08-13T13:01:53.839241",
     "exception": false,
     "start_time": "2021-08-13T13:01:53.800670",
     "status": "completed"
    },
    "tags": []
   },
   "outputs": [],
   "source": [
    "train_dataset = tf.data.Dataset.from_tensor_slices((tokenized_train, y_train_ohe))\n",
    "test_dataset  = tf.data.Dataset.from_tensor_slices((tokenized_test,  y_test_ohe))\n",
    "val_dataset  = tf.data.Dataset.from_tensor_slices((tokenized_val,  y_val_ohe))\n",
    "\n",
    "BATCH_SIZE = 16\n",
    "train_dataset = train_dataset.shuffle(SHUFFLE_BUFFER_SIZE).batch(BATCH_SIZE)\n",
    "test_dataset  = test_dataset.shuffle(SHUFFLE_BUFFER_SIZE).batch(BATCH_SIZE)\n",
    "val_dataset  = val_dataset.shuffle(SHUFFLE_BUFFER_SIZE).batch(BATCH_SIZE)"
   ]
  },
  {
   "cell_type": "markdown",
   "id": "b3434311",
   "metadata": {
    "id": "XlzeDfObY8yN",
    "papermill": {
     "duration": 0.024677,
     "end_time": "2021-08-13T13:01:53.888623",
     "exception": false,
     "start_time": "2021-08-13T13:01:53.863946",
     "status": "completed"
    },
    "tags": []
   },
   "source": [
    "# Modeling"
   ]
  },
  {
   "cell_type": "code",
   "execution_count": 9,
   "id": "5e817902",
   "metadata": {
    "execution": {
     "iopub.execute_input": "2021-08-13T13:01:53.973537Z",
     "iopub.status.busy": "2021-08-13T13:01:53.962249Z",
     "iopub.status.idle": "2021-08-13T13:01:53.974506Z",
     "shell.execute_reply": "2021-08-13T13:01:53.975392Z",
     "shell.execute_reply.started": "2021-08-12T14:34:45.550855Z"
    },
    "id": "Oy5LIzT1Y9i3",
    "papermill": {
     "duration": 0.060988,
     "end_time": "2021-08-13T13:01:53.975591",
     "exception": false,
     "start_time": "2021-08-13T13:01:53.914603",
     "status": "completed"
    },
    "tags": []
   },
   "outputs": [],
   "source": [
    "from tensorflow.keras.losses import CategoricalCrossentropy\n",
    "from tensorflow.keras.layers import Bidirectional, GRU, Input\n",
    "\n",
    "def get_model():\n",
    "    max_seq_length = tokenizer.model_max_length\n",
    "    n_classes = len(label_encoder.classes_)\n",
    "\n",
    "    input_ids = Input(shape=(max_seq_length,),dtype='int32', name=\"input_ids\")\n",
    "    attention_mask = Input(shape=(max_seq_length,),dtype='int32', name=\"attention_mask\")\n",
    "\n",
    "    transformer_output = bert({'input_ids':input_ids, 'attention_mask':attention_mask})  \n",
    "    \n",
    "    last_hidden_state = transformer_output['last_hidden_state']\n",
    "    # Model Head\n",
    "    bi_gru = Bidirectional(GRU(64))(last_hidden_state)\n",
    "    h1 = tf.keras.layers.Dense(16, activation='relu')(bi_gru)\n",
    "    dropout = tf.keras.layers.Dropout(0.2)(h1)\n",
    "    output = tf.keras.layers.Dense(n_classes, activation='softmax', name=\"outputs\")(dropout)\n",
    "\n",
    "    new_model = tf.keras.models.Model(inputs = [input_ids, attention_mask], \n",
    "                                      outputs = output)\n",
    "    \n",
    "    new_model.compile(tf.keras.optimizers.Adam(learning_rate=0.003), \n",
    "                      loss=CategoricalCrossentropy(from_logits=False), \n",
    "                      metrics=['accuracy'])\n",
    "\n",
    "    return new_model"
   ]
  },
  {
   "cell_type": "markdown",
   "id": "2a2f5352",
   "metadata": {
    "id": "r6s6z2u_Z4Wp",
    "papermill": {
     "duration": 0.021626,
     "end_time": "2021-08-13T13:01:54.030532",
     "exception": false,
     "start_time": "2021-08-13T13:01:54.008906",
     "status": "completed"
    },
    "tags": []
   },
   "source": [
    "## Train the model"
   ]
  },
  {
   "cell_type": "code",
   "execution_count": 10,
   "id": "f1ee57be",
   "metadata": {
    "execution": {
     "iopub.execute_input": "2021-08-13T13:01:54.084730Z",
     "iopub.status.busy": "2021-08-13T13:01:54.084054Z",
     "iopub.status.idle": "2021-08-13T13:01:59.876649Z",
     "shell.execute_reply": "2021-08-13T13:01:59.876160Z",
     "shell.execute_reply.started": "2021-08-12T14:34:58.372067Z"
    },
    "id": "e6Og98eJo2df",
    "papermill": {
     "duration": 5.825011,
     "end_time": "2021-08-13T13:01:59.876776",
     "exception": false,
     "start_time": "2021-08-13T13:01:54.051765",
     "status": "completed"
    },
    "tags": []
   },
   "outputs": [
    {
     "name": "stdout",
     "output_type": "stream",
     "text": [
      "Model: \"model\"\n",
      "__________________________________________________________________________________________________\n",
      "Layer (type)                    Output Shape         Param #     Connected to                     \n",
      "==================================================================================================\n",
      "attention_mask (InputLayer)     [(None, 512)]        0                                            \n",
      "__________________________________________________________________________________________________\n",
      "input_ids (InputLayer)          [(None, 512)]        0                                            \n",
      "__________________________________________________________________________________________________\n",
      "tf_distil_bert_model (TFDistilB TFBaseModelOutput(la 66362880    attention_mask[0][0]             \n",
      "                                                                 input_ids[0][0]                  \n",
      "__________________________________________________________________________________________________\n",
      "bidirectional (Bidirectional)   (None, 128)          320256      tf_distil_bert_model[0][7]       \n",
      "__________________________________________________________________________________________________\n",
      "dense (Dense)                   (None, 16)           2064        bidirectional[0][0]              \n",
      "__________________________________________________________________________________________________\n",
      "dropout_19 (Dropout)            (None, 16)           0           dense[0][0]                      \n",
      "__________________________________________________________________________________________________\n",
      "outputs (Dense)                 (None, 10)           170         dropout_19[0][0]                 \n",
      "==================================================================================================\n",
      "Total params: 66,685,370\n",
      "Trainable params: 322,490\n",
      "Non-trainable params: 66,362,880\n",
      "__________________________________________________________________________________________________\n"
     ]
    }
   ],
   "source": [
    "new_model = get_model()\n",
    "new_model.summary()"
   ]
  },
  {
   "cell_type": "code",
   "execution_count": 11,
   "id": "cf280da2",
   "metadata": {
    "execution": {
     "iopub.execute_input": "2021-08-13T13:01:59.930224Z",
     "iopub.status.busy": "2021-08-13T13:01:59.929631Z",
     "iopub.status.idle": "2021-08-13T13:24:50.802085Z",
     "shell.execute_reply": "2021-08-13T13:24:50.802730Z",
     "shell.execute_reply.started": "2021-08-12T14:35:35.929149Z"
    },
    "id": "R7tEtS1JZvUM",
    "papermill": {
     "duration": 1370.90314,
     "end_time": "2021-08-13T13:24:50.802925",
     "exception": false,
     "start_time": "2021-08-13T13:01:59.899785",
     "status": "completed"
    },
    "tags": []
   },
   "outputs": [
    {
     "name": "stdout",
     "output_type": "stream",
     "text": [
      "Epoch 1/20\n",
      "540/540 [==============================] - 151s 255ms/step - loss: 2.0565 - accuracy: 0.2408 - val_loss: 1.0508 - val_accuracy: 0.6417\n",
      "Epoch 2/20\n",
      "540/540 [==============================] - 135s 251ms/step - loss: 1.1481 - accuracy: 0.6041 - val_loss: 0.7142 - val_accuracy: 0.7875\n",
      "Epoch 3/20\n",
      "540/540 [==============================] - 135s 251ms/step - loss: 0.7731 - accuracy: 0.7407 - val_loss: 0.5293 - val_accuracy: 0.8385\n",
      "Epoch 4/20\n",
      "540/540 [==============================] - 135s 250ms/step - loss: 0.6086 - accuracy: 0.7908 - val_loss: 0.4552 - val_accuracy: 0.8635\n",
      "Epoch 5/20\n",
      "540/540 [==============================] - 135s 251ms/step - loss: 0.4926 - accuracy: 0.8263 - val_loss: 0.3884 - val_accuracy: 0.8781\n",
      "Epoch 6/20\n",
      "540/540 [==============================] - 135s 251ms/step - loss: 0.3888 - accuracy: 0.8697 - val_loss: 0.4372 - val_accuracy: 0.8698\n",
      "Epoch 7/20\n",
      "540/540 [==============================] - 135s 251ms/step - loss: 0.3765 - accuracy: 0.8712 - val_loss: 0.4258 - val_accuracy: 0.8792\n",
      "Epoch 8/20\n",
      "540/540 [==============================] - 135s 251ms/step - loss: 0.3413 - accuracy: 0.8826 - val_loss: 0.4366 - val_accuracy: 0.8844\n",
      "Epoch 9/20\n",
      "540/540 [==============================] - 135s 250ms/step - loss: 0.2872 - accuracy: 0.9016 - val_loss: 0.4443 - val_accuracy: 0.8781\n",
      "Epoch 10/20\n",
      "540/540 [==============================] - 136s 251ms/step - loss: 0.2579 - accuracy: 0.9082 - val_loss: 0.4825 - val_accuracy: 0.8750\n"
     ]
    }
   ],
   "source": [
    "early_stop = tf.keras.callbacks.EarlyStopping(monitor='val_loss', min_delta=0.001, \n",
    "                                              patience=5, restore_best_weights=False)\n",
    "\n",
    "# Do not specify the batch_size if your data is in the form of datasets,\n",
    "history = new_model.fit(train_dataset,\n",
    "                        validation_data=val_dataset,\n",
    "                        epochs=20,\n",
    "                        callbacks=[early_stop])"
   ]
  },
  {
   "cell_type": "markdown",
   "id": "c6f7df7c",
   "metadata": {
    "papermill": {
     "duration": 1.374714,
     "end_time": "2021-08-13T13:24:53.571531",
     "exception": false,
     "start_time": "2021-08-13T13:24:52.196817",
     "status": "completed"
    },
    "tags": []
   },
   "source": [
    "## Save model\n",
    "By using SavedModel format → https://www.tensorflow.org/guide/saved_model"
   ]
  },
  {
   "cell_type": "code",
   "execution_count": 12,
   "id": "68ca82f7",
   "metadata": {
    "execution": {
     "iopub.execute_input": "2021-08-13T13:24:56.575139Z",
     "iopub.status.busy": "2021-08-13T13:24:56.574149Z",
     "iopub.status.idle": "2021-08-13T13:25:32.054160Z",
     "shell.execute_reply": "2021-08-13T13:25:32.053651Z",
     "shell.execute_reply.started": "2021-08-12T15:07:37.821244Z"
    },
    "papermill": {
     "duration": 36.996695,
     "end_time": "2021-08-13T13:25:32.054302",
     "exception": false,
     "start_time": "2021-08-13T13:24:55.057607",
     "status": "completed"
    },
    "tags": []
   },
   "outputs": [],
   "source": [
    "# Saved model\n",
    "tf.saved_model.save(new_model, \"fine-tuned-distrilled-bert\")"
   ]
  },
  {
   "cell_type": "code",
   "execution_count": 13,
   "id": "2c3ce352",
   "metadata": {
    "execution": {
     "iopub.execute_input": "2021-08-13T13:25:35.010822Z",
     "iopub.status.busy": "2021-08-13T13:25:34.965670Z",
     "iopub.status.idle": "2021-08-13T13:25:48.941713Z",
     "shell.execute_reply": "2021-08-13T13:25:48.941181Z",
     "shell.execute_reply.started": "2021-08-12T15:09:09.405986Z"
    },
    "papermill": {
     "duration": 15.470122,
     "end_time": "2021-08-13T13:25:48.941845",
     "exception": false,
     "start_time": "2021-08-13T13:25:33.471723",
     "status": "completed"
    },
    "tags": []
   },
   "outputs": [
    {
     "name": "stdout",
     "output_type": "stream",
     "text": [
      "tar: Removing leading `/' from member names\r\n",
      "/kaggle/working/fine-tuned-distrilled-bert/\r\n",
      "/kaggle/working/fine-tuned-distrilled-bert/assets/\r\n",
      "/kaggle/working/fine-tuned-distrilled-bert/saved_model.pb\r\n",
      "/kaggle/working/fine-tuned-distrilled-bert/variables/\r\n",
      "/kaggle/working/fine-tuned-distrilled-bert/variables/variables.index\r\n",
      "/kaggle/working/fine-tuned-distrilled-bert/variables/variables.data-00000-of-00001\r\n"
     ]
    }
   ],
   "source": [
    "# Zipping saved model folder\n",
    "!tar -zcvf \"fine-tuned-distrilled-bert-12Aug2208.tar.gz\" \"/kaggle/working/fine-tuned-distrilled-bert\""
   ]
  },
  {
   "cell_type": "markdown",
   "id": "fd5e1c8d",
   "metadata": {
    "papermill": {
     "duration": 1.386077,
     "end_time": "2021-08-13T13:25:51.707595",
     "exception": false,
     "start_time": "2021-08-13T13:25:50.321518",
     "status": "completed"
    },
    "tags": []
   },
   "source": [
    "## Test Reload model"
   ]
  },
  {
   "cell_type": "code",
   "execution_count": 14,
   "id": "b7d717a2",
   "metadata": {
    "execution": {
     "iopub.execute_input": "2021-08-13T13:25:54.772671Z",
     "iopub.status.busy": "2021-08-13T13:25:54.771648Z",
     "iopub.status.idle": "2021-08-13T13:26:07.704284Z",
     "shell.execute_reply": "2021-08-13T13:26:07.703471Z",
     "shell.execute_reply.started": "2021-08-12T15:09:57.569156Z"
    },
    "papermill": {
     "duration": 14.333932,
     "end_time": "2021-08-13T13:26:07.704413",
     "exception": false,
     "start_time": "2021-08-13T13:25:53.370481",
     "status": "completed"
    },
    "tags": []
   },
   "outputs": [
    {
     "name": "stdout",
     "output_type": "stream",
     "text": [
      "ConcreteFunction signature_wrapper(*, input_ids, attention_mask)\n",
      "  Args:\n",
      "    attention_mask: int32 Tensor, shape=(None, 512)\n",
      "    input_ids: int32 Tensor, shape=(None, 512)\n",
      "  Returns:\n",
      "    {'outputs': <1>}\n",
      "      <1>: float32 Tensor, shape=(None, 10)\n"
     ]
    }
   ],
   "source": [
    "loaded_model = tf.saved_model.load(\"fine-tuned-distrilled-bert\")\n",
    "infer = loaded_model.signatures[\"serving_default\"]\n",
    "print(infer)"
   ]
  },
  {
   "cell_type": "code",
   "execution_count": 15,
   "id": "bd99be5f",
   "metadata": {
    "execution": {
     "iopub.execute_input": "2021-08-13T13:26:10.825278Z",
     "iopub.status.busy": "2021-08-13T13:26:10.824367Z",
     "iopub.status.idle": "2021-08-13T13:26:11.537166Z",
     "shell.execute_reply": "2021-08-13T13:26:11.536709Z",
     "shell.execute_reply.started": "2021-08-12T15:16:50.116151Z"
    },
    "papermill": {
     "duration": 2.220181,
     "end_time": "2021-08-13T13:26:11.537317",
     "exception": false,
     "start_time": "2021-08-13T13:26:09.317136",
     "status": "completed"
    },
    "tags": []
   },
   "outputs": [
    {
     "name": "stdout",
     "output_type": "stream",
     "text": [
      "Predicted proba : {'outputs': <tf.Tensor: shape=(2, 10), dtype=float32, numpy=\n",
      "array([[2.4615554e-03, 6.7581269e-09, 5.4267210e-05, 1.4940582e-11,\n",
      "        1.2185089e-03, 5.3880327e-11, 1.8712670e-05, 9.9624664e-01,\n",
      "        1.2781814e-08, 1.8195030e-07],\n",
      "       [4.6339068e-01, 1.8531788e-05, 2.2006057e-05, 2.3142245e-06,\n",
      "        1.7814012e-04, 1.4582944e-02, 2.7127815e-05, 7.0100964e-07,\n",
      "        5.2177757e-01, 2.6920155e-08]], dtype=float32)>}\n",
      "\n",
      "Check sum : tf.Tensor(1.9999999, shape=(), dtype=float32)\n"
     ]
    }
   ],
   "source": [
    "labeling = infer(attention_mask=tokenized_test['attention_mask'][:2], \n",
    "                 input_ids=tokenized_test['input_ids'][:2])\n",
    "\n",
    "print(\"Predicted proba :\",labeling)\n",
    "print(\"\\nCheck sum :\", tf.reduce_sum(labeling['outputs']))"
   ]
  },
  {
   "cell_type": "code",
   "execution_count": 16,
   "id": "858d4ede",
   "metadata": {
    "execution": {
     "iopub.execute_input": "2021-08-13T13:26:14.871131Z",
     "iopub.status.busy": "2021-08-13T13:26:14.870110Z",
     "iopub.status.idle": "2021-08-13T13:26:14.877723Z",
     "shell.execute_reply": "2021-08-13T13:26:14.878683Z",
     "shell.execute_reply.started": "2021-08-12T15:17:02.623312Z"
    },
    "papermill": {
     "duration": 1.819738,
     "end_time": "2021-08-13T13:26:14.878901",
     "exception": false,
     "start_time": "2021-08-13T13:26:13.059163",
     "status": "completed"
    },
    "tags": []
   },
   "outputs": [
    {
     "name": "stdout",
     "output_type": "stream",
     "text": [
      "(y_true, y_pred) = (array([7, 8]), array([7, 8]))\n"
     ]
    }
   ],
   "source": [
    "y_true = tf.argmax(y_test_ohe[:2], axis=1).numpy()\n",
    "y_pred = tf.argmax(labeling['outputs'], axis=1).numpy()\n",
    "\n",
    "print(f'(y_true, y_pred) = {(y_true,y_pred)}')"
   ]
  },
  {
   "cell_type": "markdown",
   "id": "f008ac8e",
   "metadata": {
    "papermill": {
     "duration": 1.492955,
     "end_time": "2021-08-13T13:26:17.887386",
     "exception": false,
     "start_time": "2021-08-13T13:26:16.394431",
     "status": "completed"
    },
    "tags": []
   },
   "source": [
    "## Evaluate with test set"
   ]
  },
  {
   "cell_type": "code",
   "execution_count": 17,
   "id": "44ad81ed",
   "metadata": {
    "execution": {
     "iopub.execute_input": "2021-08-13T13:26:20.909913Z",
     "iopub.status.busy": "2021-08-13T13:26:20.908967Z",
     "iopub.status.idle": "2021-08-13T13:27:05.716201Z",
     "shell.execute_reply": "2021-08-13T13:27:05.717130Z",
     "shell.execute_reply.started": "2021-08-12T15:30:59.941353Z"
    },
    "papermill": {
     "duration": 46.341221,
     "end_time": "2021-08-13T13:27:05.717379",
     "exception": false,
     "start_time": "2021-08-13T13:26:19.376158",
     "status": "completed"
    },
    "tags": []
   },
   "outputs": [
    {
     "name": "stdout",
     "output_type": "stream",
     "text": [
      "0->100->200->300->400->500->600->700->800->900->1000->1100->1200->1300->1400->1500->1600->1700->1800->1900->2000->2100->2200->2300->2400->2500->2600->2700->2800->2900->3000->3100->3200->3300->3400->3500->3600->3700->3800->3900->4000->4100->FineTuning\n",
      "              precision    recall  f1-score   support\n",
      "\n",
      "           0       0.90      0.78      0.84       455\n",
      "           1       0.80      0.89      0.84       405\n",
      "           2       0.68      0.76      0.72       289\n",
      "           3       0.92      0.89      0.90       445\n",
      "           4       0.78      0.65      0.71       355\n",
      "           5       0.85      0.95      0.90       568\n",
      "           6       0.79      0.81      0.80       496\n",
      "           7       0.86      0.77      0.81       311\n",
      "           8       0.89      0.90      0.90       420\n",
      "           9       0.93      0.93      0.93       371\n",
      "\n",
      "    accuracy                           0.84      4115\n",
      "   macro avg       0.84      0.83      0.83      4115\n",
      "weighted avg       0.84      0.84      0.84      4115\n",
      "\n"
     ]
    }
   ],
   "source": [
    "from sklearn.metrics import classification_report\n",
    "\n",
    "results = []\n",
    "\n",
    "for i in range(0,len(X_test),100):\n",
    "    try:\n",
    "        y_pred = infer(attention_mask=tokenized_test['attention_mask'][i:i+100], \n",
    "                         input_ids=tokenized_test['input_ids'][i:i+100])\n",
    "        y_pred = tf.argmax(y_pred['outputs'], axis=1).numpy().ravel().tolist()\n",
    "        results+=y_pred\n",
    "    except Exception as e:\n",
    "        print(e)\n",
    "    finally:\n",
    "        print(i, end='->')\n",
    "\n",
    "print(\"FineTuning\")\n",
    "print(classification_report(y_test_encoded, results))"
   ]
  },
  {
   "cell_type": "code",
   "execution_count": 18,
   "id": "ef7a4bae",
   "metadata": {
    "execution": {
     "iopub.execute_input": "2021-08-13T13:27:08.832420Z",
     "iopub.status.busy": "2021-08-13T13:27:08.823230Z",
     "iopub.status.idle": "2021-08-13T13:27:09.188560Z",
     "shell.execute_reply": "2021-08-13T13:27:09.189766Z",
     "shell.execute_reply.started": "2021-08-12T15:32:34.987381Z"
    },
    "papermill": {
     "duration": 1.941399,
     "end_time": "2021-08-13T13:27:09.189995",
     "exception": false,
     "start_time": "2021-08-13T13:27:07.248596",
     "status": "completed"
    },
    "tags": []
   },
   "outputs": [
    {
     "data": {
      "image/png": "[encoded data removed]",
      "text/plain": [
       "<Figure size 864x432 with 2 Axes>"
      ]
     },
     "metadata": {
      "needs_background": "light"
     },
     "output_type": "display_data"
    }
   ],
   "source": [
    "import matplotlib.pyplot as plt\n",
    "\n",
    "fig, ax = plt.subplots(1,2, figsize=(12,6))\n",
    "EPOCHS=len(history.history['loss'])\n",
    "ax[0].plot(list(range(EPOCHS)), history.history['loss'], label='loss')\n",
    "ax[0].plot(list(range(EPOCHS)), history.history['val_loss'], label='val_loss')\n",
    "ax[0].set_title('loss')\n",
    "ax[0].legend(loc='upper right')\n",
    "\n",
    "ax[1].plot(list(range(EPOCHS)), history.history['accuracy'], label='accuracy')\n",
    "ax[1].plot(list(range(EPOCHS)), history.history['val_accuracy'], label='val_accuracy')\n",
    "ax[1].set_title('accuracy')\n",
    "ax[1].legend(loc='lower right')\n",
    "plt.show()"
   ]
  },
  {
   "cell_type": "code",
   "execution_count": null,
   "id": "795a64e5",
   "metadata": {
    "papermill": {
     "duration": 1.512076,
     "end_time": "2021-08-13T13:27:12.468588",
     "exception": false,
     "start_time": "2021-08-13T13:27:10.956512",
     "status": "completed"
    },
    "tags": []
   },
   "outputs": [],
   "source": []
  }
 ],
 "metadata": {
  "kernelspec": {
   "display_name": "Python 3",
   "language": "python",
   "name": "python3"
  },
  "language_info": {
   "codemirror_mode": {
    "name": "ipython",
    "version": 3
   },
   "file_extension": ".py",
   "mimetype": "text/x-python",
   "name": "python",
   "nbconvert_exporter": "python",
   "pygments_lexer": "ipython3",
   "version": "3.7.10"
  },
  "papermill": {
   "default_parameters": {},
   "duration": 1568.810094,
   "end_time": "2021-08-13T13:27:17.500225",
   "environment_variables": {},
   "exception": null,
   "input_path": "__notebook__.ipynb",
   "output_path": "__notebook__.ipynb",
   "parameters": {},
   "start_time": "2021-08-13T13:01:08.690131",
   "version": "2.3.3"
  },
  "widgets": {
   "application/vnd.jupyter.widget-state+json": {
    "state": {
     "03ee7507479b487084dda385d6a87374": {
      "model_module": "@jupyter-widgets/controls",
      "model_module_version": "1.5.0",
      "model_name": "HTMLModel",
      "state": {
       "_dom_classes": [],
       "_model_module": "@jupyter-widgets/controls",
       "_model_module_version": "1.5.0",
       "_model_name": "HTMLModel",
       "_view_count": null,
       "_view_module": "@jupyter-widgets/controls",
       "_view_module_version": "1.5.0",
       "_view_name": "HTMLView",
       "description": "",
       "description_tooltip": null,
       "layout": "IPY_MODEL_10ccf7e466874c9596dd1e9b7f08a031",
       "placeholder": "​",
       "style": "IPY_MODEL_a922855f32d943ee971d8ff3863f4113",
       "value": "Downloading: 100%"
      }
     },
     "07f40d0356484eb98237adb10a97f6ac": {
      "model_module": "@jupyter-widgets/base",
      "model_module_version": "1.2.0",
      "model_name": "LayoutModel",
      "state": {
       "_model_module": "@jupyter-widgets/base",
       "_model_module_version": "1.2.0",
       "_model_name": "LayoutModel",
       "_view_count": null,
       "_view_module": "@jupyter-widgets/base",
       "_view_module_version": "1.2.0",
       "_view_name": "LayoutView",
       "align_content": null,
       "align_items": null,
       "align_self": null,
       "border": null,
       "bottom": null,
       "display": null,
       "flex": null,
       "flex_flow": null,
       "grid_area": null,
       "grid_auto_columns": null,
       "grid_auto_flow": null,
       "grid_auto_rows": null,
       "grid_column": null,
       "grid_gap": null,
       "grid_row": null,
       "grid_template_areas": null,
       "grid_template_columns": null,
       "grid_template_rows": null,
       "height": null,
       "justify_content": null,
       "justify_items": null,
       "left": null,
       "margin": null,
       "max_height": null,
       "max_width": null,
       "min_height": null,
       "min_width": null,
       "object_fit": null,
       "object_position": null,
       "order": null,
       "overflow": null,
       "overflow_x": null,
       "overflow_y": null,
       "padding": null,
       "right": null,
       "top": null,
       "visibility": null,
       "width": null
      }
     },
     "0a2361bc2075433da021d8e6a8eb1a42": {
      "model_module": "@jupyter-widgets/base",
      "model_module_version": "1.2.0",
      "model_name": "LayoutModel",
      "state": {
       "_model_module": "@jupyter-widgets/base",
       "_model_module_version": "1.2.0",
       "_model_name": "LayoutModel",
       "_view_count": null,
       "_view_module": "@jupyter-widgets/base",
       "_view_module_version": "1.2.0",
       "_view_name": "LayoutView",
       "align_content": null,
       "align_items": null,
       "align_self": null,
       "border": null,
       "bottom": null,
       "display": null,
       "flex": null,
       "flex_flow": null,
       "grid_area": null,
       "grid_auto_columns": null,
       "grid_auto_flow": null,
       "grid_auto_rows": null,
       "grid_column": null,
       "grid_gap": null,
       "grid_row": null,
       "grid_template_areas": null,
       "grid_template_columns": null,
       "grid_template_rows": null,
       "height": null,
       "justify_content": null,
       "justify_items": null,
       "left": null,
       "margin": null,
       "max_height": null,
       "max_width": null,
       "min_height": null,
       "min_width": null,
       "object_fit": null,
       "object_position": null,
       "order": null,
       "overflow": null,
       "overflow_x": null,
       "overflow_y": null,
       "padding": null,
       "right": null,
       "top": null,
       "visibility": null,
       "width": null
      }
     },
     "0c57315e39d84682b658eda52800d395": {
      "model_module": "@jupyter-widgets/controls",
      "model_module_version": "1.5.0",
      "model_name": "HBoxModel",
      "state": {
       "_dom_classes": [],
       "_model_module": "@jupyter-widgets/controls",
       "_model_module_version": "1.5.0",
       "_model_name": "HBoxModel",
       "_view_count": null,
       "_view_module": "@jupyter-widgets/controls",
       "_view_module_version": "1.5.0",
       "_view_name": "HBoxView",
       "box_style": "",
       "children": [
        "IPY_MODEL_5e19a8720aae4e068f07bcbb536a9c39",
        "IPY_MODEL_9c0efa21a885422dbcf4d6a623994983",
        "IPY_MODEL_da7e7ce5e6604ec7abbed7415713d5c0"
       ],
       "layout": "IPY_MODEL_e148f935b1de44bc8596f7ba0b759945"
      }
     },
     "0d06b06201534dbbade7a23d62db5a36": {
      "model_module": "@jupyter-widgets/controls",
      "model_module_version": "1.5.0",
      "model_name": "HBoxModel",
      "state": {
       "_dom_classes": [],
       "_model_module": "@jupyter-widgets/controls",
       "_model_module_version": "1.5.0",
       "_model_name": "HBoxModel",
       "_view_count": null,
       "_view_module": "@jupyter-widgets/controls",
       "_view_module_version": "1.5.0",
       "_view_name": "HBoxView",
       "box_style": "",
       "children": [
        "IPY_MODEL_c81c3d547dae43bbbde2a7712985d42d",
        "IPY_MODEL_290279171b3945eba692e1ae27004258",
        "IPY_MODEL_775bbe51299245139f50afb2fc5dd0ee"
       ],
       "layout": "IPY_MODEL_a3ce52edee404f29a6c9788cbc86922b"
      }
     },
     "10ccf7e466874c9596dd1e9b7f08a031": {
      "model_module": "@jupyter-widgets/base",
      "model_module_version": "1.2.0",
      "model_name": "LayoutModel",
      "state": {
       "_model_module": "@jupyter-widgets/base",
       "_model_module_version": "1.2.0",
       "_model_name": "LayoutModel",
       "_view_count": null,
       "_view_module": "@jupyter-widgets/base",
       "_view_module_version": "1.2.0",
       "_view_name": "LayoutView",
       "align_content": null,
       "align_items": null,
       "align_self": null,
       "border": null,
       "bottom": null,
       "display": null,
       "flex": null,
       "flex_flow": null,
       "grid_area": null,
       "grid_auto_columns": null,
       "grid_auto_flow": null,
       "grid_auto_rows": null,
       "grid_column": null,
       "grid_gap": null,
       "grid_row": null,
       "grid_template_areas": null,
       "grid_template_columns": null,
       "grid_template_rows": null,
       "height": null,
       "justify_content": null,
       "justify_items": null,
       "left": null,
       "margin": null,
       "max_height": null,
       "max_width": null,
       "min_height": null,
       "min_width": null,
       "object_fit": null,
       "object_position": null,
       "order": null,
       "overflow": null,
       "overflow_x": null,
       "overflow_y": null,
       "padding": null,
       "right": null,
       "top": null,
       "visibility": null,
       "width": null
      }
     },
     "136274a5d6a348b7b901ee89d52c6e14": {
      "model_module": "@jupyter-widgets/controls",
      "model_module_version": "1.5.0",
      "model_name": "ProgressStyleModel",
      "state": {
       "_model_module": "@jupyter-widgets/controls",
       "_model_module_version": "1.5.0",
       "_model_name": "ProgressStyleModel",
       "_view_count": null,
       "_view_module": "@jupyter-widgets/base",
       "_view_module_version": "1.2.0",
       "_view_name": "StyleView",
       "bar_color": null,
       "description_width": ""
      }
     },
     "15ef34dcc0d04c2392cbcef43c21233e": {
      "model_module": "@jupyter-widgets/controls",
      "model_module_version": "1.5.0",
      "model_name": "HTMLModel",
      "state": {
       "_dom_classes": [],
       "_model_module": "@jupyter-widgets/controls",
       "_model_module_version": "1.5.0",
       "_model_name": "HTMLModel",
       "_view_count": null,
       "_view_module": "@jupyter-widgets/controls",
       "_view_module_version": "1.5.0",
       "_view_name": "HTMLView",
       "description": "",
       "description_tooltip": null,
       "layout": "IPY_MODEL_7e33c9f8340a4b9f9e18790279fbf23c",
       "placeholder": "​",
       "style": "IPY_MODEL_5bc6eeba6f454df2be305e937f201f1b",
       "value": " 363M/363M [00:09&lt;00:00, 42.2MB/s]"
      }
     },
     "1904f11e0bc648288927674dd245ec4e": {
      "model_module": "@jupyter-widgets/base",
      "model_module_version": "1.2.0",
      "model_name": "LayoutModel",
      "state": {
       "_model_module": "@jupyter-widgets/base",
       "_model_module_version": "1.2.0",
       "_model_name": "LayoutModel",
       "_view_count": null,
       "_view_module": "@jupyter-widgets/base",
       "_view_module_version": "1.2.0",
       "_view_name": "LayoutView",
       "align_content": null,
       "align_items": null,
       "align_self": null,
       "border": null,
       "bottom": null,
       "display": null,
       "flex": null,
       "flex_flow": null,
       "grid_area": null,
       "grid_auto_columns": null,
       "grid_auto_flow": null,
       "grid_auto_rows": null,
       "grid_column": null,
       "grid_gap": null,
       "grid_row": null,
       "grid_template_areas": null,
       "grid_template_columns": null,
       "grid_template_rows": null,
       "height": null,
       "justify_content": null,
       "justify_items": null,
       "left": null,
       "margin": null,
       "max_height": null,
       "max_width": null,
       "min_height": null,
       "min_width": null,
       "object_fit": null,
       "object_position": null,
       "order": null,
       "overflow": null,
       "overflow_x": null,
       "overflow_y": null,
       "padding": null,
       "right": null,
       "top": null,
       "visibility": null,
       "width": null
      }
     },
     "1a9748ed19a64ffe98bb5c67e7c45767": {
      "model_module": "@jupyter-widgets/controls",
      "model_module_version": "1.5.0",
      "model_name": "FloatProgressModel",
      "state": {
       "_dom_classes": [],
       "_model_module": "@jupyter-widgets/controls",
       "_model_module_version": "1.5.0",
       "_model_name": "FloatProgressModel",
       "_view_count": null,
       "_view_module": "@jupyter-widgets/controls",
       "_view_module_version": "1.5.0",
       "_view_name": "ProgressView",
       "bar_style": "success",
       "description": "",
       "description_tooltip": null,
       "layout": "IPY_MODEL_8fd163fcf0c947dc9a3ecb3d64918344",
       "max": 363423424.0,
       "min": 0.0,
       "orientation": "horizontal",
       "style": "IPY_MODEL_809e86ea95dd4f86801a3aa7fd63b175",
       "value": 363423424.0
      }
     },
     "1ac568b87f91442a9e31b7cb4bdca85d": {
      "model_module": "@jupyter-widgets/base",
      "model_module_version": "1.2.0",
      "model_name": "LayoutModel",
      "state": {
       "_model_module": "@jupyter-widgets/base",
       "_model_module_version": "1.2.0",
       "_model_name": "LayoutModel",
       "_view_count": null,
       "_view_module": "@jupyter-widgets/base",
       "_view_module_version": "1.2.0",
       "_view_name": "LayoutView",
       "align_content": null,
       "align_items": null,
       "align_self": null,
       "border": null,
       "bottom": null,
       "display": null,
       "flex": null,
       "flex_flow": null,
       "grid_area": null,
       "grid_auto_columns": null,
       "grid_auto_flow": null,
       "grid_auto_rows": null,
       "grid_column": null,
       "grid_gap": null,
       "grid_row": null,
       "grid_template_areas": null,
       "grid_template_columns": null,
       "grid_template_rows": null,
       "height": null,
       "justify_content": null,
       "justify_items": null,
       "left": null,
       "margin": null,
       "max_height": null,
       "max_width": null,
       "min_height": null,
       "min_width": null,
       "object_fit": null,
       "object_position": null,
       "order": null,
       "overflow": null,
       "overflow_x": null,
       "overflow_y": null,
       "padding": null,
       "right": null,
       "top": null,
       "visibility": null,
       "width": null
      }
     },
     "1ca4cd0b77a345e19274b2b19706f583": {
      "model_module": "@jupyter-widgets/base",
      "model_module_version": "1.2.0",
      "model_name": "LayoutModel",
      "state": {
       "_model_module": "@jupyter-widgets/base",
       "_model_module_version": "1.2.0",
       "_model_name": "LayoutModel",
       "_view_count": null,
       "_view_module": "@jupyter-widgets/base",
       "_view_module_version": "1.2.0",
       "_view_name": "LayoutView",
       "align_content": null,
       "align_items": null,
       "align_self": null,
       "border": null,
       "bottom": null,
       "display": null,
       "flex": null,
       "flex_flow": null,
       "grid_area": null,
       "grid_auto_columns": null,
       "grid_auto_flow": null,
       "grid_auto_rows": null,
       "grid_column": null,
       "grid_gap": null,
       "grid_row": null,
       "grid_template_areas": null,
       "grid_template_columns": null,
       "grid_template_rows": null,
       "height": null,
       "justify_content": null,
       "justify_items": null,
       "left": null,
       "margin": null,
       "max_height": null,
       "max_width": null,
       "min_height": null,
       "min_width": null,
       "object_fit": null,
       "object_position": null,
       "order": null,
       "overflow": null,
       "overflow_x": null,
       "overflow_y": null,
       "padding": null,
       "right": null,
       "top": null,
       "visibility": null,
       "width": null
      }
     },
     "1fc51bc5273c4ab39403d7cc38ace772": {
      "model_module": "@jupyter-widgets/controls",
      "model_module_version": "1.5.0",
      "model_name": "HTMLModel",
      "state": {
       "_dom_classes": [],
       "_model_module": "@jupyter-widgets/controls",
       "_model_module_version": "1.5.0",
       "_model_name": "HTMLModel",
       "_view_count": null,
       "_view_module": "@jupyter-widgets/controls",
       "_view_module_version": "1.5.0",
       "_view_name": "HTMLView",
       "description": "",
       "description_tooltip": null,
       "layout": "IPY_MODEL_82503a4f52e448a9ab6fa5ab58edc7e0",
       "placeholder": "​",
       "style": "IPY_MODEL_f63498068c044c4dafcf3b4f82d08b22",
       "value": " 232k/232k [00:00&lt;00:00, 1.51MB/s]"
      }
     },
     "22031250da3045b182834420c573ad60": {
      "model_module": "@jupyter-widgets/controls",
      "model_module_version": "1.5.0",
      "model_name": "DescriptionStyleModel",
      "state": {
       "_model_module": "@jupyter-widgets/controls",
       "_model_module_version": "1.5.0",
       "_model_name": "DescriptionStyleModel",
       "_view_count": null,
       "_view_module": "@jupyter-widgets/base",
       "_view_module_version": "1.2.0",
       "_view_name": "StyleView",
       "description_width": ""
      }
     },
     "290279171b3945eba692e1ae27004258": {
      "model_module": "@jupyter-widgets/controls",
      "model_module_version": "1.5.0",
      "model_name": "FloatProgressModel",
      "state": {
       "_dom_classes": [],
       "_model_module": "@jupyter-widgets/controls",
       "_model_module_version": "1.5.0",
       "_model_name": "FloatProgressModel",
       "_view_count": null,
       "_view_module": "@jupyter-widgets/controls",
       "_view_module_version": "1.5.0",
       "_view_name": "ProgressView",
       "bar_style": "success",
       "description": "",
       "description_tooltip": null,
       "layout": "IPY_MODEL_bcd8bbb6ee4e492f98d1cb901bbdb375",
       "max": 442.0,
       "min": 0.0,
       "orientation": "horizontal",
       "style": "IPY_MODEL_3149d289db5348d18f0918b848ec7221",
       "value": 442.0
      }
     },
     "3149d289db5348d18f0918b848ec7221": {
      "model_module": "@jupyter-widgets/controls",
      "model_module_version": "1.5.0",
      "model_name": "ProgressStyleModel",
      "state": {
       "_model_module": "@jupyter-widgets/controls",
       "_model_module_version": "1.5.0",
       "_model_name": "ProgressStyleModel",
       "_view_count": null,
       "_view_module": "@jupyter-widgets/base",
       "_view_module_version": "1.2.0",
       "_view_name": "StyleView",
       "bar_color": null,
       "description_width": ""
      }
     },
     "32359b025d5147879a6340d3d3ebc78d": {
      "model_module": "@jupyter-widgets/controls",
      "model_module_version": "1.5.0",
      "model_name": "DescriptionStyleModel",
      "state": {
       "_model_module": "@jupyter-widgets/controls",
       "_model_module_version": "1.5.0",
       "_model_name": "DescriptionStyleModel",
       "_view_count": null,
       "_view_module": "@jupyter-widgets/base",
       "_view_module_version": "1.2.0",
       "_view_name": "StyleView",
       "description_width": ""
      }
     },
     "33477a98e92f483fa02380133abd886e": {
      "model_module": "@jupyter-widgets/controls",
      "model_module_version": "1.5.0",
      "model_name": "HTMLModel",
      "state": {
       "_dom_classes": [],
       "_model_module": "@jupyter-widgets/controls",
       "_model_module_version": "1.5.0",
       "_model_name": "HTMLModel",
       "_view_count": null,
       "_view_module": "@jupyter-widgets/controls",
       "_view_module_version": "1.5.0",
       "_view_name": "HTMLView",
       "description": "",
       "description_tooltip": null,
       "layout": "IPY_MODEL_d9cd5ea88763456292bfb6b97fb307e4",
       "placeholder": "​",
       "style": "IPY_MODEL_ae6f741100a2442caf7e335d094f0ea2",
       "value": "Downloading: 100%"
      }
     },
     "3a943c8f62ad4b14a958f665ec44af12": {
      "model_module": "@jupyter-widgets/controls",
      "model_module_version": "1.5.0",
      "model_name": "HTMLModel",
      "state": {
       "_dom_classes": [],
       "_model_module": "@jupyter-widgets/controls",
       "_model_module_version": "1.5.0",
       "_model_name": "HTMLModel",
       "_view_count": null,
       "_view_module": "@jupyter-widgets/controls",
       "_view_module_version": "1.5.0",
       "_view_name": "HTMLView",
       "description": "",
       "description_tooltip": null,
       "layout": "IPY_MODEL_ee852a080d974d1bb95599e394d1613c",
       "placeholder": "​",
       "style": "IPY_MODEL_4c3338fc23ab4eb0b368da95a3d9dc6d",
       "value": " 466k/466k [00:00&lt;00:00, 1.11MB/s]"
      }
     },
     "431b812401454210975df092c57e06ee": {
      "model_module": "@jupyter-widgets/base",
      "model_module_version": "1.2.0",
      "model_name": "LayoutModel",
      "state": {
       "_model_module": "@jupyter-widgets/base",
       "_model_module_version": "1.2.0",
       "_model_name": "LayoutModel",
       "_view_count": null,
       "_view_module": "@jupyter-widgets/base",
       "_view_module_version": "1.2.0",
       "_view_name": "LayoutView",
       "align_content": null,
       "align_items": null,
       "align_self": null,
       "border": null,
       "bottom": null,
       "display": null,
       "flex": null,
       "flex_flow": null,
       "grid_area": null,
       "grid_auto_columns": null,
       "grid_auto_flow": null,
       "grid_auto_rows": null,
       "grid_column": null,
       "grid_gap": null,
       "grid_row": null,
       "grid_template_areas": null,
       "grid_template_columns": null,
       "grid_template_rows": null,
       "height": null,
       "justify_content": null,
       "justify_items": null,
       "left": null,
       "margin": null,
       "max_height": null,
       "max_width": null,
       "min_height": null,
       "min_width": null,
       "object_fit": null,
       "object_position": null,
       "order": null,
       "overflow": null,
       "overflow_x": null,
       "overflow_y": null,
       "padding": null,
       "right": null,
       "top": null,
       "visibility": null,
       "width": null
      }
     },
     "4c2dbcdd433b468ab83c7ec712c948c7": {
      "model_module": "@jupyter-widgets/controls",
      "model_module_version": "1.5.0",
      "model_name": "DescriptionStyleModel",
      "state": {
       "_model_module": "@jupyter-widgets/controls",
       "_model_module_version": "1.5.0",
       "_model_name": "DescriptionStyleModel",
       "_view_count": null,
       "_view_module": "@jupyter-widgets/base",
       "_view_module_version": "1.2.0",
       "_view_name": "StyleView",
       "description_width": ""
      }
     },
     "4c3338fc23ab4eb0b368da95a3d9dc6d": {
      "model_module": "@jupyter-widgets/controls",
      "model_module_version": "1.5.0",
      "model_name": "DescriptionStyleModel",
      "state": {
       "_model_module": "@jupyter-widgets/controls",
       "_model_module_version": "1.5.0",
       "_model_name": "DescriptionStyleModel",
       "_view_count": null,
       "_view_module": "@jupyter-widgets/base",
       "_view_module_version": "1.2.0",
       "_view_name": "StyleView",
       "description_width": ""
      }
     },
     "5bc6eeba6f454df2be305e937f201f1b": {
      "model_module": "@jupyter-widgets/controls",
      "model_module_version": "1.5.0",
      "model_name": "DescriptionStyleModel",
      "state": {
       "_model_module": "@jupyter-widgets/controls",
       "_model_module_version": "1.5.0",
       "_model_name": "DescriptionStyleModel",
       "_view_count": null,
       "_view_module": "@jupyter-widgets/base",
       "_view_module_version": "1.2.0",
       "_view_name": "StyleView",
       "description_width": ""
      }
     },
     "5e19a8720aae4e068f07bcbb536a9c39": {
      "model_module": "@jupyter-widgets/controls",
      "model_module_version": "1.5.0",
      "model_name": "HTMLModel",
      "state": {
       "_dom_classes": [],
       "_model_module": "@jupyter-widgets/controls",
       "_model_module_version": "1.5.0",
       "_model_name": "HTMLModel",
       "_view_count": null,
       "_view_module": "@jupyter-widgets/controls",
       "_view_module_version": "1.5.0",
       "_view_name": "HTMLView",
       "description": "",
       "description_tooltip": null,
       "layout": "IPY_MODEL_f115d00dac3f4350bcd432b7ce35ef22",
       "placeholder": "​",
       "style": "IPY_MODEL_60d31fe2115c4f858b847e17bebd9eff",
       "value": "Downloading: 100%"
      }
     },
     "60d31fe2115c4f858b847e17bebd9eff": {
      "model_module": "@jupyter-widgets/controls",
      "model_module_version": "1.5.0",
      "model_name": "DescriptionStyleModel",
      "state": {
       "_model_module": "@jupyter-widgets/controls",
       "_model_module_version": "1.5.0",
       "_model_name": "DescriptionStyleModel",
       "_view_count": null,
       "_view_module": "@jupyter-widgets/base",
       "_view_module_version": "1.2.0",
       "_view_name": "StyleView",
       "description_width": ""
      }
     },
     "739ce49a89e54136a1630b71923322e0": {
      "model_module": "@jupyter-widgets/controls",
      "model_module_version": "1.5.0",
      "model_name": "ProgressStyleModel",
      "state": {
       "_model_module": "@jupyter-widgets/controls",
       "_model_module_version": "1.5.0",
       "_model_name": "ProgressStyleModel",
       "_view_count": null,
       "_view_module": "@jupyter-widgets/base",
       "_view_module_version": "1.2.0",
       "_view_name": "StyleView",
       "bar_color": null,
       "description_width": ""
      }
     },
     "775bbe51299245139f50afb2fc5dd0ee": {
      "model_module": "@jupyter-widgets/controls",
      "model_module_version": "1.5.0",
      "model_name": "HTMLModel",
      "state": {
       "_dom_classes": [],
       "_model_module": "@jupyter-widgets/controls",
       "_model_module_version": "1.5.0",
       "_model_name": "HTMLModel",
       "_view_count": null,
       "_view_module": "@jupyter-widgets/controls",
       "_view_module_version": "1.5.0",
       "_view_name": "HTMLView",
       "description": "",
       "description_tooltip": null,
       "layout": "IPY_MODEL_1904f11e0bc648288927674dd245ec4e",
       "placeholder": "​",
       "style": "IPY_MODEL_4c2dbcdd433b468ab83c7ec712c948c7",
       "value": " 442/442 [00:00&lt;00:00, 15.0kB/s]"
      }
     },
     "7e33c9f8340a4b9f9e18790279fbf23c": {
      "model_module": "@jupyter-widgets/base",
      "model_module_version": "1.2.0",
      "model_name": "LayoutModel",
      "state": {
       "_model_module": "@jupyter-widgets/base",
       "_model_module_version": "1.2.0",
       "_model_name": "LayoutModel",
       "_view_count": null,
       "_view_module": "@jupyter-widgets/base",
       "_view_module_version": "1.2.0",
       "_view_name": "LayoutView",
       "align_content": null,
       "align_items": null,
       "align_self": null,
       "border": null,
       "bottom": null,
       "display": null,
       "flex": null,
       "flex_flow": null,
       "grid_area": null,
       "grid_auto_columns": null,
       "grid_auto_flow": null,
       "grid_auto_rows": null,
       "grid_column": null,
       "grid_gap": null,
       "grid_row": null,
       "grid_template_areas": null,
       "grid_template_columns": null,
       "grid_template_rows": null,
       "height": null,
       "justify_content": null,
       "justify_items": null,
       "left": null,
       "margin": null,
       "max_height": null,
       "max_width": null,
       "min_height": null,
       "min_width": null,
       "object_fit": null,
       "object_position": null,
       "order": null,
       "overflow": null,
       "overflow_x": null,
       "overflow_y": null,
       "padding": null,
       "right": null,
       "top": null,
       "visibility": null,
       "width": null
      }
     },
     "809e86ea95dd4f86801a3aa7fd63b175": {
      "model_module": "@jupyter-widgets/controls",
      "model_module_version": "1.5.0",
      "model_name": "ProgressStyleModel",
      "state": {
       "_model_module": "@jupyter-widgets/controls",
       "_model_module_version": "1.5.0",
       "_model_name": "ProgressStyleModel",
       "_view_count": null,
       "_view_module": "@jupyter-widgets/base",
       "_view_module_version": "1.2.0",
       "_view_name": "StyleView",
       "bar_color": null,
       "description_width": ""
      }
     },
     "81e3887770b84d2dac85596d2c147b54": {
      "model_module": "@jupyter-widgets/controls",
      "model_module_version": "1.5.0",
      "model_name": "ProgressStyleModel",
      "state": {
       "_model_module": "@jupyter-widgets/controls",
       "_model_module_version": "1.5.0",
       "_model_name": "ProgressStyleModel",
       "_view_count": null,
       "_view_module": "@jupyter-widgets/base",
       "_view_module_version": "1.2.0",
       "_view_name": "StyleView",
       "bar_color": null,
       "description_width": ""
      }
     },
     "82503a4f52e448a9ab6fa5ab58edc7e0": {
      "model_module": "@jupyter-widgets/base",
      "model_module_version": "1.2.0",
      "model_name": "LayoutModel",
      "state": {
       "_model_module": "@jupyter-widgets/base",
       "_model_module_version": "1.2.0",
       "_model_name": "LayoutModel",
       "_view_count": null,
       "_view_module": "@jupyter-widgets/base",
       "_view_module_version": "1.2.0",
       "_view_name": "LayoutView",
       "align_content": null,
       "align_items": null,
       "align_self": null,
       "border": null,
       "bottom": null,
       "display": null,
       "flex": null,
       "flex_flow": null,
       "grid_area": null,
       "grid_auto_columns": null,
       "grid_auto_flow": null,
       "grid_auto_rows": null,
       "grid_column": null,
       "grid_gap": null,
       "grid_row": null,
       "grid_template_areas": null,
       "grid_template_columns": null,
       "grid_template_rows": null,
       "height": null,
       "justify_content": null,
       "justify_items": null,
       "left": null,
       "margin": null,
       "max_height": null,
       "max_width": null,
       "min_height": null,
       "min_width": null,
       "object_fit": null,
       "object_position": null,
       "order": null,
       "overflow": null,
       "overflow_x": null,
       "overflow_y": null,
       "padding": null,
       "right": null,
       "top": null,
       "visibility": null,
       "width": null
      }
     },
     "83f3fd3658494a7da9c1d66fea7083dc": {
      "model_module": "@jupyter-widgets/base",
      "model_module_version": "1.2.0",
      "model_name": "LayoutModel",
      "state": {
       "_model_module": "@jupyter-widgets/base",
       "_model_module_version": "1.2.0",
       "_model_name": "LayoutModel",
       "_view_count": null,
       "_view_module": "@jupyter-widgets/base",
       "_view_module_version": "1.2.0",
       "_view_name": "LayoutView",
       "align_content": null,
       "align_items": null,
       "align_self": null,
       "border": null,
       "bottom": null,
       "display": null,
       "flex": null,
       "flex_flow": null,
       "grid_area": null,
       "grid_auto_columns": null,
       "grid_auto_flow": null,
       "grid_auto_rows": null,
       "grid_column": null,
       "grid_gap": null,
       "grid_row": null,
       "grid_template_areas": null,
       "grid_template_columns": null,
       "grid_template_rows": null,
       "height": null,
       "justify_content": null,
       "justify_items": null,
       "left": null,
       "margin": null,
       "max_height": null,
       "max_width": null,
       "min_height": null,
       "min_width": null,
       "object_fit": null,
       "object_position": null,
       "order": null,
       "overflow": null,
       "overflow_x": null,
       "overflow_y": null,
       "padding": null,
       "right": null,
       "top": null,
       "visibility": null,
       "width": null
      }
     },
     "88c0fa5896fc4d6d98f9db56a6821f0e": {
      "model_module": "@jupyter-widgets/controls",
      "model_module_version": "1.5.0",
      "model_name": "HBoxModel",
      "state": {
       "_dom_classes": [],
       "_model_module": "@jupyter-widgets/controls",
       "_model_module_version": "1.5.0",
       "_model_name": "HBoxModel",
       "_view_count": null,
       "_view_module": "@jupyter-widgets/controls",
       "_view_module_version": "1.5.0",
       "_view_name": "HBoxView",
       "box_style": "",
       "children": [
        "IPY_MODEL_33477a98e92f483fa02380133abd886e",
        "IPY_MODEL_bd74980501004f2ba4d01e9d4e0ff1d6",
        "IPY_MODEL_3a943c8f62ad4b14a958f665ec44af12"
       ],
       "layout": "IPY_MODEL_07f40d0356484eb98237adb10a97f6ac"
      }
     },
     "8fd163fcf0c947dc9a3ecb3d64918344": {
      "model_module": "@jupyter-widgets/base",
      "model_module_version": "1.2.0",
      "model_name": "LayoutModel",
      "state": {
       "_model_module": "@jupyter-widgets/base",
       "_model_module_version": "1.2.0",
       "_model_name": "LayoutModel",
       "_view_count": null,
       "_view_module": "@jupyter-widgets/base",
       "_view_module_version": "1.2.0",
       "_view_name": "LayoutView",
       "align_content": null,
       "align_items": null,
       "align_self": null,
       "border": null,
       "bottom": null,
       "display": null,
       "flex": null,
       "flex_flow": null,
       "grid_area": null,
       "grid_auto_columns": null,
       "grid_auto_flow": null,
       "grid_auto_rows": null,
       "grid_column": null,
       "grid_gap": null,
       "grid_row": null,
       "grid_template_areas": null,
       "grid_template_columns": null,
       "grid_template_rows": null,
       "height": null,
       "justify_content": null,
       "justify_items": null,
       "left": null,
       "margin": null,
       "max_height": null,
       "max_width": null,
       "min_height": null,
       "min_width": null,
       "object_fit": null,
       "object_position": null,
       "order": null,
       "overflow": null,
       "overflow_x": null,
       "overflow_y": null,
       "padding": null,
       "right": null,
       "top": null,
       "visibility": null,
       "width": null
      }
     },
     "948ea0e718724eaebced19d8ce8d5acd": {
      "model_module": "@jupyter-widgets/controls",
      "model_module_version": "1.5.0",
      "model_name": "HTMLModel",
      "state": {
       "_dom_classes": [],
       "_model_module": "@jupyter-widgets/controls",
       "_model_module_version": "1.5.0",
       "_model_name": "HTMLModel",
       "_view_count": null,
       "_view_module": "@jupyter-widgets/controls",
       "_view_module_version": "1.5.0",
       "_view_name": "HTMLView",
       "description": "",
       "description_tooltip": null,
       "layout": "IPY_MODEL_1ca4cd0b77a345e19274b2b19706f583",
       "placeholder": "​",
       "style": "IPY_MODEL_22031250da3045b182834420c573ad60",
       "value": "Downloading: 100%"
      }
     },
     "9c0efa21a885422dbcf4d6a623994983": {
      "model_module": "@jupyter-widgets/controls",
      "model_module_version": "1.5.0",
      "model_name": "FloatProgressModel",
      "state": {
       "_dom_classes": [],
       "_model_module": "@jupyter-widgets/controls",
       "_model_module_version": "1.5.0",
       "_model_name": "FloatProgressModel",
       "_view_count": null,
       "_view_module": "@jupyter-widgets/controls",
       "_view_module_version": "1.5.0",
       "_view_name": "ProgressView",
       "bar_style": "success",
       "description": "",
       "description_tooltip": null,
       "layout": "IPY_MODEL_431b812401454210975df092c57e06ee",
       "max": 28.0,
       "min": 0.0,
       "orientation": "horizontal",
       "style": "IPY_MODEL_739ce49a89e54136a1630b71923322e0",
       "value": 28.0
      }
     },
     "a3ce52edee404f29a6c9788cbc86922b": {
      "model_module": "@jupyter-widgets/base",
      "model_module_version": "1.2.0",
      "model_name": "LayoutModel",
      "state": {
       "_model_module": "@jupyter-widgets/base",
       "_model_module_version": "1.2.0",
       "_model_name": "LayoutModel",
       "_view_count": null,
       "_view_module": "@jupyter-widgets/base",
       "_view_module_version": "1.2.0",
       "_view_name": "LayoutView",
       "align_content": null,
       "align_items": null,
       "align_self": null,
       "border": null,
       "bottom": null,
       "display": null,
       "flex": null,
       "flex_flow": null,
       "grid_area": null,
       "grid_auto_columns": null,
       "grid_auto_flow": null,
       "grid_auto_rows": null,
       "grid_column": null,
       "grid_gap": null,
       "grid_row": null,
       "grid_template_areas": null,
       "grid_template_columns": null,
       "grid_template_rows": null,
       "height": null,
       "justify_content": null,
       "justify_items": null,
       "left": null,
       "margin": null,
       "max_height": null,
       "max_width": null,
       "min_height": null,
       "min_width": null,
       "object_fit": null,
       "object_position": null,
       "order": null,
       "overflow": null,
       "overflow_x": null,
       "overflow_y": null,
       "padding": null,
       "right": null,
       "top": null,
       "visibility": null,
       "width": null
      }
     },
     "a922855f32d943ee971d8ff3863f4113": {
      "model_module": "@jupyter-widgets/controls",
      "model_module_version": "1.5.0",
      "model_name": "DescriptionStyleModel",
      "state": {
       "_model_module": "@jupyter-widgets/controls",
       "_model_module_version": "1.5.0",
       "_model_name": "DescriptionStyleModel",
       "_view_count": null,
       "_view_module": "@jupyter-widgets/base",
       "_view_module_version": "1.2.0",
       "_view_name": "StyleView",
       "description_width": ""
      }
     },
     "aa489f51d7184e54b1fa02dda2bc700a": {
      "model_module": "@jupyter-widgets/controls",
      "model_module_version": "1.5.0",
      "model_name": "DescriptionStyleModel",
      "state": {
       "_model_module": "@jupyter-widgets/controls",
       "_model_module_version": "1.5.0",
       "_model_name": "DescriptionStyleModel",
       "_view_count": null,
       "_view_module": "@jupyter-widgets/base",
       "_view_module_version": "1.2.0",
       "_view_name": "StyleView",
       "description_width": ""
      }
     },
     "addbecaacce7401291d50c66196eb4b8": {
      "model_module": "@jupyter-widgets/base",
      "model_module_version": "1.2.0",
      "model_name": "LayoutModel",
      "state": {
       "_model_module": "@jupyter-widgets/base",
       "_model_module_version": "1.2.0",
       "_model_name": "LayoutModel",
       "_view_count": null,
       "_view_module": "@jupyter-widgets/base",
       "_view_module_version": "1.2.0",
       "_view_name": "LayoutView",
       "align_content": null,
       "align_items": null,
       "align_self": null,
       "border": null,
       "bottom": null,
       "display": null,
       "flex": null,
       "flex_flow": null,
       "grid_area": null,
       "grid_auto_columns": null,
       "grid_auto_flow": null,
       "grid_auto_rows": null,
       "grid_column": null,
       "grid_gap": null,
       "grid_row": null,
       "grid_template_areas": null,
       "grid_template_columns": null,
       "grid_template_rows": null,
       "height": null,
       "justify_content": null,
       "justify_items": null,
       "left": null,
       "margin": null,
       "max_height": null,
       "max_width": null,
       "min_height": null,
       "min_width": null,
       "object_fit": null,
       "object_position": null,
       "order": null,
       "overflow": null,
       "overflow_x": null,
       "overflow_y": null,
       "padding": null,
       "right": null,
       "top": null,
       "visibility": null,
       "width": null
      }
     },
     "ae6f741100a2442caf7e335d094f0ea2": {
      "model_module": "@jupyter-widgets/controls",
      "model_module_version": "1.5.0",
      "model_name": "DescriptionStyleModel",
      "state": {
       "_model_module": "@jupyter-widgets/controls",
       "_model_module_version": "1.5.0",
       "_model_name": "DescriptionStyleModel",
       "_view_count": null,
       "_view_module": "@jupyter-widgets/base",
       "_view_module_version": "1.2.0",
       "_view_name": "StyleView",
       "description_width": ""
      }
     },
     "b25d0255c5bc4094aa3dabd951f182b4": {
      "model_module": "@jupyter-widgets/base",
      "model_module_version": "1.2.0",
      "model_name": "LayoutModel",
      "state": {
       "_model_module": "@jupyter-widgets/base",
       "_model_module_version": "1.2.0",
       "_model_name": "LayoutModel",
       "_view_count": null,
       "_view_module": "@jupyter-widgets/base",
       "_view_module_version": "1.2.0",
       "_view_name": "LayoutView",
       "align_content": null,
       "align_items": null,
       "align_self": null,
       "border": null,
       "bottom": null,
       "display": null,
       "flex": null,
       "flex_flow": null,
       "grid_area": null,
       "grid_auto_columns": null,
       "grid_auto_flow": null,
       "grid_auto_rows": null,
       "grid_column": null,
       "grid_gap": null,
       "grid_row": null,
       "grid_template_areas": null,
       "grid_template_columns": null,
       "grid_template_rows": null,
       "height": null,
       "justify_content": null,
       "justify_items": null,
       "left": null,
       "margin": null,
       "max_height": null,
       "max_width": null,
       "min_height": null,
       "min_width": null,
       "object_fit": null,
       "object_position": null,
       "order": null,
       "overflow": null,
       "overflow_x": null,
       "overflow_y": null,
       "padding": null,
       "right": null,
       "top": null,
       "visibility": null,
       "width": null
      }
     },
     "b740a872639649d1adc187c54b4238d0": {
      "model_module": "@jupyter-widgets/controls",
      "model_module_version": "1.5.0",
      "model_name": "HBoxModel",
      "state": {
       "_dom_classes": [],
       "_model_module": "@jupyter-widgets/controls",
       "_model_module_version": "1.5.0",
       "_model_name": "HBoxModel",
       "_view_count": null,
       "_view_module": "@jupyter-widgets/controls",
       "_view_module_version": "1.5.0",
       "_view_name": "HBoxView",
       "box_style": "",
       "children": [
        "IPY_MODEL_03ee7507479b487084dda385d6a87374",
        "IPY_MODEL_e8753c58754e49cca606c9faf39a10e7",
        "IPY_MODEL_1fc51bc5273c4ab39403d7cc38ace772"
       ],
       "layout": "IPY_MODEL_0a2361bc2075433da021d8e6a8eb1a42"
      }
     },
     "bcd8bbb6ee4e492f98d1cb901bbdb375": {
      "model_module": "@jupyter-widgets/base",
      "model_module_version": "1.2.0",
      "model_name": "LayoutModel",
      "state": {
       "_model_module": "@jupyter-widgets/base",
       "_model_module_version": "1.2.0",
       "_model_name": "LayoutModel",
       "_view_count": null,
       "_view_module": "@jupyter-widgets/base",
       "_view_module_version": "1.2.0",
       "_view_name": "LayoutView",
       "align_content": null,
       "align_items": null,
       "align_self": null,
       "border": null,
       "bottom": null,
       "display": null,
       "flex": null,
       "flex_flow": null,
       "grid_area": null,
       "grid_auto_columns": null,
       "grid_auto_flow": null,
       "grid_auto_rows": null,
       "grid_column": null,
       "grid_gap": null,
       "grid_row": null,
       "grid_template_areas": null,
       "grid_template_columns": null,
       "grid_template_rows": null,
       "height": null,
       "justify_content": null,
       "justify_items": null,
       "left": null,
       "margin": null,
       "max_height": null,
       "max_width": null,
       "min_height": null,
       "min_width": null,
       "object_fit": null,
       "object_position": null,
       "order": null,
       "overflow": null,
       "overflow_x": null,
       "overflow_y": null,
       "padding": null,
       "right": null,
       "top": null,
       "visibility": null,
       "width": null
      }
     },
     "bd74980501004f2ba4d01e9d4e0ff1d6": {
      "model_module": "@jupyter-widgets/controls",
      "model_module_version": "1.5.0",
      "model_name": "FloatProgressModel",
      "state": {
       "_dom_classes": [],
       "_model_module": "@jupyter-widgets/controls",
       "_model_module_version": "1.5.0",
       "_model_name": "FloatProgressModel",
       "_view_count": null,
       "_view_module": "@jupyter-widgets/controls",
       "_view_module_version": "1.5.0",
       "_view_name": "ProgressView",
       "bar_style": "success",
       "description": "",
       "description_tooltip": null,
       "layout": "IPY_MODEL_b25d0255c5bc4094aa3dabd951f182b4",
       "max": 466062.0,
       "min": 0.0,
       "orientation": "horizontal",
       "style": "IPY_MODEL_136274a5d6a348b7b901ee89d52c6e14",
       "value": 466062.0
      }
     },
     "c81c3d547dae43bbbde2a7712985d42d": {
      "model_module": "@jupyter-widgets/controls",
      "model_module_version": "1.5.0",
      "model_name": "HTMLModel",
      "state": {
       "_dom_classes": [],
       "_model_module": "@jupyter-widgets/controls",
       "_model_module_version": "1.5.0",
       "_model_name": "HTMLModel",
       "_view_count": null,
       "_view_module": "@jupyter-widgets/controls",
       "_view_module_version": "1.5.0",
       "_view_name": "HTMLView",
       "description": "",
       "description_tooltip": null,
       "layout": "IPY_MODEL_1ac568b87f91442a9e31b7cb4bdca85d",
       "placeholder": "​",
       "style": "IPY_MODEL_aa489f51d7184e54b1fa02dda2bc700a",
       "value": "Downloading: 100%"
      }
     },
     "ce8b00af05a34502844c83c778a5d55e": {
      "model_module": "@jupyter-widgets/controls",
      "model_module_version": "1.5.0",
      "model_name": "HBoxModel",
      "state": {
       "_dom_classes": [],
       "_model_module": "@jupyter-widgets/controls",
       "_model_module_version": "1.5.0",
       "_model_name": "HBoxModel",
       "_view_count": null,
       "_view_module": "@jupyter-widgets/controls",
       "_view_module_version": "1.5.0",
       "_view_name": "HBoxView",
       "box_style": "",
       "children": [
        "IPY_MODEL_948ea0e718724eaebced19d8ce8d5acd",
        "IPY_MODEL_1a9748ed19a64ffe98bb5c67e7c45767",
        "IPY_MODEL_15ef34dcc0d04c2392cbcef43c21233e"
       ],
       "layout": "IPY_MODEL_83f3fd3658494a7da9c1d66fea7083dc"
      }
     },
     "d9cd5ea88763456292bfb6b97fb307e4": {
      "model_module": "@jupyter-widgets/base",
      "model_module_version": "1.2.0",
      "model_name": "LayoutModel",
      "state": {
       "_model_module": "@jupyter-widgets/base",
       "_model_module_version": "1.2.0",
       "_model_name": "LayoutModel",
       "_view_count": null,
       "_view_module": "@jupyter-widgets/base",
       "_view_module_version": "1.2.0",
       "_view_name": "LayoutView",
       "align_content": null,
       "align_items": null,
       "align_self": null,
       "border": null,
       "bottom": null,
       "display": null,
       "flex": null,
       "flex_flow": null,
       "grid_area": null,
       "grid_auto_columns": null,
       "grid_auto_flow": null,
       "grid_auto_rows": null,
       "grid_column": null,
       "grid_gap": null,
       "grid_row": null,
       "grid_template_areas": null,
       "grid_template_columns": null,
       "grid_template_rows": null,
       "height": null,
       "justify_content": null,
       "justify_items": null,
       "left": null,
       "margin": null,
       "max_height": null,
       "max_width": null,
       "min_height": null,
       "min_width": null,
       "object_fit": null,
       "object_position": null,
       "order": null,
       "overflow": null,
       "overflow_x": null,
       "overflow_y": null,
       "padding": null,
       "right": null,
       "top": null,
       "visibility": null,
       "width": null
      }
     },
     "da7e7ce5e6604ec7abbed7415713d5c0": {
      "model_module": "@jupyter-widgets/controls",
      "model_module_version": "1.5.0",
      "model_name": "HTMLModel",
      "state": {
       "_dom_classes": [],
       "_model_module": "@jupyter-widgets/controls",
       "_model_module_version": "1.5.0",
       "_model_name": "HTMLModel",
       "_view_count": null,
       "_view_module": "@jupyter-widgets/controls",
       "_view_module_version": "1.5.0",
       "_view_name": "HTMLView",
       "description": "",
       "description_tooltip": null,
       "layout": "IPY_MODEL_f32b96f1e1834f5d8606ba1435fb03eb",
       "placeholder": "​",
       "style": "IPY_MODEL_32359b025d5147879a6340d3d3ebc78d",
       "value": " 28.0/28.0 [00:00&lt;00:00, 888B/s]"
      }
     },
     "e148f935b1de44bc8596f7ba0b759945": {
      "model_module": "@jupyter-widgets/base",
      "model_module_version": "1.2.0",
      "model_name": "LayoutModel",
      "state": {
       "_model_module": "@jupyter-widgets/base",
       "_model_module_version": "1.2.0",
       "_model_name": "LayoutModel",
       "_view_count": null,
       "_view_module": "@jupyter-widgets/base",
       "_view_module_version": "1.2.0",
       "_view_name": "LayoutView",
       "align_content": null,
       "align_items": null,
       "align_self": null,
       "border": null,
       "bottom": null,
       "display": null,
       "flex": null,
       "flex_flow": null,
       "grid_area": null,
       "grid_auto_columns": null,
       "grid_auto_flow": null,
       "grid_auto_rows": null,
       "grid_column": null,
       "grid_gap": null,
       "grid_row": null,
       "grid_template_areas": null,
       "grid_template_columns": null,
       "grid_template_rows": null,
       "height": null,
       "justify_content": null,
       "justify_items": null,
       "left": null,
       "margin": null,
       "max_height": null,
       "max_width": null,
       "min_height": null,
       "min_width": null,
       "object_fit": null,
       "object_position": null,
       "order": null,
       "overflow": null,
       "overflow_x": null,
       "overflow_y": null,
       "padding": null,
       "right": null,
       "top": null,
       "visibility": null,
       "width": null
      }
     },
     "e8753c58754e49cca606c9faf39a10e7": {
      "model_module": "@jupyter-widgets/controls",
      "model_module_version": "1.5.0",
      "model_name": "FloatProgressModel",
      "state": {
       "_dom_classes": [],
       "_model_module": "@jupyter-widgets/controls",
       "_model_module_version": "1.5.0",
       "_model_name": "FloatProgressModel",
       "_view_count": null,
       "_view_module": "@jupyter-widgets/controls",
       "_view_module_version": "1.5.0",
       "_view_name": "ProgressView",
       "bar_style": "success",
       "description": "",
       "description_tooltip": null,
       "layout": "IPY_MODEL_addbecaacce7401291d50c66196eb4b8",
       "max": 231508.0,
       "min": 0.0,
       "orientation": "horizontal",
       "style": "IPY_MODEL_81e3887770b84d2dac85596d2c147b54",
       "value": 231508.0
      }
     },
     "ee852a080d974d1bb95599e394d1613c": {
      "model_module": "@jupyter-widgets/base",
      "model_module_version": "1.2.0",
      "model_name": "LayoutModel",
      "state": {
       "_model_module": "@jupyter-widgets/base",
       "_model_module_version": "1.2.0",
       "_model_name": "LayoutModel",
       "_view_count": null,
       "_view_module": "@jupyter-widgets/base",
       "_view_module_version": "1.2.0",
       "_view_name": "LayoutView",
       "align_content": null,
       "align_items": null,
       "align_self": null,
       "border": null,
       "bottom": null,
       "display": null,
       "flex": null,
       "flex_flow": null,
       "grid_area": null,
       "grid_auto_columns": null,
       "grid_auto_flow": null,
       "grid_auto_rows": null,
       "grid_column": null,
       "grid_gap": null,
       "grid_row": null,
       "grid_template_areas": null,
       "grid_template_columns": null,
       "grid_template_rows": null,
       "height": null,
       "justify_content": null,
       "justify_items": null,
       "left": null,
       "margin": null,
       "max_height": null,
       "max_width": null,
       "min_height": null,
       "min_width": null,
       "object_fit": null,
       "object_position": null,
       "order": null,
       "overflow": null,
       "overflow_x": null,
       "overflow_y": null,
       "padding": null,
       "right": null,
       "top": null,
       "visibility": null,
       "width": null
      }
     },
     "f115d00dac3f4350bcd432b7ce35ef22": {
      "model_module": "@jupyter-widgets/base",
      "model_module_version": "1.2.0",
      "model_name": "LayoutModel",
      "state": {
       "_model_module": "@jupyter-widgets/base",
       "_model_module_version": "1.2.0",
       "_model_name": "LayoutModel",
       "_view_count": null,
       "_view_module": "@jupyter-widgets/base",
       "_view_module_version": "1.2.0",
       "_view_name": "LayoutView",
       "align_content": null,
       "align_items": null,
       "align_self": null,
       "border": null,
       "bottom": null,
       "display": null,
       "flex": null,
       "flex_flow": null,
       "grid_area": null,
       "grid_auto_columns": null,
       "grid_auto_flow": null,
       "grid_auto_rows": null,
       "grid_column": null,
       "grid_gap": null,
       "grid_row": null,
       "grid_template_areas": null,
       "grid_template_columns": null,
       "grid_template_rows": null,
       "height": null,
       "justify_content": null,
       "justify_items": null,
       "left": null,
       "margin": null,
       "max_height": null,
       "max_width": null,
       "min_height": null,
       "min_width": null,
       "object_fit": null,
       "object_position": null,
       "order": null,
       "overflow": null,
       "overflow_x": null,
       "overflow_y": null,
       "padding": null,
       "right": null,
       "top": null,
       "visibility": null,
       "width": null
      }
     },
     "f32b96f1e1834f5d8606ba1435fb03eb": {
      "model_module": "@jupyter-widgets/base",
      "model_module_version": "1.2.0",
      "model_name": "LayoutModel",
      "state": {
       "_model_module": "@jupyter-widgets/base",
       "_model_module_version": "1.2.0",
       "_model_name": "LayoutModel",
       "_view_count": null,
       "_view_module": "@jupyter-widgets/base",
       "_view_module_version": "1.2.0",
       "_view_name": "LayoutView",
       "align_content": null,
       "align_items": null,
       "align_self": null,
       "border": null,
       "bottom": null,
       "display": null,
       "flex": null,
       "flex_flow": null,
       "grid_area": null,
       "grid_auto_columns": null,
       "grid_auto_flow": null,
       "grid_auto_rows": null,
       "grid_column": null,
       "grid_gap": null,
       "grid_row": null,
       "grid_template_areas": null,
       "grid_template_columns": null,
       "grid_template_rows": null,
       "height": null,
       "justify_content": null,
       "justify_items": null,
       "left": null,
       "margin": null,
       "max_height": null,
       "max_width": null,
       "min_height": null,
       "min_width": null,
       "object_fit": null,
       "object_position": null,
       "order": null,
       "overflow": null,
       "overflow_x": null,
       "overflow_y": null,
       "padding": null,
       "right": null,
       "top": null,
       "visibility": null,
       "width": null
      }
     },
     "f63498068c044c4dafcf3b4f82d08b22": {
      "model_module": "@jupyter-widgets/controls",
      "model_module_version": "1.5.0",
      "model_name": "DescriptionStyleModel",
      "state": {
       "_model_module": "@jupyter-widgets/controls",
       "_model_module_version": "1.5.0",
       "_model_name": "DescriptionStyleModel",
       "_view_count": null,
       "_view_module": "@jupyter-widgets/base",
       "_view_module_version": "1.2.0",
       "_view_name": "StyleView",
       "description_width": ""
      }
     }
    },
    "version_major": 2,
    "version_minor": 0
   }
  }
 },
 "nbformat": 4,
 "nbformat_minor": 5
}
