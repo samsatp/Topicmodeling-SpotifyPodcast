{
  "nbformat": 4,
  "nbformat_minor": 2,
  "metadata": {
    "colab": {
      "name": "sproject-modelling.ipynb",
      "provenance": [],
      "collapsed_sections": [],
      "toc_visible": true
    },
    "kernelspec": {
      "name": "python3",
      "display_name": "Python 3"
    },
    "language_info": {
      "name": "python"
    },
    "accelerator": "GPU"
  },
  "cells": [
    {
      "cell_type": "markdown",
      "source": [
        "# Modeling\n",
        "We'll build 3 models\n",
        "1. Word count model (sklearn) → Baseline\n",
        "2. Deep learning (embedding with LSTM)\n",
        "3. Fine-tunning 🤗 pre-trained transformer"
      ],
      "metadata": {
        "id": "J7SaUun01kxx"
      }
    },
    {
      "cell_type": "code",
      "execution_count": 1,
      "source": [
        "! pip install -U scikit-learn\r\n",
        "import sklearn\r\n",
        "sklearn.__version__"
      ],
      "outputs": [
        {
          "output_type": "stream",
          "name": "stdout",
          "text": [
            "Requirement already satisfied: scikit-learn in /usr/local/lib/python3.7/dist-packages (0.24.2)\n",
            "Requirement already satisfied: numpy>=1.13.3 in /usr/local/lib/python3.7/dist-packages (from scikit-learn) (1.19.5)\n",
            "Requirement already satisfied: scipy>=0.19.1 in /usr/local/lib/python3.7/dist-packages (from scikit-learn) (1.4.1)\n",
            "Requirement already satisfied: joblib>=0.11 in /usr/local/lib/python3.7/dist-packages (from scikit-learn) (1.0.1)\n",
            "Requirement already satisfied: threadpoolctl>=2.0.0 in /usr/local/lib/python3.7/dist-packages (from scikit-learn) (2.2.0)\n"
          ]
        },
        {
          "output_type": "execute_result",
          "data": {
            "text/plain": [
              "'0.24.2'"
            ],
            "application/vnd.google.colaboratory.intrinsic+json": {
              "type": "string"
            }
          },
          "metadata": {
            "tags": []
          },
          "execution_count": 1
        }
      ],
      "metadata": {
        "colab": {
          "base_uri": "https://localhost:8080/",
          "height": 119
        },
        "id": "NDlPs1jzCZxp",
        "outputId": "714ebea3-e324-4702-db23-05525c9433b5"
      }
    },
    {
      "cell_type": "code",
      "execution_count": 2,
      "source": [
        "import pandas as pd\r\n",
        "\r\n",
        "df = pd.read_csv(\"../../data/df_notnull_notdup.csv\")\r\n",
        "df.head()"
      ],
      "outputs": [
        {
          "output_type": "execute_result",
          "data": {
            "text/plain": [
              "                    ep_id  ...                                        desc_nonUrl\n",
              "0  2QwU0zzueDDoi0fN3Kf0HR  ...  Since its beginning in the 1950s, the field of...\n",
              "1  1ir7MrWUBwUI6AE7Na5diX  ...  It has been over three decades since the stati...\n",
              "2  1ACeGKFk4syDdcRuuuSZP7  ...  Dr. Ishan Misra is a Research Scientist at Fac...\n",
              "3  1vuc4azX8Mb0sl0lKOmxZi  ...  Professor Gary Marcus is a scientist, best-sel...\n",
              "4  6DrRmtpKKpH3yYJ6yPoMR2  ...  Bob Coercke is a celebrated physicist, he's be...\n",
              "\n",
              "[5 rows x 6 columns]"
            ],
            "text/html": [
              "<div>\n",
              "<style scoped>\n",
              "    .dataframe tbody tr th:only-of-type {\n",
              "        vertical-align: middle;\n",
              "    }\n",
              "\n",
              "    .dataframe tbody tr th {\n",
              "        vertical-align: top;\n",
              "    }\n",
              "\n",
              "    .dataframe thead th {\n",
              "        text-align: right;\n",
              "    }\n",
              "</style>\n",
              "<table border=\"1\" class=\"dataframe\">\n",
              "  <thead>\n",
              "    <tr style=\"text-align: right;\">\n",
              "      <th></th>\n",
              "      <th>ep_id</th>\n",
              "      <th>ep_name</th>\n",
              "      <th>show_name</th>\n",
              "      <th>description</th>\n",
              "      <th>label</th>\n",
              "      <th>desc_nonUrl</th>\n",
              "    </tr>\n",
              "  </thead>\n",
              "  <tbody>\n",
              "    <tr>\n",
              "      <th>0</th>\n",
              "      <td>2QwU0zzueDDoi0fN3Kf0HR</td>\n",
              "      <td>#57 - Prof. Melanie Mitchell - Why AI is harde...</td>\n",
              "      <td>Machine Learning Street Talk</td>\n",
              "      <td>Since its beginning in the 1950s, the field of...</td>\n",
              "      <td>machine learning</td>\n",
              "      <td>Since its beginning in the 1950s, the field of...</td>\n",
              "    </tr>\n",
              "    <tr>\n",
              "      <th>1</th>\n",
              "      <td>1ir7MrWUBwUI6AE7Na5diX</td>\n",
              "      <td>#56 - Dr. Walid Saba, Gadi Singer, Prof. J. Ma...</td>\n",
              "      <td>Machine Learning Street Talk</td>\n",
              "      <td>It has been over three decades since the stati...</td>\n",
              "      <td>machine learning</td>\n",
              "      <td>It has been over three decades since the stati...</td>\n",
              "    </tr>\n",
              "    <tr>\n",
              "      <th>2</th>\n",
              "      <td>1ACeGKFk4syDdcRuuuSZP7</td>\n",
              "      <td>#55 Self-Supervised Vision Models (Dr. Ishan M...</td>\n",
              "      <td>Machine Learning Street Talk</td>\n",
              "      <td>Dr. Ishan Misra is a Research Scientist at Fac...</td>\n",
              "      <td>machine learning</td>\n",
              "      <td>Dr. Ishan Misra is a Research Scientist at Fac...</td>\n",
              "    </tr>\n",
              "    <tr>\n",
              "      <th>3</th>\n",
              "      <td>1vuc4azX8Mb0sl0lKOmxZi</td>\n",
              "      <td>#54 Gary Marcus and Luis Lamb - Neurosymbolic ...</td>\n",
              "      <td>Machine Learning Street Talk</td>\n",
              "      <td>Professor Gary Marcus is a scientist, best-sel...</td>\n",
              "      <td>machine learning</td>\n",
              "      <td>Professor Gary Marcus is a scientist, best-sel...</td>\n",
              "    </tr>\n",
              "    <tr>\n",
              "      <th>4</th>\n",
              "      <td>6DrRmtpKKpH3yYJ6yPoMR2</td>\n",
              "      <td>#53 Quantum Natural Language Processing - Prof...</td>\n",
              "      <td>Machine Learning Street Talk</td>\n",
              "      <td>Bob Coercke is a celebrated physicist, he's be...</td>\n",
              "      <td>machine learning</td>\n",
              "      <td>Bob Coercke is a celebrated physicist, he's be...</td>\n",
              "    </tr>\n",
              "  </tbody>\n",
              "</table>\n",
              "</div>"
            ]
          },
          "metadata": {
            "tags": []
          },
          "execution_count": 2
        }
      ],
      "metadata": {
        "colab": {
          "base_uri": "https://localhost:8080/",
          "height": 287
        },
        "id": "D3Xrt7mL013I",
        "outputId": "e75d7e6a-fb49-4c7a-f3ef-54f05dc65ce7"
      }
    },
    {
      "cell_type": "markdown",
      "source": [
        "## Train-test split"
      ],
      "metadata": {
        "id": "hVlG94Xu3Qik"
      }
    },
    {
      "cell_type": "code",
      "execution_count": 3,
      "source": [
        "from sklearn.model_selection import train_test_split\r\n",
        "\r\n",
        "sequences, label = df['desc_nonUrl'], df['label']\r\n",
        "\r\n",
        "X_train, X_test, y_train, y_test = train_test_split(sequences, label, stratify=label, test_size=0.2,\r\n",
        "                                                    random_state=42)\r\n",
        "\r\n",
        "print(f'Train size : {len(X_train)}')\r\n",
        "print(f'Test  size : {len(X_test)}')"
      ],
      "outputs": [
        {
          "output_type": "stream",
          "name": "stdout",
          "text": [
            "Train size : 10972\n",
            "Test  size : 2743\n"
          ]
        }
      ],
      "metadata": {
        "colab": {
          "base_uri": "https://localhost:8080/"
        },
        "id": "Zhg2LfnY2E0_",
        "outputId": "f4dfd63d-72fa-41c1-8fb3-645306e0eaed"
      }
    },
    {
      "cell_type": "code",
      "execution_count": 4,
      "source": [
        "y_train.value_counts()"
      ],
      "outputs": [
        {
          "output_type": "execute_result",
          "data": {
            "text/plain": [
              "kid                 1515\n",
              "lifestyle           1322\n",
              "business            1213\n",
              "crime               1187\n",
              "politics            1121\n",
              "comedy              1078\n",
              "sport                990\n",
              "culture              946\n",
              "machine learning     830\n",
              "cooking              770\n",
              "Name: label, dtype: int64"
            ]
          },
          "metadata": {
            "tags": []
          },
          "execution_count": 4
        }
      ],
      "metadata": {
        "colab": {
          "base_uri": "https://localhost:8080/"
        },
        "id": "vULxk2Sj2jSV",
        "outputId": "0f8c4ef0-ef1f-4124-f0fa-03c3dc233a2b"
      }
    },
    {
      "cell_type": "markdown",
      "source": [
        "## 1) model_1 : baseline word count model"
      ],
      "metadata": {
        "id": "2pL4JkJE3Syn"
      }
    },
    {
      "cell_type": "markdown",
      "source": [
        "### Count tokenization"
      ],
      "metadata": {
        "id": "qllT-B174FJD"
      }
    },
    {
      "cell_type": "code",
      "execution_count": 5,
      "source": [
        "import tensorflow as tf\r\n",
        "from tensorflow.keras.layers.experimental.preprocessing import TextVectorization\r\n",
        "\r\n",
        "vect = TextVectorization(\r\n",
        "            max_tokens=500, output_mode=\"count\", pad_to_max_tokens=True\r\n",
        "        )\r\n",
        "\r\n",
        "vect.adapt(X_train.values)"
      ],
      "outputs": [],
      "metadata": {
        "id": "O29JFOmN6V4y"
      }
    },
    {
      "cell_type": "code",
      "execution_count": 6,
      "source": [
        "print(f'Vocabs sample : {vect.get_vocabulary()[:10]}')"
      ],
      "outputs": [
        {
          "output_type": "stream",
          "name": "stdout",
          "text": [
            "Vocabs sample : ['[UNK]', 'the', 'and', 'to', 'of', 'a', 'in', 'unk', 'for', 'on']\n"
          ]
        }
      ],
      "metadata": {
        "colab": {
          "base_uri": "https://localhost:8080/"
        },
        "id": "E24ZO4P87vo-",
        "outputId": "5dd7214b-7283-47fe-ad95-983de2989c87"
      }
    },
    {
      "cell_type": "code",
      "execution_count": 7,
      "source": [
        "sample_bow = vect(X_train.values[:3])\r\n",
        "\r\n",
        "print(f'{X_train.values[:3]}')\r\n",
        "print(sample_bow)"
      ],
      "outputs": [
        {
          "output_type": "stream",
          "name": "stdout",
          "text": [
            "['This is one of those business cases that is easily validated from one or two individuals. My Normative originated due to the existing products available on the market not meeting the needs of at least two women: Danika Kelly, and her co-founder, Renee Kokts-Porietis. That validation appears to have been sufficient to allow My Normative to scale to reach a significant number of women, starting with the key age range from 18 to 35.\\xa0 Machine learning, combined with empirical data, should provide the necessary informational tools to scale across the globe. Danika and her team appear to be content with tackling the North American market — for now!\\xa0 §§§\\xa0 To learn more about My Normative, click on one or more of the links below:\\xa0 My Normative\\xa0 Website | [UNK]\\xa0 Instagram | @[UNK]ive\\xa0 Facebook | @mynormative\\xa0 Twitter | @mynormative\\xa0 LinkedIn | [UNK]\\xa0 §§§\\xa0 Danika Kelly on LinkedIn | [UNK]   ---   Send in a voice message: [UNK]'\n",
            " 'As exciting as summer is for all of us, we all need a reminder if we want to stay on track with our fitness and nutrition goals. These 7 steps will set you up for success the next few months but will also give you the space and grace to live the life you want to.\\xa0 \\xa0 Time Stamps: \\xa0 (1:53) Enjoying Your Summer and Staying Healthy (4:04) Why Summer is Tough (8:15) Healthy Snacks Available and Ready to Go (11:48) Hydration (13:20) Buy or Bring Your Own Food (15:30) Mindful of Alcohol and Sugar (18:38) Plan Your Meals (20:30) Eat Your Vegetables (22:03) All or Nothing Mentality (25:06) Recap (26:18) Where to Find Me ---------------- Follow Me on Instagram! - [UNK] ------------- We have helped over 500 women transform their mind and body and become the best version of themselves. Want to be next? Click Here to Apply! - [UNK]'\n",
            " \"In our final episode we return to a favourite album of mine, I chat Let's Get Small with Luba Magnus and Yaw Attuah. While this is the final episode of Comedy Album Book Club in its current incarnation please stay subscribed. We'll be bringing one off special conversations as well as coming back with a whole new format in the future. Thanks for three years of support and we look forward to returning new and refreshed.\"]\n",
            "tf.Tensor(\n",
            "[[58.  8.  2. ...  0.  0.  0.]\n",
            " [52.  4.  7. ...  0.  0.  0.]\n",
            " [23.  2.  3. ...  0.  0.  0.]], shape=(3, 500), dtype=float32)\n"
          ]
        }
      ],
      "metadata": {
        "colab": {
          "base_uri": "https://localhost:8080/"
        },
        "id": "2rvqKRwc8CMU",
        "outputId": "a8c84ca6-40f1-4f00-9070-a9d257e1fd6e"
      }
    },
    {
      "cell_type": "markdown",
      "source": [
        "### Label encoding (categorical)"
      ],
      "metadata": {
        "id": "-dFFjWEEDQP9"
      }
    },
    {
      "cell_type": "code",
      "execution_count": 8,
      "source": [
        "X_train_count = vect(X_train.values)\r\n",
        "X_test_count = vect(X_test.values)\r\n",
        "\r\n",
        "from sklearn.preprocessing import LabelEncoder\r\n",
        "\r\n",
        "encoder = LabelEncoder()\r\n",
        "y_train_encoded = encoder.fit_transform(y_train.values)\r\n",
        "y_test_encoded = encoder.transform(y_test.values)"
      ],
      "outputs": [],
      "metadata": {
        "id": "1YAPeP-p899Q"
      }
    },
    {
      "cell_type": "markdown",
      "source": [
        "### Building model"
      ],
      "metadata": {
        "id": "w646CDlCDVLe"
      }
    },
    {
      "cell_type": "code",
      "execution_count": 10,
      "source": [
        "from sklearn.naive_bayes import MultinomialNB\r\n",
        "from sklearn.tree import DecisionTreeClassifier\r\n",
        "\r\n",
        "# Use only first 200 word counts except the very first one\r\n",
        "# which is a [UNK]\r\n",
        "\r\n",
        "mnb = MultinomialNB()\r\n",
        "mnb.fit(X_train_count[:,1:200], y_train_encoded)\r\n",
        "\r\n",
        "dt = DecisionTreeClassifier()\r\n",
        "dt.fit(X_train_count[:,1:200], y_train_encoded);"
      ],
      "outputs": [],
      "metadata": {
        "id": "OjWBbjev87PV"
      }
    },
    {
      "cell_type": "markdown",
      "source": [
        "### Evaluation"
      ],
      "metadata": {
        "id": "1NwQ6iYPPGte"
      }
    },
    {
      "cell_type": "code",
      "execution_count": 11,
      "source": [
        "from sklearn.metrics import classification_report\r\n",
        "\r\n",
        "dt_y_pred = dt.predict(X_test_count[:,1:200])\r\n",
        "mnb_y_pred = mnb.predict(X_test_count[:,1:200])\r\n",
        "\r\n",
        "print(\"DT\")\r\n",
        "print(classification_report(y_test_encoded,dt_y_pred))\r\n",
        "\r\n",
        "print(\"TREE\")\r\n",
        "print(classification_report(y_test_encoded,mnb_y_pred))"
      ],
      "outputs": [
        {
          "output_type": "stream",
          "name": "stdout",
          "text": [
            "DT\n",
            "              precision    recall  f1-score   support\n",
            "\n",
            "           0       0.54      0.52      0.53       303\n",
            "           1       0.69      0.62      0.65       270\n",
            "           2       0.43      0.49      0.46       193\n",
            "           3       0.61      0.64      0.63       296\n",
            "           4       0.43      0.42      0.43       237\n",
            "           5       0.72      0.76      0.74       378\n",
            "           6       0.51      0.53      0.52       331\n",
            "           7       0.46      0.47      0.46       207\n",
            "           8       0.56      0.54      0.55       280\n",
            "           9       0.62      0.56      0.59       248\n",
            "\n",
            "    accuracy                           0.57      2743\n",
            "   macro avg       0.56      0.56      0.56      2743\n",
            "weighted avg       0.57      0.57      0.57      2743\n",
            "\n",
            "TREE\n",
            "              precision    recall  f1-score   support\n",
            "\n",
            "           0       0.50      0.42      0.46       303\n",
            "           1       0.52      0.52      0.52       270\n",
            "           2       0.28      0.22      0.25       193\n",
            "           3       0.52      0.61      0.56       296\n",
            "           4       0.36      0.31      0.33       237\n",
            "           5       0.66      0.43      0.52       378\n",
            "           6       0.41      0.46      0.43       331\n",
            "           7       0.40      0.36      0.38       207\n",
            "           8       0.33      0.48      0.39       280\n",
            "           9       0.44      0.54      0.48       248\n",
            "\n",
            "    accuracy                           0.45      2743\n",
            "   macro avg       0.44      0.44      0.43      2743\n",
            "weighted avg       0.46      0.45      0.45      2743\n",
            "\n"
          ]
        }
      ],
      "metadata": {
        "colab": {
          "base_uri": "https://localhost:8080/"
        },
        "id": "COJE4etS-hkT",
        "outputId": "e48b392b-1c63-4a34-d5f1-b88a3dbc2a6e"
      }
    },
    {
      "cell_type": "markdown",
      "source": [
        "## 2) model_2 : Deep learning (embedding LSTM)"
      ],
      "metadata": {
        "id": "9m11ww8QDb1F"
      }
    },
    {
      "cell_type": "markdown",
      "source": [
        "### Building model"
      ],
      "metadata": {
        "id": "OeLXmJZRPKqP"
      }
    },
    {
      "cell_type": "code",
      "execution_count": 16,
      "source": [
        "import tensorflow as tf\r\n",
        "from tensorflow.keras.models import Sequential\r\n",
        "from tensorflow.keras.layers import Dense, LSTM, Embedding, InputLayer\r\n",
        "from tensorflow.keras.layers.experimental.preprocessing import TextVectorization\r\n",
        "\r\n",
        "vocab_size = 500\r\n",
        "\r\n",
        "text_vect_layer = TextVectorization(max_tokens=vocab_size, output_sequence_length=vocab_size)\r\n",
        "text_vect_layer.adapt(X_train.values)\r\n",
        "\r\n",
        "model_2 = Sequential([\r\n",
        "                      InputLayer(input_shape=(1,), dtype=tf.string),\r\n",
        "                      text_vect_layer,\r\n",
        "                      Embedding(text_vect_layer.vocabulary_size(), 64, \r\n",
        "                                mask_zero=True),  # Tell model to ignore padding token\r\n",
        "                      LSTM(64),\r\n",
        "                      Dense(32, activation='relu'),\r\n",
        "                      Dense(10, activation='softmax')\r\n",
        "            ])"
      ],
      "outputs": [],
      "metadata": {
        "id": "EVYNSqtv5KFt"
      }
    },
    {
      "cell_type": "code",
      "execution_count": 17,
      "source": [
        "model_2.compile(optimizer='adam', loss='categorical_crossentropy', metrics=['accuracy'])"
      ],
      "outputs": [],
      "metadata": {
        "id": "gadxqT_aGo8n"
      }
    },
    {
      "cell_type": "code",
      "execution_count": 18,
      "source": [
        "model_2.summary()"
      ],
      "outputs": [
        {
          "output_type": "stream",
          "name": "stdout",
          "text": [
            "Model: \"sequential_1\"\n",
            "_________________________________________________________________\n",
            "Layer (type)                 Output Shape              Param #   \n",
            "=================================================================\n",
            "text_vectorization_3 (TextVe (None, 500)               0         \n",
            "_________________________________________________________________\n",
            "embedding_1 (Embedding)      (None, 500, 64)           32000     \n",
            "_________________________________________________________________\n",
            "lstm_1 (LSTM)                (None, 64)                33024     \n",
            "_________________________________________________________________\n",
            "dense_2 (Dense)              (None, 32)                2080      \n",
            "_________________________________________________________________\n",
            "dense_3 (Dense)              (None, 10)                330       \n",
            "=================================================================\n",
            "Total params: 67,434\n",
            "Trainable params: 67,434\n",
            "Non-trainable params: 0\n",
            "_________________________________________________________________\n"
          ]
        }
      ],
      "metadata": {
        "colab": {
          "base_uri": "https://localhost:8080/"
        },
        "id": "t5QfKyONFjom",
        "outputId": "31ae55c7-6532-437f-8a45-77d69c7b4a23"
      }
    },
    {
      "cell_type": "code",
      "execution_count": 12,
      "source": [
        "y_train_ohe = tf.one_hot(y_train_encoded, depth=10)\r\n",
        "y_test_ohe = tf.one_hot(y_test_encoded, depth=10)"
      ],
      "outputs": [],
      "metadata": {
        "id": "xgCRUIP_GF3E"
      }
    },
    {
      "cell_type": "code",
      "execution_count": 19,
      "source": [
        "from tensorflow.keras.callbacks import EarlyStopping\r\n",
        "\r\n",
        "early_stop = EarlyStopping(\r\n",
        "                monitor='val_loss', min_delta=0.001, \r\n",
        "                patience=3, restore_best_weights=False\r\n",
        "            )\r\n",
        "EPOCHS = 20\r\n",
        "history = model_2.fit(X_train.values, y_train_ohe, \r\n",
        "            batch_size=32, epochs=EPOCHS, \r\n",
        "            validation_split=0.2, \r\n",
        "            #callbacks=[early_stop]\r\n",
        "            )"
      ],
      "outputs": [
        {
          "output_type": "stream",
          "name": "stdout",
          "text": [
            "Epoch 1/20\n",
            "275/275 [==============================] - 50s 94ms/step - loss: 2.1465 - accuracy: 0.2199 - val_loss: 1.9505 - val_accuracy: 0.3034\n",
            "Epoch 2/20\n",
            "275/275 [==============================] - 24s 87ms/step - loss: 1.7089 - accuracy: 0.3952 - val_loss: 1.5508 - val_accuracy: 0.4661\n",
            "Epoch 3/20\n",
            "275/275 [==============================] - 24s 88ms/step - loss: 1.3947 - accuracy: 0.5282 - val_loss: 1.3378 - val_accuracy: 0.5622\n",
            "Epoch 4/20\n",
            "275/275 [==============================] - 24s 88ms/step - loss: 1.2201 - accuracy: 0.5991 - val_loss: 1.2395 - val_accuracy: 0.5973\n",
            "Epoch 5/20\n",
            "275/275 [==============================] - 24s 89ms/step - loss: 1.1340 - accuracy: 0.6339 - val_loss: 1.2332 - val_accuracy: 0.5932\n",
            "Epoch 6/20\n",
            "275/275 [==============================] - 24s 88ms/step - loss: 1.0242 - accuracy: 0.6661 - val_loss: 1.1092 - val_accuracy: 0.6501\n",
            "Epoch 7/20\n",
            "275/275 [==============================] - 24s 88ms/step - loss: 0.9569 - accuracy: 0.6895 - val_loss: 1.1366 - val_accuracy: 0.6478\n",
            "Epoch 8/20\n",
            "275/275 [==============================] - 24s 88ms/step - loss: 0.9725 - accuracy: 0.6819 - val_loss: 1.2010 - val_accuracy: 0.6032\n",
            "Epoch 9/20\n",
            "275/275 [==============================] - 24s 88ms/step - loss: 0.9224 - accuracy: 0.6981 - val_loss: 1.0720 - val_accuracy: 0.6560\n",
            "Epoch 10/20\n",
            "275/275 [==============================] - 24s 88ms/step - loss: 0.8135 - accuracy: 0.7343 - val_loss: 1.0073 - val_accuracy: 0.6888\n",
            "Epoch 11/20\n",
            "275/275 [==============================] - 24s 87ms/step - loss: 0.7867 - accuracy: 0.7470 - val_loss: 1.0719 - val_accuracy: 0.6661\n",
            "Epoch 12/20\n",
            "275/275 [==============================] - 24s 87ms/step - loss: 0.7470 - accuracy: 0.7591 - val_loss: 1.0446 - val_accuracy: 0.6870\n",
            "Epoch 13/20\n",
            "275/275 [==============================] - 24s 88ms/step - loss: 0.6985 - accuracy: 0.7765 - val_loss: 1.0618 - val_accuracy: 0.6879\n",
            "Epoch 14/20\n",
            "275/275 [==============================] - 24s 88ms/step - loss: 0.6842 - accuracy: 0.7804 - val_loss: 1.0169 - val_accuracy: 0.7062\n",
            "Epoch 15/20\n",
            "275/275 [==============================] - 24s 88ms/step - loss: 0.6454 - accuracy: 0.7963 - val_loss: 1.0370 - val_accuracy: 0.6897\n",
            "Epoch 16/20\n",
            "275/275 [==============================] - 24s 88ms/step - loss: 0.6249 - accuracy: 0.8010 - val_loss: 1.0185 - val_accuracy: 0.7098\n",
            "Epoch 17/20\n",
            "275/275 [==============================] - 24s 89ms/step - loss: 0.5706 - accuracy: 0.8225 - val_loss: 1.0218 - val_accuracy: 0.7166\n",
            "Epoch 18/20\n",
            "275/275 [==============================] - 24s 88ms/step - loss: 0.5945 - accuracy: 0.8093 - val_loss: 1.0592 - val_accuracy: 0.7030\n",
            "Epoch 19/20\n",
            "275/275 [==============================] - 24s 88ms/step - loss: 0.6625 - accuracy: 0.7931 - val_loss: 1.0302 - val_accuracy: 0.7030\n",
            "Epoch 20/20\n",
            "275/275 [==============================] - 24s 89ms/step - loss: 0.6144 - accuracy: 0.8033 - val_loss: 1.0192 - val_accuracy: 0.7198\n"
          ]
        }
      ],
      "metadata": {
        "colab": {
          "base_uri": "https://localhost:8080/"
        },
        "id": "jqGn1XFiGS2D",
        "outputId": "f0cea4d0-e8b9-4063-825d-5710fd9057f4"
      }
    },
    {
      "cell_type": "markdown",
      "source": [
        "### Evaluation"
      ],
      "metadata": {
        "id": "VPpvBYbOPSx1"
      }
    },
    {
      "cell_type": "code",
      "execution_count": 34,
      "source": [
        "model_2.evaluate(X_test.values, y_test_ohe)"
      ],
      "outputs": [
        {
          "output_type": "stream",
          "name": "stdout",
          "text": [
            "86/86 [==============================] - 3s 33ms/step - loss: 1.0609 - accuracy: 0.7000\n"
          ]
        },
        {
          "output_type": "execute_result",
          "data": {
            "text/plain": [
              "[1.0608502626419067, 0.6999635696411133]"
            ]
          },
          "metadata": {
            "tags": []
          },
          "execution_count": 34
        }
      ],
      "metadata": {
        "colab": {
          "base_uri": "https://localhost:8080/"
        },
        "id": "-KXcd-KVSN_E",
        "outputId": "2c1ec306-5a49-4eb3-c339-306d5105d914"
      }
    },
    {
      "cell_type": "code",
      "execution_count": 27,
      "source": [
        "import matplotlib.pyplot as plt\r\n",
        "\r\n",
        "fig, ax = plt.subplots(1,2, figsize=(12,6))\r\n",
        "\r\n",
        "ax[0].plot(list(range(EPOCHS)), history.history['loss'], label='loss')\r\n",
        "ax[0].plot(list(range(EPOCHS)), history.history['val_loss'], label='val_loss')\r\n",
        "ax[0].set_title('loss')\r\n",
        "ax[0].legend(loc='upper right')\r\n",
        "\r\n",
        "ax[1].plot(list(range(EPOCHS)), history.history['accuracy'], label='accuracy')\r\n",
        "ax[1].plot(list(range(EPOCHS)), history.history['val_accuracy'], label='val_accuracy')\r\n",
        "ax[1].set_title('accuracy')\r\n",
        "ax[1].legend(loc='lower right')\r\n",
        "plt.show()"
      ],
      "outputs": [
        {
          "output_type": "display_data",
          "data": {
            "text/plain": [
              "<Figure size 864x432 with 2 Axes>"
            ],
            "image/png": "[encoded data removed]"
          },
          "metadata": {
            "tags": [],
            "needs_background": "light"
          }
        }
      ],
      "metadata": {
        "colab": {
          "base_uri": "https://localhost:8080/",
          "height": 390
        },
        "id": "C_mtMcI4M19g",
        "outputId": "e0a0aec0-a147-41ef-b5be-69d825df8115"
      }
    },
    {
      "cell_type": "code",
      "execution_count": 30,
      "source": [
        "from sklearn.metrics import classification_report\r\n",
        "\r\n",
        "y_pred_prob = model_2.predict(X_test.values)\r\n",
        "y_pred = tf.argmax(y_pred_prob, axis=1)\r\n",
        "\r\n",
        "print(\"model_2\")\r\n",
        "print(classification_report(y_test_encoded, y_pred.numpy()))"
      ],
      "outputs": [
        {
          "output_type": "stream",
          "name": "stdout",
          "text": [
            "model_2\n",
            "              precision    recall  f1-score   support\n",
            "\n",
            "           0       0.58      0.78      0.66       303\n",
            "           1       0.58      0.71      0.64       270\n",
            "           2       0.73      0.44      0.55       193\n",
            "           3       0.82      0.80      0.81       296\n",
            "           4       0.58      0.58      0.58       237\n",
            "           5       0.83      0.85      0.84       378\n",
            "           6       0.66      0.65      0.66       331\n",
            "           7       0.82      0.52      0.63       207\n",
            "           8       0.77      0.69      0.73       280\n",
            "           9       0.74      0.79      0.77       248\n",
            "\n",
            "    accuracy                           0.70      2743\n",
            "   macro avg       0.71      0.68      0.69      2743\n",
            "weighted avg       0.71      0.70      0.70      2743\n",
            "\n"
          ]
        }
      ],
      "metadata": {
        "colab": {
          "base_uri": "https://localhost:8080/"
        },
        "id": "XXi2YT68GbhC",
        "outputId": "3d9f8990-e717-4ab7-e1fb-ca37c46733c5"
      }
    },
    {
      "cell_type": "code",
      "execution_count": 32,
      "source": [
        "print(f'Tensorflow version : {tf.__version__}')\r\n",
        "model_2.save(\"../../models/model_2\")"
      ],
      "outputs": [
        {
          "output_type": "stream",
          "name": "stdout",
          "text": [
            "Tensorflow version : 2.5.0\n"
          ]
        },
        {
          "output_type": "stream",
          "name": "stderr",
          "text": [
            "WARNING:absl:Found untraced functions such as lstm_cell_1_layer_call_and_return_conditional_losses, lstm_cell_1_layer_call_fn, lstm_cell_1_layer_call_fn, lstm_cell_1_layer_call_and_return_conditional_losses, lstm_cell_1_layer_call_and_return_conditional_losses while saving (showing 5 of 5). These functions will not be directly callable after loading.\n"
          ]
        },
        {
          "output_type": "stream",
          "name": "stdout",
          "text": [
            "INFO:tensorflow:Assets written to: model_2/assets\n"
          ]
        },
        {
          "output_type": "stream",
          "name": "stderr",
          "text": [
            "INFO:tensorflow:Assets written to: model_2/assets\n"
          ]
        }
      ],
      "metadata": {
        "colab": {
          "base_uri": "https://localhost:8080/"
        },
        "id": "9vP1xV4YO_Ht",
        "outputId": "70100535-56c5-4004-dc4b-3b106a70fa20"
      }
    },
    {
      "cell_type": "code",
      "execution_count": 35,
      "source": [
        "# Test SavedModel\r\n",
        "test_model_2 = tf.keras.models.load_model('../../models/model_2')\r\n",
        "test_model_2.evaluate(X_test.values, y_test_ohe)"
      ],
      "outputs": [
        {
          "output_type": "stream",
          "name": "stdout",
          "text": [
            "86/86 [==============================] - 4s 33ms/step - loss: 1.0609 - accuracy: 0.7000\n"
          ]
        },
        {
          "output_type": "execute_result",
          "data": {
            "text/plain": [
              "[1.0608502626419067, 0.6999635696411133]"
            ]
          },
          "metadata": {
            "tags": []
          },
          "execution_count": 35
        }
      ],
      "metadata": {
        "colab": {
          "base_uri": "https://localhost:8080/"
        },
        "id": "dqc7E7EZRe5s",
        "outputId": "c5545959-f677-4a15-f2c0-3e5cda37e232"
      }
    },
    {
      "cell_type": "code",
      "execution_count": null,
      "source": [],
      "outputs": [],
      "metadata": {
        "id": "JKqBc_iWSauc"
      }
    }
  ]
}