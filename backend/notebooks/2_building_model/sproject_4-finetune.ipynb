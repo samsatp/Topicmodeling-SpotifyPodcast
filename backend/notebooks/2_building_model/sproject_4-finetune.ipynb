{
 "cells": [
  {
   "cell_type": "markdown",
   "source": [
    "# Getting data"
   ],
   "metadata": {
    "id": "8kRzlGIkVnal",
    "papermill": {
     "duration": 0.016585,
     "end_time": "2021-08-10T16:51:46.125799",
     "exception": false,
     "start_time": "2021-08-10T16:51:46.109214",
     "status": "completed"
    },
    "tags": []
   }
  },
  {
   "cell_type": "code",
   "execution_count": 1,
   "source": [
    "from sklearn.model_selection import train_test_split\r\n",
    "from IPython.display import clear_output\r\n",
    "import pandas as pd\r\n",
    "\r\n",
    "df = pd.read_csv(\"../../data/df_notnull_notdup.csv\")\r\n",
    "\r\n",
    "sequences, label = df['desc_nonUrl'], df['label']\r\n",
    "X_train, X_test, y_train, y_test = train_test_split(sequences, label, stratify=label, \r\n",
    "                                                    test_size=0.2, random_state=42)\r\n",
    "\r\n",
    "print(f'Train size : {len(X_train)}')\r\n",
    "print(f'Test  size : {len(X_test)}')"
   ],
   "outputs": [
    {
     "output_type": "stream",
     "name": "stdout",
     "text": [
      "Train size : 10972\n",
      "Test  size : 2743\n"
     ]
    }
   ],
   "metadata": {
    "execution": {
     "iopub.execute_input": "2021-08-10T16:51:46.169303Z",
     "iopub.status.busy": "2021-08-10T16:51:46.168598Z",
     "iopub.status.idle": "2021-08-10T16:51:47.486545Z",
     "shell.execute_reply": "2021-08-10T16:51:47.485606Z",
     "shell.execute_reply.started": "2021-08-10T15:54:03.717125Z"
    },
    "id": "YA-Rx7GrKT-N",
    "outputId": "9354166b-ada9-43b6-a71b-a347bdc48508",
    "papermill": {
     "duration": 1.345367,
     "end_time": "2021-08-10T16:51:47.486709",
     "exception": false,
     "start_time": "2021-08-10T16:51:46.141342",
     "status": "completed"
    },
    "tags": []
   }
  },
  {
   "cell_type": "markdown",
   "source": [
    "# Load the pretrained Tokenizer, Transformer"
   ],
   "metadata": {
    "id": "XwVpbSzWKy2w",
    "papermill": {
     "duration": 0.015508,
     "end_time": "2021-08-10T16:51:47.519084",
     "exception": false,
     "start_time": "2021-08-10T16:51:47.503576",
     "status": "completed"
    },
    "tags": []
   }
  },
  {
   "cell_type": "code",
   "execution_count": 2,
   "source": [
    "from transformers import AutoTokenizer, TFAutoModel\r\n",
    "\r\n",
    "checkpoint = \"distilbert-base-uncased\"\r\n",
    "\r\n",
    "tokenizer = AutoTokenizer.from_pretrained(checkpoint)\r\n",
    "model = TFAutoModel.from_pretrained(checkpoint, output_hidden_states=True)\r\n",
    "model.distilbert.trainable = False\r\n",
    "clear_output()"
   ],
   "outputs": [],
   "metadata": {
    "execution": {
     "iopub.execute_input": "2021-08-10T16:51:47.555218Z",
     "iopub.status.busy": "2021-08-10T16:51:47.554632Z",
     "iopub.status.idle": "2021-08-10T16:52:20.022301Z",
     "shell.execute_reply": "2021-08-10T16:52:20.020938Z",
     "shell.execute_reply.started": "2021-08-10T15:54:04.024440Z"
    },
    "id": "JBArLbqWP0jz",
    "papermill": {
     "duration": 32.487734,
     "end_time": "2021-08-10T16:52:20.022462",
     "exception": false,
     "start_time": "2021-08-10T16:51:47.534728",
     "status": "completed"
    },
    "tags": []
   }
  },
  {
   "cell_type": "markdown",
   "source": [
    "# Prepare the data"
   ],
   "metadata": {
    "id": "hoVJvlukXTuC",
    "papermill": {
     "duration": 0.017303,
     "end_time": "2021-08-10T16:52:20.056219",
     "exception": false,
     "start_time": "2021-08-10T16:52:20.038916",
     "status": "completed"
    },
    "tags": []
   }
  },
  {
   "cell_type": "markdown",
   "source": [
    "## Train test split"
   ],
   "metadata": {
    "id": "lhi7dxWbXbQ7",
    "papermill": {
     "duration": 0.019219,
     "end_time": "2021-08-10T16:52:20.094794",
     "exception": false,
     "start_time": "2021-08-10T16:52:20.075575",
     "status": "completed"
    },
    "tags": []
   }
  },
  {
   "cell_type": "code",
   "execution_count": 3,
   "source": [
    "from sklearn.model_selection import train_test_split\r\n",
    "\r\n",
    "sequences, label = df['desc_nonUrl'], df['label']\r\n",
    "\r\n",
    "X_train, X_test, y_train, y_test = train_test_split(sequences, label, stratify=label, test_size=0.5,\r\n",
    "                                                    random_state=42)\r\n",
    "\r\n",
    "print(f'Train size : {len(X_train)}')\r\n",
    "print(f'Test  size : {len(X_test)}')"
   ],
   "outputs": [
    {
     "output_type": "stream",
     "name": "stdout",
     "text": [
      "Train size : 6857\n",
      "Test  size : 6858\n"
     ]
    }
   ],
   "metadata": {
    "execution": {
     "iopub.execute_input": "2021-08-10T16:52:20.145411Z",
     "iopub.status.busy": "2021-08-10T16:52:20.144628Z",
     "iopub.status.idle": "2021-08-10T16:52:20.162352Z",
     "shell.execute_reply": "2021-08-10T16:52:20.161491Z",
     "shell.execute_reply.started": "2021-08-10T15:54:42.026321Z"
    },
    "id": "bPjvAm1DXdDg",
    "outputId": "98b63e3a-09e7-4c79-e641-698ad328b016",
    "papermill": {
     "duration": 0.051481,
     "end_time": "2021-08-10T16:52:20.162550",
     "exception": false,
     "start_time": "2021-08-10T16:52:20.111069",
     "status": "completed"
    },
    "tags": []
   }
  },
  {
   "cell_type": "code",
   "execution_count": 4,
   "source": [
    "datasets = {\r\n",
    "    'train': X_train.values.tolist(),\r\n",
    "    'test' : X_test.values.tolist()\r\n",
    "}\r\n",
    "targets = {\r\n",
    "    'train': y_train.values.tolist(),\r\n",
    "    'test' : y_test.values.tolist()\r\n",
    "}"
   ],
   "outputs": [],
   "metadata": {
    "execution": {
     "iopub.execute_input": "2021-08-10T16:52:20.210015Z",
     "iopub.status.busy": "2021-08-10T16:52:20.208762Z",
     "iopub.status.idle": "2021-08-10T16:52:20.211607Z",
     "shell.execute_reply": "2021-08-10T16:52:20.211172Z",
     "shell.execute_reply.started": "2021-08-10T15:54:42.063355Z"
    },
    "id": "8ibLE-RlX0rX",
    "papermill": {
     "duration": 0.026999,
     "end_time": "2021-08-10T16:52:20.211707",
     "exception": false,
     "start_time": "2021-08-10T16:52:20.184708",
     "status": "completed"
    },
    "tags": []
   }
  },
  {
   "cell_type": "markdown",
   "source": [
    "## Tokenization"
   ],
   "metadata": {
    "id": "Zo9kaC5bXWEi",
    "papermill": {
     "duration": 0.017239,
     "end_time": "2021-08-10T16:52:20.245167",
     "exception": false,
     "start_time": "2021-08-10T16:52:20.227928",
     "status": "completed"
    },
    "tags": []
   }
  },
  {
   "cell_type": "code",
   "execution_count": 5,
   "source": [
    "def tokenize_seqs(seqs):\r\n",
    "    encoded = tokenizer(\r\n",
    "        seqs,\r\n",
    "        padding=True,\r\n",
    "        truncation=True,\r\n",
    "        return_tensors='tf',\r\n",
    "    )\r\n",
    "    return encoded.data"
   ],
   "outputs": [],
   "metadata": {
    "execution": {
     "iopub.execute_input": "2021-08-10T16:52:20.284070Z",
     "iopub.status.busy": "2021-08-10T16:52:20.283440Z",
     "iopub.status.idle": "2021-08-10T16:52:20.287644Z",
     "shell.execute_reply": "2021-08-10T16:52:20.288121Z",
     "shell.execute_reply.started": "2021-08-10T15:54:42.073854Z"
    },
    "id": "eAXGLNxIROmf",
    "papermill": {
     "duration": 0.026969,
     "end_time": "2021-08-10T16:52:20.288326",
     "exception": false,
     "start_time": "2021-08-10T16:52:20.261357",
     "status": "completed"
    },
    "tags": []
   }
  },
  {
   "cell_type": "code",
   "execution_count": 6,
   "source": [
    "tokenized_datasets = {split_ : tokenize_seqs(seqs) for (split_, seqs) in datasets.items()}"
   ],
   "outputs": [],
   "metadata": {
    "execution": {
     "iopub.execute_input": "2021-08-10T16:52:20.336323Z",
     "iopub.status.busy": "2021-08-10T16:52:20.335607Z",
     "iopub.status.idle": "2021-08-10T16:52:27.011021Z",
     "shell.execute_reply": "2021-08-10T16:52:27.010563Z",
     "shell.execute_reply.started": "2021-08-10T15:54:42.085309Z"
    },
    "id": "uUtk0GmMS0XO",
    "papermill": {
     "duration": 6.703813,
     "end_time": "2021-08-10T16:52:27.011146",
     "exception": false,
     "start_time": "2021-08-10T16:52:20.307333",
     "status": "completed"
    },
    "tags": []
   }
  },
  {
   "cell_type": "code",
   "execution_count": 7,
   "source": [
    "tokenized_datasets"
   ],
   "outputs": [
    {
     "output_type": "execute_result",
     "data": {
      "text/plain": [
       "{'train': {'input_ids': <tf.Tensor: shape=(6857, 512), dtype=int32, numpy=\n",
       "  array([[ 101, 1999, 2023, ...,    0,    0,    0],\n",
       "         [ 101, 2009, 2001, ...,    0,    0,    0],\n",
       "         [ 101, 2024, 2017, ...,    0,    0,    0],\n",
       "         ...,\n",
       "         [ 101, 2161, 1016, ...,    0,    0,    0],\n",
       "         [ 101, 2206, 1996, ...,    0,    0,    0],\n",
       "         [ 101, 9765, 2050, ...,    0,    0,    0]], dtype=int32)>,\n",
       "  'attention_mask': <tf.Tensor: shape=(6857, 512), dtype=int32, numpy=\n",
       "  array([[1, 1, 1, ..., 0, 0, 0],\n",
       "         [1, 1, 1, ..., 0, 0, 0],\n",
       "         [1, 1, 1, ..., 0, 0, 0],\n",
       "         ...,\n",
       "         [1, 1, 1, ..., 0, 0, 0],\n",
       "         [1, 1, 1, ..., 0, 0, 0],\n",
       "         [1, 1, 1, ..., 0, 0, 0]], dtype=int32)>},\n",
       " 'test': {'input_ids': <tf.Tensor: shape=(6858, 512), dtype=int32, numpy=\n",
       "  array([[ 101, 2023, 2186, ...,    0,    0,    0],\n",
       "         [ 101, 2023, 2792, ...,    0,    0,    0],\n",
       "         [ 101, 3693, 1996, ...,    0,    0,    0],\n",
       "         ...,\n",
       "         [ 101, 4918, 1010, ...,    0,    0,    0],\n",
       "         [ 101, 2517, 2011, ...,    0,    0,    0],\n",
       "         [ 101, 2123, 6799, ...,    0,    0,    0]], dtype=int32)>,\n",
       "  'attention_mask': <tf.Tensor: shape=(6858, 512), dtype=int32, numpy=\n",
       "  array([[1, 1, 1, ..., 0, 0, 0],\n",
       "         [1, 1, 1, ..., 0, 0, 0],\n",
       "         [1, 1, 1, ..., 0, 0, 0],\n",
       "         ...,\n",
       "         [1, 1, 1, ..., 0, 0, 0],\n",
       "         [1, 1, 1, ..., 0, 0, 0],\n",
       "         [1, 1, 1, ..., 0, 0, 0]], dtype=int32)>}}"
      ]
     },
     "metadata": {},
     "execution_count": 7
    }
   ],
   "metadata": {
    "execution": {
     "iopub.execute_input": "2021-08-10T16:52:27.054484Z",
     "iopub.status.busy": "2021-08-10T16:52:27.053671Z",
     "iopub.status.idle": "2021-08-10T16:52:27.057361Z",
     "shell.execute_reply": "2021-08-10T16:52:27.057785Z",
     "shell.execute_reply.started": "2021-08-10T15:54:50.802624Z"
    },
    "id": "15m2BkKDYnym",
    "outputId": "56016ad4-14c8-4a24-a9aa-9d21d6c576cf",
    "papermill": {
     "duration": 0.030525,
     "end_time": "2021-08-10T16:52:27.057935",
     "exception": false,
     "start_time": "2021-08-10T16:52:27.027410",
     "status": "completed"
    },
    "tags": []
   }
  },
  {
   "cell_type": "markdown",
   "source": [
    "## Label encoding"
   ],
   "metadata": {
    "id": "TYD8iHbMY4k-",
    "papermill": {
     "duration": 0.016517,
     "end_time": "2021-08-10T16:52:27.091133",
     "exception": false,
     "start_time": "2021-08-10T16:52:27.074616",
     "status": "completed"
    },
    "tags": []
   }
  },
  {
   "cell_type": "code",
   "execution_count": 8,
   "source": [
    "import tensorflow as tf\r\n",
    "from sklearn.preprocessing import LabelEncoder\r\n",
    "\r\n",
    "label_encoder = LabelEncoder()\r\n",
    "y_train_encoded = label_encoder.fit_transform(targets['train'])\r\n",
    "y_test_encoded  = label_encoder.transform(targets['test'])\r\n",
    "\r\n",
    "y_train_ohe = tf.one_hot(y_train_encoded, depth=len(label_encoder.classes_))\r\n",
    "y_test_ohe  = tf.one_hot(y_test_encoded, depth=len(label_encoder.classes_))"
   ],
   "outputs": [],
   "metadata": {
    "execution": {
     "iopub.execute_input": "2021-08-10T16:52:27.131102Z",
     "iopub.status.busy": "2021-08-10T16:52:27.130238Z",
     "iopub.status.idle": "2021-08-10T16:52:27.139328Z",
     "shell.execute_reply": "2021-08-10T16:52:27.138900Z",
     "shell.execute_reply.started": "2021-08-10T15:54:50.832996Z"
    },
    "id": "Lqh8uYX2T9JL",
    "papermill": {
     "duration": 0.031759,
     "end_time": "2021-08-10T16:52:27.139440",
     "exception": false,
     "start_time": "2021-08-10T16:52:27.107681",
     "status": "completed"
    },
    "tags": []
   }
  },
  {
   "cell_type": "markdown",
   "source": [
    "# Modeling"
   ],
   "metadata": {
    "id": "XlzeDfObY8yN",
    "papermill": {
     "duration": 0.016351,
     "end_time": "2021-08-10T16:52:27.172399",
     "exception": false,
     "start_time": "2021-08-10T16:52:27.156048",
     "status": "completed"
    },
    "tags": []
   }
  },
  {
   "cell_type": "code",
   "execution_count": 9,
   "source": [
    "from tensorflow.keras.losses import CategoricalCrossentropy\r\n",
    "from tensorflow.keras.layers import Bidirectional, GRU, Input\r\n",
    "\r\n",
    "def get_model():\r\n",
    "    max_seq_length = tokenizer.model_max_length\r\n",
    "    n_classes = len(label_encoder.classes_)\r\n",
    "\r\n",
    "    input_ids = Input(shape=(max_seq_length,),dtype='int32')\r\n",
    "    attention_mask = Input(shape=(max_seq_length,),dtype='int32')\r\n",
    "\r\n",
    "    transformer_output = model({'input_ids':input_ids, 'attention_mask':attention_mask}, \r\n",
    "                                             training=False)    \r\n",
    "    last_hidden_state = transformer_output['last_hidden_state']\r\n",
    "    # Model Head\r\n",
    "    bi_gru = Bidirectional(GRU(64))(last_hidden_state)\r\n",
    "    h1 = tf.keras.layers.Dense(16, activation='relu')(bi_gru)\r\n",
    "    dropout = tf.keras.layers.Dropout(0.2)(h1)\r\n",
    "    output = tf.keras.layers.Dense(n_classes, activation='softmax')(dropout)\r\n",
    "\r\n",
    "    new_model = tf.keras.models.Model(inputs = [input_ids, attention_mask], \r\n",
    "                                      outputs = output)\r\n",
    "    \r\n",
    "    new_model.compile(tf.keras.optimizers.Adam(learning_rate=0.003), \r\n",
    "                      loss=CategoricalCrossentropy(from_logits=False), \r\n",
    "                      metrics=['accuracy'])\r\n",
    "\r\n",
    "    return new_model"
   ],
   "outputs": [],
   "metadata": {
    "execution": {
     "iopub.execute_input": "2021-08-10T16:52:27.213785Z",
     "iopub.status.busy": "2021-08-10T16:52:27.213002Z",
     "iopub.status.idle": "2021-08-10T16:52:27.215413Z",
     "shell.execute_reply": "2021-08-10T16:52:27.215808Z",
     "shell.execute_reply.started": "2021-08-10T15:54:52.203534Z"
    },
    "id": "Oy5LIzT1Y9i3",
    "papermill": {
     "duration": 0.027242,
     "end_time": "2021-08-10T16:52:27.215944",
     "exception": false,
     "start_time": "2021-08-10T16:52:27.188702",
     "status": "completed"
    },
    "tags": []
   }
  },
  {
   "cell_type": "markdown",
   "source": [
    "## Train the model"
   ],
   "metadata": {
    "id": "r6s6z2u_Z4Wp",
    "papermill": {
     "duration": 0.016401,
     "end_time": "2021-08-10T16:52:27.248652",
     "exception": false,
     "start_time": "2021-08-10T16:52:27.232251",
     "status": "completed"
    },
    "tags": []
   }
  },
  {
   "cell_type": "code",
   "execution_count": 10,
   "source": [
    "new_model = get_model()"
   ],
   "outputs": [],
   "metadata": {
    "execution": {
     "iopub.execute_input": "2021-08-10T16:52:27.289192Z",
     "iopub.status.busy": "2021-08-10T16:52:27.288291Z",
     "iopub.status.idle": "2021-08-10T16:52:32.775749Z",
     "shell.execute_reply": "2021-08-10T16:52:32.774790Z",
     "shell.execute_reply.started": "2021-08-10T15:54:52.217520Z"
    },
    "id": "ZqLo_TU9aCd5",
    "outputId": "afc2fc46-3038-4afe-ff42-1d16585b07c3",
    "papermill": {
     "duration": 5.510937,
     "end_time": "2021-08-10T16:52:32.775899",
     "exception": false,
     "start_time": "2021-08-10T16:52:27.264962",
     "status": "completed"
    },
    "tags": []
   }
  },
  {
   "cell_type": "code",
   "execution_count": 11,
   "source": [
    "new_model.summary()"
   ],
   "outputs": [
    {
     "output_type": "stream",
     "name": "stdout",
     "text": [
      "Model: \"model\"\n",
      "__________________________________________________________________________________________________\n",
      "Layer (type)                    Output Shape         Param #     Connected to                     \n",
      "==================================================================================================\n",
      "input_2 (InputLayer)            [(None, 512)]        0                                            \n",
      "__________________________________________________________________________________________________\n",
      "input_1 (InputLayer)            [(None, 512)]        0                                            \n",
      "__________________________________________________________________________________________________\n",
      "tf_distil_bert_model (TFDistilB TFBaseModelOutput(la 66362880    input_2[0][0]                    \n",
      "                                                                 input_1[0][0]                    \n",
      "__________________________________________________________________________________________________\n",
      "bidirectional (Bidirectional)   (None, 128)          320256      tf_distil_bert_model[0][7]       \n",
      "__________________________________________________________________________________________________\n",
      "dense (Dense)                   (None, 16)           2064        bidirectional[0][0]              \n",
      "__________________________________________________________________________________________________\n",
      "dropout_19 (Dropout)            (None, 16)           0           dense[0][0]                      \n",
      "__________________________________________________________________________________________________\n",
      "dense_1 (Dense)                 (None, 10)           170         dropout_19[0][0]                 \n",
      "==================================================================================================\n",
      "Total params: 66,685,370\n",
      "Trainable params: 322,490\n",
      "Non-trainable params: 66,362,880\n",
      "__________________________________________________________________________________________________\n"
     ]
    }
   ],
   "metadata": {
    "execution": {
     "iopub.execute_input": "2021-08-10T16:52:32.830734Z",
     "iopub.status.busy": "2021-08-10T16:52:32.819734Z",
     "iopub.status.idle": "2021-08-10T16:52:32.833156Z",
     "shell.execute_reply": "2021-08-10T16:52:32.833760Z",
     "shell.execute_reply.started": "2021-08-10T15:54:58.987265Z"
    },
    "id": "e6Og98eJo2df",
    "papermill": {
     "duration": 0.038515,
     "end_time": "2021-08-10T16:52:32.833947",
     "exception": false,
     "start_time": "2021-08-10T16:52:32.795432",
     "status": "completed"
    },
    "tags": []
   }
  },
  {
   "cell_type": "code",
   "execution_count": 12,
   "source": [
    "history = new_model.fit([tokenized_datasets['train']['input_ids'], tokenized_datasets['train']['attention_mask']], \r\n",
    "                          y_train_ohe,\r\n",
    "                          validation_split=0.2,\r\n",
    "                          epochs=10, batch_size=16)"
   ],
   "outputs": [
    {
     "output_type": "stream",
     "name": "stdout",
     "text": [
      "Epoch 1/10\n",
      "343/343 [==============================] - 102s 259ms/step - loss: 1.9733 - accuracy: 0.2903 - val_loss: 1.1633 - val_accuracy: 0.6319\n",
      "Epoch 2/10\n",
      "343/343 [==============================] - 87s 252ms/step - loss: 1.0094 - accuracy: 0.6729 - val_loss: 0.8235 - val_accuracy: 0.7464\n",
      "Epoch 3/10\n",
      "343/343 [==============================] - 87s 253ms/step - loss: 0.6608 - accuracy: 0.7890 - val_loss: 0.7391 - val_accuracy: 0.7879\n",
      "Epoch 4/10\n",
      "343/343 [==============================] - 87s 253ms/step - loss: 0.4493 - accuracy: 0.8525 - val_loss: 0.6355 - val_accuracy: 0.8207\n",
      "Epoch 5/10\n",
      "343/343 [==============================] - 87s 253ms/step - loss: 0.3407 - accuracy: 0.8881 - val_loss: 0.6771 - val_accuracy: 0.8316\n",
      "Epoch 6/10\n",
      "343/343 [==============================] - 87s 253ms/step - loss: 0.2929 - accuracy: 0.9004 - val_loss: 0.7205 - val_accuracy: 0.8200\n",
      "Epoch 7/10\n",
      "343/343 [==============================] - 87s 253ms/step - loss: 0.2306 - accuracy: 0.9211 - val_loss: 0.7815 - val_accuracy: 0.8185\n",
      "Epoch 8/10\n",
      "343/343 [==============================] - 87s 253ms/step - loss: 0.1937 - accuracy: 0.9366 - val_loss: 0.7033 - val_accuracy: 0.8229\n",
      "Epoch 9/10\n",
      "343/343 [==============================] - 87s 252ms/step - loss: 0.1776 - accuracy: 0.9423 - val_loss: 0.7342 - val_accuracy: 0.8251\n",
      "Epoch 10/10\n",
      "343/343 [==============================] - 87s 253ms/step - loss: 0.1511 - accuracy: 0.9459 - val_loss: 0.8332 - val_accuracy: 0.8083\n"
     ]
    }
   ],
   "metadata": {
    "execution": {
     "iopub.execute_input": "2021-08-10T16:52:32.874284Z",
     "iopub.status.busy": "2021-08-10T16:52:32.873634Z",
     "iopub.status.idle": "2021-08-10T17:07:14.982017Z",
     "shell.execute_reply": "2021-08-10T17:07:14.981503Z",
     "shell.execute_reply.started": "2021-08-10T15:54:59.012963Z"
    },
    "id": "R7tEtS1JZvUM",
    "papermill": {
     "duration": 882.130225,
     "end_time": "2021-08-10T17:07:14.982229",
     "exception": false,
     "start_time": "2021-08-10T16:52:32.852004",
     "status": "completed"
    },
    "tags": []
   }
  },
  {
   "cell_type": "code",
   "execution_count": 13,
   "source": [
    "from sklearn.metrics import classification_report\r\n",
    "\r\n",
    "y_pred_prob = new_model.predict([tokenized_datasets['test']['input_ids'], tokenized_datasets['test']['attention_mask']])\r\n",
    "y_pred = tf.argmax(y_pred_prob, axis=1)\r\n",
    "\r\n",
    "print(\"Pre-trained\")\r\n",
    "print(classification_report(y_test_encoded, y_pred.numpy()))"
   ],
   "outputs": [
    {
     "output_type": "stream",
     "name": "stdout",
     "text": [
      "Pre-trained\n",
      "              precision    recall  f1-score   support\n",
      "\n",
      "           0       0.81      0.80      0.80       758\n",
      "           1       0.86      0.88      0.87       674\n",
      "           2       0.70      0.68      0.69       481\n",
      "           3       0.94      0.85      0.90       742\n",
      "           4       0.61      0.78      0.69       591\n",
      "           5       0.95      0.87      0.91       947\n",
      "           6       0.84      0.75      0.79       827\n",
      "           7       0.92      0.71      0.80       518\n",
      "           8       0.72      0.94      0.82       701\n",
      "           9       0.92      0.89      0.91       619\n",
      "\n",
      "    accuracy                           0.82      6858\n",
      "   macro avg       0.83      0.82      0.82      6858\n",
      "weighted avg       0.84      0.82      0.82      6858\n",
      "\n"
     ]
    }
   ],
   "metadata": {
    "execution": {
     "iopub.execute_input": "2021-08-10T17:07:16.822044Z",
     "iopub.status.busy": "2021-08-10T17:07:16.818817Z",
     "iopub.status.idle": "2021-08-10T17:08:31.051050Z",
     "shell.execute_reply": "2021-08-10T17:08:31.051672Z",
     "shell.execute_reply.started": "2021-08-10T16:14:33.478954Z"
    },
    "papermill": {
     "duration": 75.148502,
     "end_time": "2021-08-10T17:08:31.051862",
     "exception": false,
     "start_time": "2021-08-10T17:07:15.903360",
     "status": "completed"
    },
    "tags": []
   }
  },
  {
   "cell_type": "code",
   "execution_count": 14,
   "source": [
    "new_model.save('../../models/fine-tuned-distrilled-bert')"
   ],
   "outputs": [],
   "metadata": {
    "execution": {
     "iopub.execute_input": "2021-08-10T17:08:33.167161Z",
     "iopub.status.busy": "2021-08-10T17:08:33.166227Z",
     "iopub.status.idle": "2021-08-10T17:09:08.190771Z",
     "shell.execute_reply": "2021-08-10T17:09:08.190302Z",
     "shell.execute_reply.started": "2021-08-10T16:15:12.628501Z"
    },
    "papermill": {
     "duration": 36.01615,
     "end_time": "2021-08-10T17:09:08.190909",
     "exception": false,
     "start_time": "2021-08-10T17:08:32.174759",
     "status": "completed"
    },
    "tags": []
   }
  },
  {
   "cell_type": "code",
   "execution_count": 15,
   "source": [
    "import matplotlib.pyplot as plt\r\n",
    "\r\n",
    "fig, ax = plt.subplots(1,2, figsize=(12,6))\r\n",
    "EPOCHS=10\r\n",
    "ax[0].plot(list(range(EPOCHS)), history.history['loss'], label='loss')\r\n",
    "ax[0].plot(list(range(EPOCHS)), history.history['val_loss'], label='val_loss')\r\n",
    "ax[0].set_title('loss')\r\n",
    "ax[0].legend(loc='upper right')\r\n",
    "\r\n",
    "ax[1].plot(list(range(EPOCHS)), history.history['accuracy'], label='accuracy')\r\n",
    "ax[1].plot(list(range(EPOCHS)), history.history['val_accuracy'], label='val_accuracy')\r\n",
    "ax[1].set_title('accuracy')\r\n",
    "ax[1].legend(loc='lower right')\r\n",
    "plt.show()"
   ],
   "outputs": [
    {
     "output_type": "display_data",
     "data": {
      "text/plain": [
       "<Figure size 864x432 with 2 Axes>"
      ],
      "image/png": "[encoded data removed]"
     },
     "metadata": {
      "needs_background": "light"
     }
    }
   ],
   "metadata": {
    "execution": {
     "iopub.execute_input": "2021-08-10T17:09:10.163176Z",
     "iopub.status.busy": "2021-08-10T17:09:10.162390Z",
     "iopub.status.idle": "2021-08-10T17:09:10.422152Z",
     "shell.execute_reply": "2021-08-10T17:09:10.422598Z"
    },
    "papermill": {
     "duration": 1.236564,
     "end_time": "2021-08-10T17:09:10.422754",
     "exception": false,
     "start_time": "2021-08-10T17:09:09.186190",
     "status": "completed"
    },
    "tags": []
   }
  },
  {
   "cell_type": "code",
   "execution_count": null,
   "source": [],
   "outputs": [],
   "metadata": {
    "papermill": {
     "duration": 1.260693,
     "end_time": "2021-08-10T17:09:30.899990",
     "exception": false,
     "start_time": "2021-08-10T17:09:29.639297",
     "status": "completed"
    },
    "tags": []
   }
  }
 ],
 "metadata": {
  "kernelspec": {
   "display_name": "Python 3",
   "language": "python",
   "name": "python3"
  },
  "language_info": {
   "codemirror_mode": {
    "name": "ipython",
    "version": 3
   },
   "file_extension": ".py",
   "mimetype": "text/x-python",
   "name": "python",
   "nbconvert_exporter": "python",
   "pygments_lexer": "ipython3",
   "version": "3.7.10"
  },
  "papermill": {
   "default_parameters": {},
   "duration": 1075.496957,
   "end_time": "2021-08-10T17:09:34.886303",
   "environment_variables": {},
   "exception": null,
   "input_path": "__notebook__.ipynb",
   "output_path": "__notebook__.ipynb",
   "parameters": {},
   "start_time": "2021-08-10T16:51:39.389346",
   "version": "2.3.3"
  },
  "widgets": {
   "application/vnd.jupyter.widget-state+json": {
    "state": {
     "0a3044184377485797fc41a0129fbb7a": {
      "model_module": "@jupyter-widgets/base",
      "model_module_version": "1.2.0",
      "model_name": "LayoutModel",
      "state": {
       "_model_module": "@jupyter-widgets/base",
       "_model_module_version": "1.2.0",
       "_model_name": "LayoutModel",
       "_view_count": null,
       "_view_module": "@jupyter-widgets/base",
       "_view_module_version": "1.2.0",
       "_view_name": "LayoutView",
       "align_content": null,
       "align_items": null,
       "align_self": null,
       "border": null,
       "bottom": null,
       "display": null,
       "flex": null,
       "flex_flow": null,
       "grid_area": null,
       "grid_auto_columns": null,
       "grid_auto_flow": null,
       "grid_auto_rows": null,
       "grid_column": null,
       "grid_gap": null,
       "grid_row": null,
       "grid_template_areas": null,
       "grid_template_columns": null,
       "grid_template_rows": null,
       "height": null,
       "justify_content": null,
       "justify_items": null,
       "left": null,
       "margin": null,
       "max_height": null,
       "max_width": null,
       "min_height": null,
       "min_width": null,
       "object_fit": null,
       "object_position": null,
       "order": null,
       "overflow": null,
       "overflow_x": null,
       "overflow_y": null,
       "padding": null,
       "right": null,
       "top": null,
       "visibility": null,
       "width": null
      }
     },
     "1075b1a0e6594366891885ad756e5d88": {
      "model_module": "@jupyter-widgets/controls",
      "model_module_version": "1.5.0",
      "model_name": "DescriptionStyleModel",
      "state": {
       "_model_module": "@jupyter-widgets/controls",
       "_model_module_version": "1.5.0",
       "_model_name": "DescriptionStyleModel",
       "_view_count": null,
       "_view_module": "@jupyter-widgets/base",
       "_view_module_version": "1.2.0",
       "_view_name": "StyleView",
       "description_width": ""
      }
     },
     "12ae040689c448229bdd1d4faf056a5f": {
      "model_module": "@jupyter-widgets/controls",
      "model_module_version": "1.5.0",
      "model_name": "ProgressStyleModel",
      "state": {
       "_model_module": "@jupyter-widgets/controls",
       "_model_module_version": "1.5.0",
       "_model_name": "ProgressStyleModel",
       "_view_count": null,
       "_view_module": "@jupyter-widgets/base",
       "_view_module_version": "1.2.0",
       "_view_name": "StyleView",
       "bar_color": null,
       "description_width": ""
      }
     },
     "18bd7359496d424cb290295a13d05a10": {
      "model_module": "@jupyter-widgets/base",
      "model_module_version": "1.2.0",
      "model_name": "LayoutModel",
      "state": {
       "_model_module": "@jupyter-widgets/base",
       "_model_module_version": "1.2.0",
       "_model_name": "LayoutModel",
       "_view_count": null,
       "_view_module": "@jupyter-widgets/base",
       "_view_module_version": "1.2.0",
       "_view_name": "LayoutView",
       "align_content": null,
       "align_items": null,
       "align_self": null,
       "border": null,
       "bottom": null,
       "display": null,
       "flex": null,
       "flex_flow": null,
       "grid_area": null,
       "grid_auto_columns": null,
       "grid_auto_flow": null,
       "grid_auto_rows": null,
       "grid_column": null,
       "grid_gap": null,
       "grid_row": null,
       "grid_template_areas": null,
       "grid_template_columns": null,
       "grid_template_rows": null,
       "height": null,
       "justify_content": null,
       "justify_items": null,
       "left": null,
       "margin": null,
       "max_height": null,
       "max_width": null,
       "min_height": null,
       "min_width": null,
       "object_fit": null,
       "object_position": null,
       "order": null,
       "overflow": null,
       "overflow_x": null,
       "overflow_y": null,
       "padding": null,
       "right": null,
       "top": null,
       "visibility": null,
       "width": null
      }
     },
     "1b39ef508dc04233971bd7d5759b5bde": {
      "model_module": "@jupyter-widgets/controls",
      "model_module_version": "1.5.0",
      "model_name": "FloatProgressModel",
      "state": {
       "_dom_classes": [],
       "_model_module": "@jupyter-widgets/controls",
       "_model_module_version": "1.5.0",
       "_model_name": "FloatProgressModel",
       "_view_count": null,
       "_view_module": "@jupyter-widgets/controls",
       "_view_module_version": "1.5.0",
       "_view_name": "ProgressView",
       "bar_style": "success",
       "description": "",
       "description_tooltip": null,
       "layout": "IPY_MODEL_a1b5ef769bf745ff82db428bf852718c",
       "max": 442,
       "min": 0,
       "orientation": "horizontal",
       "style": "IPY_MODEL_12ae040689c448229bdd1d4faf056a5f",
       "value": 442
      }
     },
     "1ccb47b4f3e4499bb34aaf38dcae7a06": {
      "model_module": "@jupyter-widgets/controls",
      "model_module_version": "1.5.0",
      "model_name": "ProgressStyleModel",
      "state": {
       "_model_module": "@jupyter-widgets/controls",
       "_model_module_version": "1.5.0",
       "_model_name": "ProgressStyleModel",
       "_view_count": null,
       "_view_module": "@jupyter-widgets/base",
       "_view_module_version": "1.2.0",
       "_view_name": "StyleView",
       "bar_color": null,
       "description_width": ""
      }
     },
     "20cb0400c2d5494e85aa32c2ca2ef1c4": {
      "model_module": "@jupyter-widgets/base",
      "model_module_version": "1.2.0",
      "model_name": "LayoutModel",
      "state": {
       "_model_module": "@jupyter-widgets/base",
       "_model_module_version": "1.2.0",
       "_model_name": "LayoutModel",
       "_view_count": null,
       "_view_module": "@jupyter-widgets/base",
       "_view_module_version": "1.2.0",
       "_view_name": "LayoutView",
       "align_content": null,
       "align_items": null,
       "align_self": null,
       "border": null,
       "bottom": null,
       "display": null,
       "flex": null,
       "flex_flow": null,
       "grid_area": null,
       "grid_auto_columns": null,
       "grid_auto_flow": null,
       "grid_auto_rows": null,
       "grid_column": null,
       "grid_gap": null,
       "grid_row": null,
       "grid_template_areas": null,
       "grid_template_columns": null,
       "grid_template_rows": null,
       "height": null,
       "justify_content": null,
       "justify_items": null,
       "left": null,
       "margin": null,
       "max_height": null,
       "max_width": null,
       "min_height": null,
       "min_width": null,
       "object_fit": null,
       "object_position": null,
       "order": null,
       "overflow": null,
       "overflow_x": null,
       "overflow_y": null,
       "padding": null,
       "right": null,
       "top": null,
       "visibility": null,
       "width": null
      }
     },
     "3574649e12964c88b2330f48669294a3": {
      "model_module": "@jupyter-widgets/base",
      "model_module_version": "1.2.0",
      "model_name": "LayoutModel",
      "state": {
       "_model_module": "@jupyter-widgets/base",
       "_model_module_version": "1.2.0",
       "_model_name": "LayoutModel",
       "_view_count": null,
       "_view_module": "@jupyter-widgets/base",
       "_view_module_version": "1.2.0",
       "_view_name": "LayoutView",
       "align_content": null,
       "align_items": null,
       "align_self": null,
       "border": null,
       "bottom": null,
       "display": null,
       "flex": null,
       "flex_flow": null,
       "grid_area": null,
       "grid_auto_columns": null,
       "grid_auto_flow": null,
       "grid_auto_rows": null,
       "grid_column": null,
       "grid_gap": null,
       "grid_row": null,
       "grid_template_areas": null,
       "grid_template_columns": null,
       "grid_template_rows": null,
       "height": null,
       "justify_content": null,
       "justify_items": null,
       "left": null,
       "margin": null,
       "max_height": null,
       "max_width": null,
       "min_height": null,
       "min_width": null,
       "object_fit": null,
       "object_position": null,
       "order": null,
       "overflow": null,
       "overflow_x": null,
       "overflow_y": null,
       "padding": null,
       "right": null,
       "top": null,
       "visibility": null,
       "width": null
      }
     },
     "394501bb2dd94f45988112712e051e4b": {
      "model_module": "@jupyter-widgets/controls",
      "model_module_version": "1.5.0",
      "model_name": "HTMLModel",
      "state": {
       "_dom_classes": [],
       "_model_module": "@jupyter-widgets/controls",
       "_model_module_version": "1.5.0",
       "_model_name": "HTMLModel",
       "_view_count": null,
       "_view_module": "@jupyter-widgets/controls",
       "_view_module_version": "1.5.0",
       "_view_name": "HTMLView",
       "description": "",
       "description_tooltip": null,
       "layout": "IPY_MODEL_20cb0400c2d5494e85aa32c2ca2ef1c4",
       "placeholder": "​",
       "style": "IPY_MODEL_1075b1a0e6594366891885ad756e5d88",
       "value": " 442/442 [00:00&lt;00:00, 15.5kB/s]"
      }
     },
     "3e446c597d1745f5a172da3811333430": {
      "model_module": "@jupyter-widgets/base",
      "model_module_version": "1.2.0",
      "model_name": "LayoutModel",
      "state": {
       "_model_module": "@jupyter-widgets/base",
       "_model_module_version": "1.2.0",
       "_model_name": "LayoutModel",
       "_view_count": null,
       "_view_module": "@jupyter-widgets/base",
       "_view_module_version": "1.2.0",
       "_view_name": "LayoutView",
       "align_content": null,
       "align_items": null,
       "align_self": null,
       "border": null,
       "bottom": null,
       "display": null,
       "flex": null,
       "flex_flow": null,
       "grid_area": null,
       "grid_auto_columns": null,
       "grid_auto_flow": null,
       "grid_auto_rows": null,
       "grid_column": null,
       "grid_gap": null,
       "grid_row": null,
       "grid_template_areas": null,
       "grid_template_columns": null,
       "grid_template_rows": null,
       "height": null,
       "justify_content": null,
       "justify_items": null,
       "left": null,
       "margin": null,
       "max_height": null,
       "max_width": null,
       "min_height": null,
       "min_width": null,
       "object_fit": null,
       "object_position": null,
       "order": null,
       "overflow": null,
       "overflow_x": null,
       "overflow_y": null,
       "padding": null,
       "right": null,
       "top": null,
       "visibility": null,
       "width": null
      }
     },
     "3eac81f17f5044008220cb80f700db00": {
      "model_module": "@jupyter-widgets/base",
      "model_module_version": "1.2.0",
      "model_name": "LayoutModel",
      "state": {
       "_model_module": "@jupyter-widgets/base",
       "_model_module_version": "1.2.0",
       "_model_name": "LayoutModel",
       "_view_count": null,
       "_view_module": "@jupyter-widgets/base",
       "_view_module_version": "1.2.0",
       "_view_name": "LayoutView",
       "align_content": null,
       "align_items": null,
       "align_self": null,
       "border": null,
       "bottom": null,
       "display": null,
       "flex": null,
       "flex_flow": null,
       "grid_area": null,
       "grid_auto_columns": null,
       "grid_auto_flow": null,
       "grid_auto_rows": null,
       "grid_column": null,
       "grid_gap": null,
       "grid_row": null,
       "grid_template_areas": null,
       "grid_template_columns": null,
       "grid_template_rows": null,
       "height": null,
       "justify_content": null,
       "justify_items": null,
       "left": null,
       "margin": null,
       "max_height": null,
       "max_width": null,
       "min_height": null,
       "min_width": null,
       "object_fit": null,
       "object_position": null,
       "order": null,
       "overflow": null,
       "overflow_x": null,
       "overflow_y": null,
       "padding": null,
       "right": null,
       "top": null,
       "visibility": null,
       "width": null
      }
     },
     "3ff956029f234901af2c397bfc44666a": {
      "model_module": "@jupyter-widgets/controls",
      "model_module_version": "1.5.0",
      "model_name": "DescriptionStyleModel",
      "state": {
       "_model_module": "@jupyter-widgets/controls",
       "_model_module_version": "1.5.0",
       "_model_name": "DescriptionStyleModel",
       "_view_count": null,
       "_view_module": "@jupyter-widgets/base",
       "_view_module_version": "1.2.0",
       "_view_name": "StyleView",
       "description_width": ""
      }
     },
     "4242b50978d2496cbc53f19693c931d2": {
      "model_module": "@jupyter-widgets/controls",
      "model_module_version": "1.5.0",
      "model_name": "DescriptionStyleModel",
      "state": {
       "_model_module": "@jupyter-widgets/controls",
       "_model_module_version": "1.5.0",
       "_model_name": "DescriptionStyleModel",
       "_view_count": null,
       "_view_module": "@jupyter-widgets/base",
       "_view_module_version": "1.2.0",
       "_view_name": "StyleView",
       "description_width": ""
      }
     },
     "42e5ba5e85ef4e7bb61dd38f2e228133": {
      "model_module": "@jupyter-widgets/controls",
      "model_module_version": "1.5.0",
      "model_name": "ProgressStyleModel",
      "state": {
       "_model_module": "@jupyter-widgets/controls",
       "_model_module_version": "1.5.0",
       "_model_name": "ProgressStyleModel",
       "_view_count": null,
       "_view_module": "@jupyter-widgets/base",
       "_view_module_version": "1.2.0",
       "_view_name": "StyleView",
       "bar_color": null,
       "description_width": ""
      }
     },
     "43056cb190f244db8c02789739ed966b": {
      "model_module": "@jupyter-widgets/controls",
      "model_module_version": "1.5.0",
      "model_name": "HTMLModel",
      "state": {
       "_dom_classes": [],
       "_model_module": "@jupyter-widgets/controls",
       "_model_module_version": "1.5.0",
       "_model_name": "HTMLModel",
       "_view_count": null,
       "_view_module": "@jupyter-widgets/controls",
       "_view_module_version": "1.5.0",
       "_view_name": "HTMLView",
       "description": "",
       "description_tooltip": null,
       "layout": "IPY_MODEL_fe47dd50fa9743b09edd6572656f0be7",
       "placeholder": "​",
       "style": "IPY_MODEL_73b1a9615b8a497f966efacf003ebce2",
       "value": " 28.0/28.0 [00:00&lt;00:00, 945B/s]"
      }
     },
     "44d27abcb372439ba2ca8d56e1e74bfc": {
      "model_module": "@jupyter-widgets/controls",
      "model_module_version": "1.5.0",
      "model_name": "FloatProgressModel",
      "state": {
       "_dom_classes": [],
       "_model_module": "@jupyter-widgets/controls",
       "_model_module_version": "1.5.0",
       "_model_name": "FloatProgressModel",
       "_view_count": null,
       "_view_module": "@jupyter-widgets/controls",
       "_view_module_version": "1.5.0",
       "_view_name": "ProgressView",
       "bar_style": "success",
       "description": "",
       "description_tooltip": null,
       "layout": "IPY_MODEL_3eac81f17f5044008220cb80f700db00",
       "max": 28,
       "min": 0,
       "orientation": "horizontal",
       "style": "IPY_MODEL_e0b63d5a185046a989294975ee7db80b",
       "value": 28
      }
     },
     "476e76d130d14649905b6e40f50fcbef": {
      "model_module": "@jupyter-widgets/controls",
      "model_module_version": "1.5.0",
      "model_name": "DescriptionStyleModel",
      "state": {
       "_model_module": "@jupyter-widgets/controls",
       "_model_module_version": "1.5.0",
       "_model_name": "DescriptionStyleModel",
       "_view_count": null,
       "_view_module": "@jupyter-widgets/base",
       "_view_module_version": "1.2.0",
       "_view_name": "StyleView",
       "description_width": ""
      }
     },
     "4962c9c5474948ca9c5f75447d628a13": {
      "model_module": "@jupyter-widgets/controls",
      "model_module_version": "1.5.0",
      "model_name": "HTMLModel",
      "state": {
       "_dom_classes": [],
       "_model_module": "@jupyter-widgets/controls",
       "_model_module_version": "1.5.0",
       "_model_name": "HTMLModel",
       "_view_count": null,
       "_view_module": "@jupyter-widgets/controls",
       "_view_module_version": "1.5.0",
       "_view_name": "HTMLView",
       "description": "",
       "description_tooltip": null,
       "layout": "IPY_MODEL_85ff386e227d4465b46787c36e502b96",
       "placeholder": "​",
       "style": "IPY_MODEL_476e76d130d14649905b6e40f50fcbef",
       "value": "Downloading: 100%"
      }
     },
     "51cc61295a044f83a9795a8a1750972a": {
      "model_module": "@jupyter-widgets/controls",
      "model_module_version": "1.5.0",
      "model_name": "HTMLModel",
      "state": {
       "_dom_classes": [],
       "_model_module": "@jupyter-widgets/controls",
       "_model_module_version": "1.5.0",
       "_model_name": "HTMLModel",
       "_view_count": null,
       "_view_module": "@jupyter-widgets/controls",
       "_view_module_version": "1.5.0",
       "_view_name": "HTMLView",
       "description": "",
       "description_tooltip": null,
       "layout": "IPY_MODEL_e72f98a725ee48e38ef634d8d3066610",
       "placeholder": "​",
       "style": "IPY_MODEL_d3f38e87c2cd459291767f1b8500dc9d",
       "value": "Downloading: 100%"
      }
     },
     "58096da90ab840faa5ca57098dc808bf": {
      "model_module": "@jupyter-widgets/controls",
      "model_module_version": "1.5.0",
      "model_name": "HTMLModel",
      "state": {
       "_dom_classes": [],
       "_model_module": "@jupyter-widgets/controls",
       "_model_module_version": "1.5.0",
       "_model_name": "HTMLModel",
       "_view_count": null,
       "_view_module": "@jupyter-widgets/controls",
       "_view_module_version": "1.5.0",
       "_view_name": "HTMLView",
       "description": "",
       "description_tooltip": null,
       "layout": "IPY_MODEL_3e446c597d1745f5a172da3811333430",
       "placeholder": "​",
       "style": "IPY_MODEL_3ff956029f234901af2c397bfc44666a",
       "value": "Downloading: 100%"
      }
     },
     "588a771d066647d0bd3e8f08c4902410": {
      "model_module": "@jupyter-widgets/controls",
      "model_module_version": "1.5.0",
      "model_name": "HBoxModel",
      "state": {
       "_dom_classes": [],
       "_model_module": "@jupyter-widgets/controls",
       "_model_module_version": "1.5.0",
       "_model_name": "HBoxModel",
       "_view_count": null,
       "_view_module": "@jupyter-widgets/controls",
       "_view_module_version": "1.5.0",
       "_view_name": "HBoxView",
       "box_style": "",
       "children": [
        "IPY_MODEL_4962c9c5474948ca9c5f75447d628a13",
        "IPY_MODEL_9a4da260e04c4d4a91e5abdf1c945866",
        "IPY_MODEL_a6b279815c3049df9ed0c7a5eec2074f"
       ],
       "layout": "IPY_MODEL_7854c10be8084c0381ac2a962ed56fad"
      }
     },
     "5f51e31a47e143379072f4404347ead7": {
      "model_module": "@jupyter-widgets/controls",
      "model_module_version": "1.5.0",
      "model_name": "HBoxModel",
      "state": {
       "_dom_classes": [],
       "_model_module": "@jupyter-widgets/controls",
       "_model_module_version": "1.5.0",
       "_model_name": "HBoxModel",
       "_view_count": null,
       "_view_module": "@jupyter-widgets/controls",
       "_view_module_version": "1.5.0",
       "_view_name": "HBoxView",
       "box_style": "",
       "children": [
        "IPY_MODEL_85b64d583e7f4b91af89a21719cfc56a",
        "IPY_MODEL_44d27abcb372439ba2ca8d56e1e74bfc",
        "IPY_MODEL_43056cb190f244db8c02789739ed966b"
       ],
       "layout": "IPY_MODEL_c8993c61289d4fab8100524bae8a9e98"
      }
     },
     "69f71f819aab469ba6a9a521930933b8": {
      "model_module": "@jupyter-widgets/base",
      "model_module_version": "1.2.0",
      "model_name": "LayoutModel",
      "state": {
       "_model_module": "@jupyter-widgets/base",
       "_model_module_version": "1.2.0",
       "_model_name": "LayoutModel",
       "_view_count": null,
       "_view_module": "@jupyter-widgets/base",
       "_view_module_version": "1.2.0",
       "_view_name": "LayoutView",
       "align_content": null,
       "align_items": null,
       "align_self": null,
       "border": null,
       "bottom": null,
       "display": null,
       "flex": null,
       "flex_flow": null,
       "grid_area": null,
       "grid_auto_columns": null,
       "grid_auto_flow": null,
       "grid_auto_rows": null,
       "grid_column": null,
       "grid_gap": null,
       "grid_row": null,
       "grid_template_areas": null,
       "grid_template_columns": null,
       "grid_template_rows": null,
       "height": null,
       "justify_content": null,
       "justify_items": null,
       "left": null,
       "margin": null,
       "max_height": null,
       "max_width": null,
       "min_height": null,
       "min_width": null,
       "object_fit": null,
       "object_position": null,
       "order": null,
       "overflow": null,
       "overflow_x": null,
       "overflow_y": null,
       "padding": null,
       "right": null,
       "top": null,
       "visibility": null,
       "width": null
      }
     },
     "6d3d3c424ec448c1b2181e618177385f": {
      "model_module": "@jupyter-widgets/controls",
      "model_module_version": "1.5.0",
      "model_name": "FloatProgressModel",
      "state": {
       "_dom_classes": [],
       "_model_module": "@jupyter-widgets/controls",
       "_model_module_version": "1.5.0",
       "_model_name": "FloatProgressModel",
       "_view_count": null,
       "_view_module": "@jupyter-widgets/controls",
       "_view_module_version": "1.5.0",
       "_view_name": "ProgressView",
       "bar_style": "success",
       "description": "",
       "description_tooltip": null,
       "layout": "IPY_MODEL_bf6d1ae777e24e42b41c116d0fd449d1",
       "max": 466062,
       "min": 0,
       "orientation": "horizontal",
       "style": "IPY_MODEL_42e5ba5e85ef4e7bb61dd38f2e228133",
       "value": 466062
      }
     },
     "73b1a9615b8a497f966efacf003ebce2": {
      "model_module": "@jupyter-widgets/controls",
      "model_module_version": "1.5.0",
      "model_name": "DescriptionStyleModel",
      "state": {
       "_model_module": "@jupyter-widgets/controls",
       "_model_module_version": "1.5.0",
       "_model_name": "DescriptionStyleModel",
       "_view_count": null,
       "_view_module": "@jupyter-widgets/base",
       "_view_module_version": "1.2.0",
       "_view_name": "StyleView",
       "description_width": ""
      }
     },
     "7418817daa394bae871e7e58e87938ea": {
      "model_module": "@jupyter-widgets/controls",
      "model_module_version": "1.5.0",
      "model_name": "DescriptionStyleModel",
      "state": {
       "_model_module": "@jupyter-widgets/controls",
       "_model_module_version": "1.5.0",
       "_model_name": "DescriptionStyleModel",
       "_view_count": null,
       "_view_module": "@jupyter-widgets/base",
       "_view_module_version": "1.2.0",
       "_view_name": "StyleView",
       "description_width": ""
      }
     },
     "7464d20eee594bfd96a4009dd205cbf2": {
      "model_module": "@jupyter-widgets/controls",
      "model_module_version": "1.5.0",
      "model_name": "DescriptionStyleModel",
      "state": {
       "_model_module": "@jupyter-widgets/controls",
       "_model_module_version": "1.5.0",
       "_model_name": "DescriptionStyleModel",
       "_view_count": null,
       "_view_module": "@jupyter-widgets/base",
       "_view_module_version": "1.2.0",
       "_view_name": "StyleView",
       "description_width": ""
      }
     },
     "755358e38c1e46ffa8d7ad72084467d2": {
      "model_module": "@jupyter-widgets/base",
      "model_module_version": "1.2.0",
      "model_name": "LayoutModel",
      "state": {
       "_model_module": "@jupyter-widgets/base",
       "_model_module_version": "1.2.0",
       "_model_name": "LayoutModel",
       "_view_count": null,
       "_view_module": "@jupyter-widgets/base",
       "_view_module_version": "1.2.0",
       "_view_name": "LayoutView",
       "align_content": null,
       "align_items": null,
       "align_self": null,
       "border": null,
       "bottom": null,
       "display": null,
       "flex": null,
       "flex_flow": null,
       "grid_area": null,
       "grid_auto_columns": null,
       "grid_auto_flow": null,
       "grid_auto_rows": null,
       "grid_column": null,
       "grid_gap": null,
       "grid_row": null,
       "grid_template_areas": null,
       "grid_template_columns": null,
       "grid_template_rows": null,
       "height": null,
       "justify_content": null,
       "justify_items": null,
       "left": null,
       "margin": null,
       "max_height": null,
       "max_width": null,
       "min_height": null,
       "min_width": null,
       "object_fit": null,
       "object_position": null,
       "order": null,
       "overflow": null,
       "overflow_x": null,
       "overflow_y": null,
       "padding": null,
       "right": null,
       "top": null,
       "visibility": null,
       "width": null
      }
     },
     "7854c10be8084c0381ac2a962ed56fad": {
      "model_module": "@jupyter-widgets/base",
      "model_module_version": "1.2.0",
      "model_name": "LayoutModel",
      "state": {
       "_model_module": "@jupyter-widgets/base",
       "_model_module_version": "1.2.0",
       "_model_name": "LayoutModel",
       "_view_count": null,
       "_view_module": "@jupyter-widgets/base",
       "_view_module_version": "1.2.0",
       "_view_name": "LayoutView",
       "align_content": null,
       "align_items": null,
       "align_self": null,
       "border": null,
       "bottom": null,
       "display": null,
       "flex": null,
       "flex_flow": null,
       "grid_area": null,
       "grid_auto_columns": null,
       "grid_auto_flow": null,
       "grid_auto_rows": null,
       "grid_column": null,
       "grid_gap": null,
       "grid_row": null,
       "grid_template_areas": null,
       "grid_template_columns": null,
       "grid_template_rows": null,
       "height": null,
       "justify_content": null,
       "justify_items": null,
       "left": null,
       "margin": null,
       "max_height": null,
       "max_width": null,
       "min_height": null,
       "min_width": null,
       "object_fit": null,
       "object_position": null,
       "order": null,
       "overflow": null,
       "overflow_x": null,
       "overflow_y": null,
       "padding": null,
       "right": null,
       "top": null,
       "visibility": null,
       "width": null
      }
     },
     "85b64d583e7f4b91af89a21719cfc56a": {
      "model_module": "@jupyter-widgets/controls",
      "model_module_version": "1.5.0",
      "model_name": "HTMLModel",
      "state": {
       "_dom_classes": [],
       "_model_module": "@jupyter-widgets/controls",
       "_model_module_version": "1.5.0",
       "_model_name": "HTMLModel",
       "_view_count": null,
       "_view_module": "@jupyter-widgets/controls",
       "_view_module_version": "1.5.0",
       "_view_name": "HTMLView",
       "description": "",
       "description_tooltip": null,
       "layout": "IPY_MODEL_69f71f819aab469ba6a9a521930933b8",
       "placeholder": "​",
       "style": "IPY_MODEL_7418817daa394bae871e7e58e87938ea",
       "value": "Downloading: 100%"
      }
     },
     "85ff386e227d4465b46787c36e502b96": {
      "model_module": "@jupyter-widgets/base",
      "model_module_version": "1.2.0",
      "model_name": "LayoutModel",
      "state": {
       "_model_module": "@jupyter-widgets/base",
       "_model_module_version": "1.2.0",
       "_model_name": "LayoutModel",
       "_view_count": null,
       "_view_module": "@jupyter-widgets/base",
       "_view_module_version": "1.2.0",
       "_view_name": "LayoutView",
       "align_content": null,
       "align_items": null,
       "align_self": null,
       "border": null,
       "bottom": null,
       "display": null,
       "flex": null,
       "flex_flow": null,
       "grid_area": null,
       "grid_auto_columns": null,
       "grid_auto_flow": null,
       "grid_auto_rows": null,
       "grid_column": null,
       "grid_gap": null,
       "grid_row": null,
       "grid_template_areas": null,
       "grid_template_columns": null,
       "grid_template_rows": null,
       "height": null,
       "justify_content": null,
       "justify_items": null,
       "left": null,
       "margin": null,
       "max_height": null,
       "max_width": null,
       "min_height": null,
       "min_width": null,
       "object_fit": null,
       "object_position": null,
       "order": null,
       "overflow": null,
       "overflow_x": null,
       "overflow_y": null,
       "padding": null,
       "right": null,
       "top": null,
       "visibility": null,
       "width": null
      }
     },
     "8d742f3bc4d14fe89d46f5b2d83fdf96": {
      "model_module": "@jupyter-widgets/controls",
      "model_module_version": "1.5.0",
      "model_name": "HTMLModel",
      "state": {
       "_dom_classes": [],
       "_model_module": "@jupyter-widgets/controls",
       "_model_module_version": "1.5.0",
       "_model_name": "HTMLModel",
       "_view_count": null,
       "_view_module": "@jupyter-widgets/controls",
       "_view_module_version": "1.5.0",
       "_view_name": "HTMLView",
       "description": "",
       "description_tooltip": null,
       "layout": "IPY_MODEL_0a3044184377485797fc41a0129fbb7a",
       "placeholder": "​",
       "style": "IPY_MODEL_9a8db3f587974d47a078a6c91f900d8e",
       "value": " 466k/466k [00:00&lt;00:00, 1.10MB/s]"
      }
     },
     "90a0adc8892144b1b6671871c061e2d2": {
      "model_module": "@jupyter-widgets/controls",
      "model_module_version": "1.5.0",
      "model_name": "DescriptionStyleModel",
      "state": {
       "_model_module": "@jupyter-widgets/controls",
       "_model_module_version": "1.5.0",
       "_model_name": "DescriptionStyleModel",
       "_view_count": null,
       "_view_module": "@jupyter-widgets/base",
       "_view_module_version": "1.2.0",
       "_view_name": "StyleView",
       "description_width": ""
      }
     },
     "90ef3304ae44437cb583d1d5fa3a1f44": {
      "model_module": "@jupyter-widgets/base",
      "model_module_version": "1.2.0",
      "model_name": "LayoutModel",
      "state": {
       "_model_module": "@jupyter-widgets/base",
       "_model_module_version": "1.2.0",
       "_model_name": "LayoutModel",
       "_view_count": null,
       "_view_module": "@jupyter-widgets/base",
       "_view_module_version": "1.2.0",
       "_view_name": "LayoutView",
       "align_content": null,
       "align_items": null,
       "align_self": null,
       "border": null,
       "bottom": null,
       "display": null,
       "flex": null,
       "flex_flow": null,
       "grid_area": null,
       "grid_auto_columns": null,
       "grid_auto_flow": null,
       "grid_auto_rows": null,
       "grid_column": null,
       "grid_gap": null,
       "grid_row": null,
       "grid_template_areas": null,
       "grid_template_columns": null,
       "grid_template_rows": null,
       "height": null,
       "justify_content": null,
       "justify_items": null,
       "left": null,
       "margin": null,
       "max_height": null,
       "max_width": null,
       "min_height": null,
       "min_width": null,
       "object_fit": null,
       "object_position": null,
       "order": null,
       "overflow": null,
       "overflow_x": null,
       "overflow_y": null,
       "padding": null,
       "right": null,
       "top": null,
       "visibility": null,
       "width": null
      }
     },
     "967e9df80e264832acb1ca1171c84252": {
      "model_module": "@jupyter-widgets/controls",
      "model_module_version": "1.5.0",
      "model_name": "FloatProgressModel",
      "state": {
       "_dom_classes": [],
       "_model_module": "@jupyter-widgets/controls",
       "_model_module_version": "1.5.0",
       "_model_name": "FloatProgressModel",
       "_view_count": null,
       "_view_module": "@jupyter-widgets/controls",
       "_view_module_version": "1.5.0",
       "_view_name": "ProgressView",
       "bar_style": "success",
       "description": "",
       "description_tooltip": null,
       "layout": "IPY_MODEL_b9a1c629b0ab47ba87a62f3356cce74c",
       "max": 363423424,
       "min": 0,
       "orientation": "horizontal",
       "style": "IPY_MODEL_1ccb47b4f3e4499bb34aaf38dcae7a06",
       "value": 363423424
      }
     },
     "9a4da260e04c4d4a91e5abdf1c945866": {
      "model_module": "@jupyter-widgets/controls",
      "model_module_version": "1.5.0",
      "model_name": "FloatProgressModel",
      "state": {
       "_dom_classes": [],
       "_model_module": "@jupyter-widgets/controls",
       "_model_module_version": "1.5.0",
       "_model_name": "FloatProgressModel",
       "_view_count": null,
       "_view_module": "@jupyter-widgets/controls",
       "_view_module_version": "1.5.0",
       "_view_name": "ProgressView",
       "bar_style": "success",
       "description": "",
       "description_tooltip": null,
       "layout": "IPY_MODEL_b671c732e4de48a0a3e2786b8017dbdd",
       "max": 231508,
       "min": 0,
       "orientation": "horizontal",
       "style": "IPY_MODEL_a85327a524044f65ad8e60d59397cd54",
       "value": 231508
      }
     },
     "9a8db3f587974d47a078a6c91f900d8e": {
      "model_module": "@jupyter-widgets/controls",
      "model_module_version": "1.5.0",
      "model_name": "DescriptionStyleModel",
      "state": {
       "_model_module": "@jupyter-widgets/controls",
       "_model_module_version": "1.5.0",
       "_model_name": "DescriptionStyleModel",
       "_view_count": null,
       "_view_module": "@jupyter-widgets/base",
       "_view_module_version": "1.2.0",
       "_view_name": "StyleView",
       "description_width": ""
      }
     },
     "a1b5ef769bf745ff82db428bf852718c": {
      "model_module": "@jupyter-widgets/base",
      "model_module_version": "1.2.0",
      "model_name": "LayoutModel",
      "state": {
       "_model_module": "@jupyter-widgets/base",
       "_model_module_version": "1.2.0",
       "_model_name": "LayoutModel",
       "_view_count": null,
       "_view_module": "@jupyter-widgets/base",
       "_view_module_version": "1.2.0",
       "_view_name": "LayoutView",
       "align_content": null,
       "align_items": null,
       "align_self": null,
       "border": null,
       "bottom": null,
       "display": null,
       "flex": null,
       "flex_flow": null,
       "grid_area": null,
       "grid_auto_columns": null,
       "grid_auto_flow": null,
       "grid_auto_rows": null,
       "grid_column": null,
       "grid_gap": null,
       "grid_row": null,
       "grid_template_areas": null,
       "grid_template_columns": null,
       "grid_template_rows": null,
       "height": null,
       "justify_content": null,
       "justify_items": null,
       "left": null,
       "margin": null,
       "max_height": null,
       "max_width": null,
       "min_height": null,
       "min_width": null,
       "object_fit": null,
       "object_position": null,
       "order": null,
       "overflow": null,
       "overflow_x": null,
       "overflow_y": null,
       "padding": null,
       "right": null,
       "top": null,
       "visibility": null,
       "width": null
      }
     },
     "a250a499b7b64e24a06c7212477fb9c3": {
      "model_module": "@jupyter-widgets/controls",
      "model_module_version": "1.5.0",
      "model_name": "HBoxModel",
      "state": {
       "_dom_classes": [],
       "_model_module": "@jupyter-widgets/controls",
       "_model_module_version": "1.5.0",
       "_model_name": "HBoxModel",
       "_view_count": null,
       "_view_module": "@jupyter-widgets/controls",
       "_view_module_version": "1.5.0",
       "_view_name": "HBoxView",
       "box_style": "",
       "children": [
        "IPY_MODEL_51cc61295a044f83a9795a8a1750972a",
        "IPY_MODEL_967e9df80e264832acb1ca1171c84252",
        "IPY_MODEL_d299cd0ce38a427fbfb6de5fbf368b4d"
       ],
       "layout": "IPY_MODEL_3574649e12964c88b2330f48669294a3"
      }
     },
     "a6b279815c3049df9ed0c7a5eec2074f": {
      "model_module": "@jupyter-widgets/controls",
      "model_module_version": "1.5.0",
      "model_name": "HTMLModel",
      "state": {
       "_dom_classes": [],
       "_model_module": "@jupyter-widgets/controls",
       "_model_module_version": "1.5.0",
       "_model_name": "HTMLModel",
       "_view_count": null,
       "_view_module": "@jupyter-widgets/controls",
       "_view_module_version": "1.5.0",
       "_view_name": "HTMLView",
       "description": "",
       "description_tooltip": null,
       "layout": "IPY_MODEL_e9ef0ff3d885475e92e739b9f307dc94",
       "placeholder": "​",
       "style": "IPY_MODEL_90a0adc8892144b1b6671871c061e2d2",
       "value": " 232k/232k [00:00&lt;00:00, 901kB/s]"
      }
     },
     "a85327a524044f65ad8e60d59397cd54": {
      "model_module": "@jupyter-widgets/controls",
      "model_module_version": "1.5.0",
      "model_name": "ProgressStyleModel",
      "state": {
       "_model_module": "@jupyter-widgets/controls",
       "_model_module_version": "1.5.0",
       "_model_name": "ProgressStyleModel",
       "_view_count": null,
       "_view_module": "@jupyter-widgets/base",
       "_view_module_version": "1.2.0",
       "_view_name": "StyleView",
       "bar_color": null,
       "description_width": ""
      }
     },
     "b671c732e4de48a0a3e2786b8017dbdd": {
      "model_module": "@jupyter-widgets/base",
      "model_module_version": "1.2.0",
      "model_name": "LayoutModel",
      "state": {
       "_model_module": "@jupyter-widgets/base",
       "_model_module_version": "1.2.0",
       "_model_name": "LayoutModel",
       "_view_count": null,
       "_view_module": "@jupyter-widgets/base",
       "_view_module_version": "1.2.0",
       "_view_name": "LayoutView",
       "align_content": null,
       "align_items": null,
       "align_self": null,
       "border": null,
       "bottom": null,
       "display": null,
       "flex": null,
       "flex_flow": null,
       "grid_area": null,
       "grid_auto_columns": null,
       "grid_auto_flow": null,
       "grid_auto_rows": null,
       "grid_column": null,
       "grid_gap": null,
       "grid_row": null,
       "grid_template_areas": null,
       "grid_template_columns": null,
       "grid_template_rows": null,
       "height": null,
       "justify_content": null,
       "justify_items": null,
       "left": null,
       "margin": null,
       "max_height": null,
       "max_width": null,
       "min_height": null,
       "min_width": null,
       "object_fit": null,
       "object_position": null,
       "order": null,
       "overflow": null,
       "overflow_x": null,
       "overflow_y": null,
       "padding": null,
       "right": null,
       "top": null,
       "visibility": null,
       "width": null
      }
     },
     "b9a1c629b0ab47ba87a62f3356cce74c": {
      "model_module": "@jupyter-widgets/base",
      "model_module_version": "1.2.0",
      "model_name": "LayoutModel",
      "state": {
       "_model_module": "@jupyter-widgets/base",
       "_model_module_version": "1.2.0",
       "_model_name": "LayoutModel",
       "_view_count": null,
       "_view_module": "@jupyter-widgets/base",
       "_view_module_version": "1.2.0",
       "_view_name": "LayoutView",
       "align_content": null,
       "align_items": null,
       "align_self": null,
       "border": null,
       "bottom": null,
       "display": null,
       "flex": null,
       "flex_flow": null,
       "grid_area": null,
       "grid_auto_columns": null,
       "grid_auto_flow": null,
       "grid_auto_rows": null,
       "grid_column": null,
       "grid_gap": null,
       "grid_row": null,
       "grid_template_areas": null,
       "grid_template_columns": null,
       "grid_template_rows": null,
       "height": null,
       "justify_content": null,
       "justify_items": null,
       "left": null,
       "margin": null,
       "max_height": null,
       "max_width": null,
       "min_height": null,
       "min_width": null,
       "object_fit": null,
       "object_position": null,
       "order": null,
       "overflow": null,
       "overflow_x": null,
       "overflow_y": null,
       "padding": null,
       "right": null,
       "top": null,
       "visibility": null,
       "width": null
      }
     },
     "bf6d1ae777e24e42b41c116d0fd449d1": {
      "model_module": "@jupyter-widgets/base",
      "model_module_version": "1.2.0",
      "model_name": "LayoutModel",
      "state": {
       "_model_module": "@jupyter-widgets/base",
       "_model_module_version": "1.2.0",
       "_model_name": "LayoutModel",
       "_view_count": null,
       "_view_module": "@jupyter-widgets/base",
       "_view_module_version": "1.2.0",
       "_view_name": "LayoutView",
       "align_content": null,
       "align_items": null,
       "align_self": null,
       "border": null,
       "bottom": null,
       "display": null,
       "flex": null,
       "flex_flow": null,
       "grid_area": null,
       "grid_auto_columns": null,
       "grid_auto_flow": null,
       "grid_auto_rows": null,
       "grid_column": null,
       "grid_gap": null,
       "grid_row": null,
       "grid_template_areas": null,
       "grid_template_columns": null,
       "grid_template_rows": null,
       "height": null,
       "justify_content": null,
       "justify_items": null,
       "left": null,
       "margin": null,
       "max_height": null,
       "max_width": null,
       "min_height": null,
       "min_width": null,
       "object_fit": null,
       "object_position": null,
       "order": null,
       "overflow": null,
       "overflow_x": null,
       "overflow_y": null,
       "padding": null,
       "right": null,
       "top": null,
       "visibility": null,
       "width": null
      }
     },
     "c8993c61289d4fab8100524bae8a9e98": {
      "model_module": "@jupyter-widgets/base",
      "model_module_version": "1.2.0",
      "model_name": "LayoutModel",
      "state": {
       "_model_module": "@jupyter-widgets/base",
       "_model_module_version": "1.2.0",
       "_model_name": "LayoutModel",
       "_view_count": null,
       "_view_module": "@jupyter-widgets/base",
       "_view_module_version": "1.2.0",
       "_view_name": "LayoutView",
       "align_content": null,
       "align_items": null,
       "align_self": null,
       "border": null,
       "bottom": null,
       "display": null,
       "flex": null,
       "flex_flow": null,
       "grid_area": null,
       "grid_auto_columns": null,
       "grid_auto_flow": null,
       "grid_auto_rows": null,
       "grid_column": null,
       "grid_gap": null,
       "grid_row": null,
       "grid_template_areas": null,
       "grid_template_columns": null,
       "grid_template_rows": null,
       "height": null,
       "justify_content": null,
       "justify_items": null,
       "left": null,
       "margin": null,
       "max_height": null,
       "max_width": null,
       "min_height": null,
       "min_width": null,
       "object_fit": null,
       "object_position": null,
       "order": null,
       "overflow": null,
       "overflow_x": null,
       "overflow_y": null,
       "padding": null,
       "right": null,
       "top": null,
       "visibility": null,
       "width": null
      }
     },
     "cd81512edf39404ea26096cc3b1e98c8": {
      "model_module": "@jupyter-widgets/controls",
      "model_module_version": "1.5.0",
      "model_name": "HBoxModel",
      "state": {
       "_dom_classes": [],
       "_model_module": "@jupyter-widgets/controls",
       "_model_module_version": "1.5.0",
       "_model_name": "HBoxModel",
       "_view_count": null,
       "_view_module": "@jupyter-widgets/controls",
       "_view_module_version": "1.5.0",
       "_view_name": "HBoxView",
       "box_style": "",
       "children": [
        "IPY_MODEL_f74d52c520ca401da0640498ea29f1d4",
        "IPY_MODEL_1b39ef508dc04233971bd7d5759b5bde",
        "IPY_MODEL_394501bb2dd94f45988112712e051e4b"
       ],
       "layout": "IPY_MODEL_18bd7359496d424cb290295a13d05a10"
      }
     },
     "cfe47e0c856946d2880a2dcc0858a251": {
      "model_module": "@jupyter-widgets/base",
      "model_module_version": "1.2.0",
      "model_name": "LayoutModel",
      "state": {
       "_model_module": "@jupyter-widgets/base",
       "_model_module_version": "1.2.0",
       "_model_name": "LayoutModel",
       "_view_count": null,
       "_view_module": "@jupyter-widgets/base",
       "_view_module_version": "1.2.0",
       "_view_name": "LayoutView",
       "align_content": null,
       "align_items": null,
       "align_self": null,
       "border": null,
       "bottom": null,
       "display": null,
       "flex": null,
       "flex_flow": null,
       "grid_area": null,
       "grid_auto_columns": null,
       "grid_auto_flow": null,
       "grid_auto_rows": null,
       "grid_column": null,
       "grid_gap": null,
       "grid_row": null,
       "grid_template_areas": null,
       "grid_template_columns": null,
       "grid_template_rows": null,
       "height": null,
       "justify_content": null,
       "justify_items": null,
       "left": null,
       "margin": null,
       "max_height": null,
       "max_width": null,
       "min_height": null,
       "min_width": null,
       "object_fit": null,
       "object_position": null,
       "order": null,
       "overflow": null,
       "overflow_x": null,
       "overflow_y": null,
       "padding": null,
       "right": null,
       "top": null,
       "visibility": null,
       "width": null
      }
     },
     "d299cd0ce38a427fbfb6de5fbf368b4d": {
      "model_module": "@jupyter-widgets/controls",
      "model_module_version": "1.5.0",
      "model_name": "HTMLModel",
      "state": {
       "_dom_classes": [],
       "_model_module": "@jupyter-widgets/controls",
       "_model_module_version": "1.5.0",
       "_model_name": "HTMLModel",
       "_view_count": null,
       "_view_module": "@jupyter-widgets/controls",
       "_view_module_version": "1.5.0",
       "_view_name": "HTMLView",
       "description": "",
       "description_tooltip": null,
       "layout": "IPY_MODEL_755358e38c1e46ffa8d7ad72084467d2",
       "placeholder": "​",
       "style": "IPY_MODEL_7464d20eee594bfd96a4009dd205cbf2",
       "value": " 363M/363M [00:12&lt;00:00, 31.1MB/s]"
      }
     },
     "d3f38e87c2cd459291767f1b8500dc9d": {
      "model_module": "@jupyter-widgets/controls",
      "model_module_version": "1.5.0",
      "model_name": "DescriptionStyleModel",
      "state": {
       "_model_module": "@jupyter-widgets/controls",
       "_model_module_version": "1.5.0",
       "_model_name": "DescriptionStyleModel",
       "_view_count": null,
       "_view_module": "@jupyter-widgets/base",
       "_view_module_version": "1.2.0",
       "_view_name": "StyleView",
       "description_width": ""
      }
     },
     "e0b63d5a185046a989294975ee7db80b": {
      "model_module": "@jupyter-widgets/controls",
      "model_module_version": "1.5.0",
      "model_name": "ProgressStyleModel",
      "state": {
       "_model_module": "@jupyter-widgets/controls",
       "_model_module_version": "1.5.0",
       "_model_name": "ProgressStyleModel",
       "_view_count": null,
       "_view_module": "@jupyter-widgets/base",
       "_view_module_version": "1.2.0",
       "_view_name": "StyleView",
       "bar_color": null,
       "description_width": ""
      }
     },
     "e3317f46b5fc4c2b8d9f7a35fc58f15a": {
      "model_module": "@jupyter-widgets/controls",
      "model_module_version": "1.5.0",
      "model_name": "HBoxModel",
      "state": {
       "_dom_classes": [],
       "_model_module": "@jupyter-widgets/controls",
       "_model_module_version": "1.5.0",
       "_model_name": "HBoxModel",
       "_view_count": null,
       "_view_module": "@jupyter-widgets/controls",
       "_view_module_version": "1.5.0",
       "_view_name": "HBoxView",
       "box_style": "",
       "children": [
        "IPY_MODEL_58096da90ab840faa5ca57098dc808bf",
        "IPY_MODEL_6d3d3c424ec448c1b2181e618177385f",
        "IPY_MODEL_8d742f3bc4d14fe89d46f5b2d83fdf96"
       ],
       "layout": "IPY_MODEL_90ef3304ae44437cb583d1d5fa3a1f44"
      }
     },
     "e72f98a725ee48e38ef634d8d3066610": {
      "model_module": "@jupyter-widgets/base",
      "model_module_version": "1.2.0",
      "model_name": "LayoutModel",
      "state": {
       "_model_module": "@jupyter-widgets/base",
       "_model_module_version": "1.2.0",
       "_model_name": "LayoutModel",
       "_view_count": null,
       "_view_module": "@jupyter-widgets/base",
       "_view_module_version": "1.2.0",
       "_view_name": "LayoutView",
       "align_content": null,
       "align_items": null,
       "align_self": null,
       "border": null,
       "bottom": null,
       "display": null,
       "flex": null,
       "flex_flow": null,
       "grid_area": null,
       "grid_auto_columns": null,
       "grid_auto_flow": null,
       "grid_auto_rows": null,
       "grid_column": null,
       "grid_gap": null,
       "grid_row": null,
       "grid_template_areas": null,
       "grid_template_columns": null,
       "grid_template_rows": null,
       "height": null,
       "justify_content": null,
       "justify_items": null,
       "left": null,
       "margin": null,
       "max_height": null,
       "max_width": null,
       "min_height": null,
       "min_width": null,
       "object_fit": null,
       "object_position": null,
       "order": null,
       "overflow": null,
       "overflow_x": null,
       "overflow_y": null,
       "padding": null,
       "right": null,
       "top": null,
       "visibility": null,
       "width": null
      }
     },
     "e9ef0ff3d885475e92e739b9f307dc94": {
      "model_module": "@jupyter-widgets/base",
      "model_module_version": "1.2.0",
      "model_name": "LayoutModel",
      "state": {
       "_model_module": "@jupyter-widgets/base",
       "_model_module_version": "1.2.0",
       "_model_name": "LayoutModel",
       "_view_count": null,
       "_view_module": "@jupyter-widgets/base",
       "_view_module_version": "1.2.0",
       "_view_name": "LayoutView",
       "align_content": null,
       "align_items": null,
       "align_self": null,
       "border": null,
       "bottom": null,
       "display": null,
       "flex": null,
       "flex_flow": null,
       "grid_area": null,
       "grid_auto_columns": null,
       "grid_auto_flow": null,
       "grid_auto_rows": null,
       "grid_column": null,
       "grid_gap": null,
       "grid_row": null,
       "grid_template_areas": null,
       "grid_template_columns": null,
       "grid_template_rows": null,
       "height": null,
       "justify_content": null,
       "justify_items": null,
       "left": null,
       "margin": null,
       "max_height": null,
       "max_width": null,
       "min_height": null,
       "min_width": null,
       "object_fit": null,
       "object_position": null,
       "order": null,
       "overflow": null,
       "overflow_x": null,
       "overflow_y": null,
       "padding": null,
       "right": null,
       "top": null,
       "visibility": null,
       "width": null
      }
     },
     "f74d52c520ca401da0640498ea29f1d4": {
      "model_module": "@jupyter-widgets/controls",
      "model_module_version": "1.5.0",
      "model_name": "HTMLModel",
      "state": {
       "_dom_classes": [],
       "_model_module": "@jupyter-widgets/controls",
       "_model_module_version": "1.5.0",
       "_model_name": "HTMLModel",
       "_view_count": null,
       "_view_module": "@jupyter-widgets/controls",
       "_view_module_version": "1.5.0",
       "_view_name": "HTMLView",
       "description": "",
       "description_tooltip": null,
       "layout": "IPY_MODEL_cfe47e0c856946d2880a2dcc0858a251",
       "placeholder": "​",
       "style": "IPY_MODEL_4242b50978d2496cbc53f19693c931d2",
       "value": "Downloading: 100%"
      }
     },
     "fe47dd50fa9743b09edd6572656f0be7": {
      "model_module": "@jupyter-widgets/base",
      "model_module_version": "1.2.0",
      "model_name": "LayoutModel",
      "state": {
       "_model_module": "@jupyter-widgets/base",
       "_model_module_version": "1.2.0",
       "_model_name": "LayoutModel",
       "_view_count": null,
       "_view_module": "@jupyter-widgets/base",
       "_view_module_version": "1.2.0",
       "_view_name": "LayoutView",
       "align_content": null,
       "align_items": null,
       "align_self": null,
       "border": null,
       "bottom": null,
       "display": null,
       "flex": null,
       "flex_flow": null,
       "grid_area": null,
       "grid_auto_columns": null,
       "grid_auto_flow": null,
       "grid_auto_rows": null,
       "grid_column": null,
       "grid_gap": null,
       "grid_row": null,
       "grid_template_areas": null,
       "grid_template_columns": null,
       "grid_template_rows": null,
       "height": null,
       "justify_content": null,
       "justify_items": null,
       "left": null,
       "margin": null,
       "max_height": null,
       "max_width": null,
       "min_height": null,
       "min_width": null,
       "object_fit": null,
       "object_position": null,
       "order": null,
       "overflow": null,
       "overflow_x": null,
       "overflow_y": null,
       "padding": null,
       "right": null,
       "top": null,
       "visibility": null,
       "width": null
      }
     }
    },
    "version_major": 2,
    "version_minor": 0
   }
  }
 },
 "nbformat": 4,
 "nbformat_minor": 5
}